{
  "cells": [
    {
      "cell_type": "markdown",
      "id": "ca72fdb8-8691-4297-983a-4ea3832223b9",
      "metadata": {
        "id": "ca72fdb8-8691-4297-983a-4ea3832223b9"
      },
      "source": [
        "# Тема проекта\n"
      ]
    },
    {
      "cell_type": "markdown",
      "source": [
        "# Изучение и анализ данных втомобилей Ford"
      ],
      "metadata": {
        "id": "HRRS0kNFqEJl"
      },
      "id": "HRRS0kNFqEJl"
    },
    {
      "cell_type": "markdown",
      "id": "3b8afdb3-c981-41bc-b3d9-f8fd542d6c20",
      "metadata": {
        "id": "3b8afdb3-c981-41bc-b3d9-f8fd542d6c20"
      },
      "source": [
        "# Описание проекта"
      ]
    },
    {
      "cell_type": "markdown",
      "source": [
        "**Проект по изучению  данных автомобилей** **Ford** направлен на анализ данных о моделях, годах выпуска, ценах, пробеге и других характеристиках автомобилей для оптимизации ценообразования, выявления потребительских предпочтений и улучшения планирования производства.\n",
        "\n",
        "**Бизнес-задача**: Анализ цен на автомобили Ford и поиск зависимостей между характеристиками автомобилей и их стоимостью."
      ],
      "metadata": {
        "id": "bzCTBsosohXn"
      },
      "id": "bzCTBsosohXn"
    },
    {
      "cell_type": "markdown",
      "source": [
        "# Цели проекта\n",
        "1.\t**Изучение рынка автомобилей Ford**: Анализ различных аспектов автомобилей Ford, включая модели, год выпуска, цены и другие характеристики.\n",
        "2.\t**Анализ потребительских предпочтений**: Выявление тенденций и предпочтений покупателей на основе данных о продажах и характеристиках автомобилей.\n",
        "\n",
        "\n",
        "\n",
        "---\n",
        "\n",
        "\n",
        "\n",
        "# Задачи проекта\n",
        "1.\t**Сбор и очистка данных**: Сбор данных по указанным характеристикам автомобилей Ford и их предварительная обработка.\n",
        "2.\t**Анализ данных**: Проведение анализа для выявления закономерностей и зависимостей между различными характеристиками автомобилей.\n",
        "3.\t**Отчетность и визуализация**: Подготовка отчетов и визуализаций для представления результатов анализа.\n",
        "\n",
        "\n",
        "---\n",
        "# Характеристики данных\n",
        "1.\t**model**: Моедль автомобиля Ford.\n",
        "2.\t**year**: Год выпуска автомобиля.\n",
        "3.\t**price**: Стоимость автомобиля в долларах США.\n",
        "4.\t**transmission**: Тип коробки передач (автоматическая, механическая, полуавтоматическая).\n",
        "5.\t**mileage**: Количество пройденных миль.\n",
        "6.\t**fuel_Type**: Тип топлива (бензин, дизель, гибрид, электромобиль, другое).\n",
        "7.\t**tax**: Годовой налог на автомобиль.\n",
        "8.\t**mpg**: Расход топлива\n",
        "9.\t**engineSize**: Объем двигателя автомобиля.\n",
        "\n",
        "\n"
      ],
      "metadata": {
        "id": "7Teo4Dfumj2R"
      },
      "id": "7Teo4Dfumj2R"
    },
    {
      "cell_type": "markdown",
      "id": "512e47cb-27fc-4de6-851b-fcb9e6993da8",
      "metadata": {
        "id": "512e47cb-27fc-4de6-851b-fcb9e6993da8"
      },
      "source": [
        "# Предобработка данных"
      ]
    },
    {
      "cell_type": "markdown",
      "id": "b36564ee-5baa-4e6d-84a2-6c94156600d1",
      "metadata": {
        "id": "b36564ee-5baa-4e6d-84a2-6c94156600d1"
      },
      "source": [
        "## 1. Загрузка файла с данными и изучение общей информации"
      ]
    },
    {
      "cell_type": "code",
      "execution_count": null,
      "id": "21bca988-e4d4-4e07-b8c8-dbf27c8d602a",
      "metadata": {
        "id": "21bca988-e4d4-4e07-b8c8-dbf27c8d602a"
      },
      "outputs": [],
      "source": [
        "import pandas as pd\n",
        "\n",
        "import seaborn as sns\n",
        "import matplotlib as mpl\n",
        "import matplotlib.pyplot as plt\n",
        "\n",
        "import numpy as np\n",
        "from datetime import datetime"
      ]
    },
    {
      "cell_type": "code",
      "source": [
        "df = pd.read_csv('Ford.zip')"
      ],
      "metadata": {
        "id": "_D_snfEkrtJj"
      },
      "id": "_D_snfEkrtJj",
      "execution_count": null,
      "outputs": []
    },
    {
      "cell_type": "markdown",
      "source": [
        "Вывод первых, последних, случайных столбоцов"
      ],
      "metadata": {
        "id": "MJ9todlftX-w"
      },
      "id": "MJ9todlftX-w"
    },
    {
      "cell_type": "code",
      "source": [
        "df.head()"
      ],
      "metadata": {
        "colab": {
          "base_uri": "https://localhost:8080/",
          "height": 206
        },
        "id": "1ZXvGNWwtbKf",
        "outputId": "e46a5804-c493-4b9e-87ef-77192510291a"
      },
      "id": "1ZXvGNWwtbKf",
      "execution_count": null,
      "outputs": [
        {
          "output_type": "execute_result",
          "data": {
            "text/plain": [
              "     model  year  price transmission  mileage fuelType  tax   mpg  engineSize\n",
              "0   Fiesta  2017  12000    Automatic    15944   Petrol  150  57.7         1.0\n",
              "1    Focus  2018  14000       Manual     9083   Petrol  150  57.7         1.0\n",
              "2    Focus  2017  13000       Manual    12456   Petrol  150  57.7         1.0\n",
              "3   Fiesta  2019  17500       Manual    10460   Petrol  145  40.3         1.5\n",
              "4   Fiesta  2019  16500    Automatic     1482   Petrol  145  48.7         1.0"
            ],
            "text/html": [
              "\n",
              "  <div id=\"df-522a3bc7-7134-40f7-bebb-804fb0ecfcf3\" class=\"colab-df-container\">\n",
              "    <div>\n",
              "<style scoped>\n",
              "    .dataframe tbody tr th:only-of-type {\n",
              "        vertical-align: middle;\n",
              "    }\n",
              "\n",
              "    .dataframe tbody tr th {\n",
              "        vertical-align: top;\n",
              "    }\n",
              "\n",
              "    .dataframe thead th {\n",
              "        text-align: right;\n",
              "    }\n",
              "</style>\n",
              "<table border=\"1\" class=\"dataframe\">\n",
              "  <thead>\n",
              "    <tr style=\"text-align: right;\">\n",
              "      <th></th>\n",
              "      <th>model</th>\n",
              "      <th>year</th>\n",
              "      <th>price</th>\n",
              "      <th>transmission</th>\n",
              "      <th>mileage</th>\n",
              "      <th>fuelType</th>\n",
              "      <th>tax</th>\n",
              "      <th>mpg</th>\n",
              "      <th>engineSize</th>\n",
              "    </tr>\n",
              "  </thead>\n",
              "  <tbody>\n",
              "    <tr>\n",
              "      <th>0</th>\n",
              "      <td>Fiesta</td>\n",
              "      <td>2017</td>\n",
              "      <td>12000</td>\n",
              "      <td>Automatic</td>\n",
              "      <td>15944</td>\n",
              "      <td>Petrol</td>\n",
              "      <td>150</td>\n",
              "      <td>57.7</td>\n",
              "      <td>1.0</td>\n",
              "    </tr>\n",
              "    <tr>\n",
              "      <th>1</th>\n",
              "      <td>Focus</td>\n",
              "      <td>2018</td>\n",
              "      <td>14000</td>\n",
              "      <td>Manual</td>\n",
              "      <td>9083</td>\n",
              "      <td>Petrol</td>\n",
              "      <td>150</td>\n",
              "      <td>57.7</td>\n",
              "      <td>1.0</td>\n",
              "    </tr>\n",
              "    <tr>\n",
              "      <th>2</th>\n",
              "      <td>Focus</td>\n",
              "      <td>2017</td>\n",
              "      <td>13000</td>\n",
              "      <td>Manual</td>\n",
              "      <td>12456</td>\n",
              "      <td>Petrol</td>\n",
              "      <td>150</td>\n",
              "      <td>57.7</td>\n",
              "      <td>1.0</td>\n",
              "    </tr>\n",
              "    <tr>\n",
              "      <th>3</th>\n",
              "      <td>Fiesta</td>\n",
              "      <td>2019</td>\n",
              "      <td>17500</td>\n",
              "      <td>Manual</td>\n",
              "      <td>10460</td>\n",
              "      <td>Petrol</td>\n",
              "      <td>145</td>\n",
              "      <td>40.3</td>\n",
              "      <td>1.5</td>\n",
              "    </tr>\n",
              "    <tr>\n",
              "      <th>4</th>\n",
              "      <td>Fiesta</td>\n",
              "      <td>2019</td>\n",
              "      <td>16500</td>\n",
              "      <td>Automatic</td>\n",
              "      <td>1482</td>\n",
              "      <td>Petrol</td>\n",
              "      <td>145</td>\n",
              "      <td>48.7</td>\n",
              "      <td>1.0</td>\n",
              "    </tr>\n",
              "  </tbody>\n",
              "</table>\n",
              "</div>\n",
              "    <div class=\"colab-df-buttons\">\n",
              "\n",
              "  <div class=\"colab-df-container\">\n",
              "    <button class=\"colab-df-convert\" onclick=\"convertToInteractive('df-522a3bc7-7134-40f7-bebb-804fb0ecfcf3')\"\n",
              "            title=\"Convert this dataframe to an interactive table.\"\n",
              "            style=\"display:none;\">\n",
              "\n",
              "  <svg xmlns=\"http://www.w3.org/2000/svg\" height=\"24px\" viewBox=\"0 -960 960 960\">\n",
              "    <path d=\"M120-120v-720h720v720H120Zm60-500h600v-160H180v160Zm220 220h160v-160H400v160Zm0 220h160v-160H400v160ZM180-400h160v-160H180v160Zm440 0h160v-160H620v160ZM180-180h160v-160H180v160Zm440 0h160v-160H620v160Z\"/>\n",
              "  </svg>\n",
              "    </button>\n",
              "\n",
              "  <style>\n",
              "    .colab-df-container {\n",
              "      display:flex;\n",
              "      gap: 12px;\n",
              "    }\n",
              "\n",
              "    .colab-df-convert {\n",
              "      background-color: #E8F0FE;\n",
              "      border: none;\n",
              "      border-radius: 50%;\n",
              "      cursor: pointer;\n",
              "      display: none;\n",
              "      fill: #1967D2;\n",
              "      height: 32px;\n",
              "      padding: 0 0 0 0;\n",
              "      width: 32px;\n",
              "    }\n",
              "\n",
              "    .colab-df-convert:hover {\n",
              "      background-color: #E2EBFA;\n",
              "      box-shadow: 0px 1px 2px rgba(60, 64, 67, 0.3), 0px 1px 3px 1px rgba(60, 64, 67, 0.15);\n",
              "      fill: #174EA6;\n",
              "    }\n",
              "\n",
              "    .colab-df-buttons div {\n",
              "      margin-bottom: 4px;\n",
              "    }\n",
              "\n",
              "    [theme=dark] .colab-df-convert {\n",
              "      background-color: #3B4455;\n",
              "      fill: #D2E3FC;\n",
              "    }\n",
              "\n",
              "    [theme=dark] .colab-df-convert:hover {\n",
              "      background-color: #434B5C;\n",
              "      box-shadow: 0px 1px 3px 1px rgba(0, 0, 0, 0.15);\n",
              "      filter: drop-shadow(0px 1px 2px rgba(0, 0, 0, 0.3));\n",
              "      fill: #FFFFFF;\n",
              "    }\n",
              "  </style>\n",
              "\n",
              "    <script>\n",
              "      const buttonEl =\n",
              "        document.querySelector('#df-522a3bc7-7134-40f7-bebb-804fb0ecfcf3 button.colab-df-convert');\n",
              "      buttonEl.style.display =\n",
              "        google.colab.kernel.accessAllowed ? 'block' : 'none';\n",
              "\n",
              "      async function convertToInteractive(key) {\n",
              "        const element = document.querySelector('#df-522a3bc7-7134-40f7-bebb-804fb0ecfcf3');\n",
              "        const dataTable =\n",
              "          await google.colab.kernel.invokeFunction('convertToInteractive',\n",
              "                                                    [key], {});\n",
              "        if (!dataTable) return;\n",
              "\n",
              "        const docLinkHtml = 'Like what you see? Visit the ' +\n",
              "          '<a target=\"_blank\" href=https://colab.research.google.com/notebooks/data_table.ipynb>data table notebook</a>'\n",
              "          + ' to learn more about interactive tables.';\n",
              "        element.innerHTML = '';\n",
              "        dataTable['output_type'] = 'display_data';\n",
              "        await google.colab.output.renderOutput(dataTable, element);\n",
              "        const docLink = document.createElement('div');\n",
              "        docLink.innerHTML = docLinkHtml;\n",
              "        element.appendChild(docLink);\n",
              "      }\n",
              "    </script>\n",
              "  </div>\n",
              "\n",
              "\n",
              "<div id=\"df-975033e5-75d6-4202-800e-3b94c7f519e1\">\n",
              "  <button class=\"colab-df-quickchart\" onclick=\"quickchart('df-975033e5-75d6-4202-800e-3b94c7f519e1')\"\n",
              "            title=\"Suggest charts\"\n",
              "            style=\"display:none;\">\n",
              "\n",
              "<svg xmlns=\"http://www.w3.org/2000/svg\" height=\"24px\"viewBox=\"0 0 24 24\"\n",
              "     width=\"24px\">\n",
              "    <g>\n",
              "        <path d=\"M19 3H5c-1.1 0-2 .9-2 2v14c0 1.1.9 2 2 2h14c1.1 0 2-.9 2-2V5c0-1.1-.9-2-2-2zM9 17H7v-7h2v7zm4 0h-2V7h2v10zm4 0h-2v-4h2v4z\"/>\n",
              "    </g>\n",
              "</svg>\n",
              "  </button>\n",
              "\n",
              "<style>\n",
              "  .colab-df-quickchart {\n",
              "      --bg-color: #E8F0FE;\n",
              "      --fill-color: #1967D2;\n",
              "      --hover-bg-color: #E2EBFA;\n",
              "      --hover-fill-color: #174EA6;\n",
              "      --disabled-fill-color: #AAA;\n",
              "      --disabled-bg-color: #DDD;\n",
              "  }\n",
              "\n",
              "  [theme=dark] .colab-df-quickchart {\n",
              "      --bg-color: #3B4455;\n",
              "      --fill-color: #D2E3FC;\n",
              "      --hover-bg-color: #434B5C;\n",
              "      --hover-fill-color: #FFFFFF;\n",
              "      --disabled-bg-color: #3B4455;\n",
              "      --disabled-fill-color: #666;\n",
              "  }\n",
              "\n",
              "  .colab-df-quickchart {\n",
              "    background-color: var(--bg-color);\n",
              "    border: none;\n",
              "    border-radius: 50%;\n",
              "    cursor: pointer;\n",
              "    display: none;\n",
              "    fill: var(--fill-color);\n",
              "    height: 32px;\n",
              "    padding: 0;\n",
              "    width: 32px;\n",
              "  }\n",
              "\n",
              "  .colab-df-quickchart:hover {\n",
              "    background-color: var(--hover-bg-color);\n",
              "    box-shadow: 0 1px 2px rgba(60, 64, 67, 0.3), 0 1px 3px 1px rgba(60, 64, 67, 0.15);\n",
              "    fill: var(--button-hover-fill-color);\n",
              "  }\n",
              "\n",
              "  .colab-df-quickchart-complete:disabled,\n",
              "  .colab-df-quickchart-complete:disabled:hover {\n",
              "    background-color: var(--disabled-bg-color);\n",
              "    fill: var(--disabled-fill-color);\n",
              "    box-shadow: none;\n",
              "  }\n",
              "\n",
              "  .colab-df-spinner {\n",
              "    border: 2px solid var(--fill-color);\n",
              "    border-color: transparent;\n",
              "    border-bottom-color: var(--fill-color);\n",
              "    animation:\n",
              "      spin 1s steps(1) infinite;\n",
              "  }\n",
              "\n",
              "  @keyframes spin {\n",
              "    0% {\n",
              "      border-color: transparent;\n",
              "      border-bottom-color: var(--fill-color);\n",
              "      border-left-color: var(--fill-color);\n",
              "    }\n",
              "    20% {\n",
              "      border-color: transparent;\n",
              "      border-left-color: var(--fill-color);\n",
              "      border-top-color: var(--fill-color);\n",
              "    }\n",
              "    30% {\n",
              "      border-color: transparent;\n",
              "      border-left-color: var(--fill-color);\n",
              "      border-top-color: var(--fill-color);\n",
              "      border-right-color: var(--fill-color);\n",
              "    }\n",
              "    40% {\n",
              "      border-color: transparent;\n",
              "      border-right-color: var(--fill-color);\n",
              "      border-top-color: var(--fill-color);\n",
              "    }\n",
              "    60% {\n",
              "      border-color: transparent;\n",
              "      border-right-color: var(--fill-color);\n",
              "    }\n",
              "    80% {\n",
              "      border-color: transparent;\n",
              "      border-right-color: var(--fill-color);\n",
              "      border-bottom-color: var(--fill-color);\n",
              "    }\n",
              "    90% {\n",
              "      border-color: transparent;\n",
              "      border-bottom-color: var(--fill-color);\n",
              "    }\n",
              "  }\n",
              "</style>\n",
              "\n",
              "  <script>\n",
              "    async function quickchart(key) {\n",
              "      const quickchartButtonEl =\n",
              "        document.querySelector('#' + key + ' button');\n",
              "      quickchartButtonEl.disabled = true;  // To prevent multiple clicks.\n",
              "      quickchartButtonEl.classList.add('colab-df-spinner');\n",
              "      try {\n",
              "        const charts = await google.colab.kernel.invokeFunction(\n",
              "            'suggestCharts', [key], {});\n",
              "      } catch (error) {\n",
              "        console.error('Error during call to suggestCharts:', error);\n",
              "      }\n",
              "      quickchartButtonEl.classList.remove('colab-df-spinner');\n",
              "      quickchartButtonEl.classList.add('colab-df-quickchart-complete');\n",
              "    }\n",
              "    (() => {\n",
              "      let quickchartButtonEl =\n",
              "        document.querySelector('#df-975033e5-75d6-4202-800e-3b94c7f519e1 button');\n",
              "      quickchartButtonEl.style.display =\n",
              "        google.colab.kernel.accessAllowed ? 'block' : 'none';\n",
              "    })();\n",
              "  </script>\n",
              "</div>\n",
              "    </div>\n",
              "  </div>\n"
            ],
            "application/vnd.google.colaboratory.intrinsic+json": {
              "type": "dataframe",
              "variable_name": "df",
              "summary": "{\n  \"name\": \"df\",\n  \"rows\": 17966,\n  \"fields\": [\n    {\n      \"column\": \"model\",\n      \"properties\": {\n        \"dtype\": \"category\",\n        \"num_unique_values\": 24,\n        \"samples\": [\n          \" Tourneo Custom\",\n          \" Mustang\",\n          \" Fiesta\"\n        ],\n        \"semantic_type\": \"\",\n        \"description\": \"\"\n      }\n    },\n    {\n      \"column\": \"year\",\n      \"properties\": {\n        \"dtype\": \"number\",\n        \"std\": 2,\n        \"min\": 1996,\n        \"max\": 2060,\n        \"num_unique_values\": 23,\n        \"samples\": [\n          2005,\n          2008,\n          2017\n        ],\n        \"semantic_type\": \"\",\n        \"description\": \"\"\n      }\n    },\n    {\n      \"column\": \"price\",\n      \"properties\": {\n        \"dtype\": \"number\",\n        \"std\": 4741,\n        \"min\": 495,\n        \"max\": 54995,\n        \"num_unique_values\": 3511,\n        \"samples\": [\n          12460,\n          11590,\n          13710\n        ],\n        \"semantic_type\": \"\",\n        \"description\": \"\"\n      }\n    },\n    {\n      \"column\": \"transmission\",\n      \"properties\": {\n        \"dtype\": \"category\",\n        \"num_unique_values\": 3,\n        \"samples\": [\n          \"Automatic\",\n          \"Manual\",\n          \"Semi-Auto\"\n        ],\n        \"semantic_type\": \"\",\n        \"description\": \"\"\n      }\n    },\n    {\n      \"column\": \"mileage\",\n      \"properties\": {\n        \"dtype\": \"number\",\n        \"std\": 19472,\n        \"min\": 1,\n        \"max\": 177644,\n        \"num_unique_values\": 13528,\n        \"samples\": [\n          9210,\n          3600,\n          20362\n        ],\n        \"semantic_type\": \"\",\n        \"description\": \"\"\n      }\n    },\n    {\n      \"column\": \"fuelType\",\n      \"properties\": {\n        \"dtype\": \"category\",\n        \"num_unique_values\": 5,\n        \"samples\": [\n          \"Diesel\",\n          \"Other\",\n          \"Hybrid\"\n        ],\n        \"semantic_type\": \"\",\n        \"description\": \"\"\n      }\n    },\n    {\n      \"column\": \"tax\",\n      \"properties\": {\n        \"dtype\": \"number\",\n        \"std\": 62,\n        \"min\": 0,\n        \"max\": 580,\n        \"num_unique_values\": 36,\n        \"samples\": [\n          22,\n          205,\n          110\n        ],\n        \"semantic_type\": \"\",\n        \"description\": \"\"\n      }\n    },\n    {\n      \"column\": \"mpg\",\n      \"properties\": {\n        \"dtype\": \"number\",\n        \"std\": 10.125695709164098,\n        \"min\": 20.8,\n        \"max\": 201.8,\n        \"num_unique_values\": 90,\n        \"samples\": [\n          47.1,\n          43.5,\n          37.2\n        ],\n        \"semantic_type\": \"\",\n        \"description\": \"\"\n      }\n    },\n    {\n      \"column\": \"engineSize\",\n      \"properties\": {\n        \"dtype\": \"number\",\n        \"std\": 0.4323672724006969,\n        \"min\": 0.0,\n        \"max\": 5.0,\n        \"num_unique_values\": 16,\n        \"samples\": [\n          1.0,\n          1.5,\n          1.1\n        ],\n        \"semantic_type\": \"\",\n        \"description\": \"\"\n      }\n    }\n  ]\n}"
            }
          },
          "metadata": {},
          "execution_count": 65
        }
      ]
    },
    {
      "cell_type": "code",
      "source": [
        "df.tail()"
      ],
      "metadata": {
        "colab": {
          "base_uri": "https://localhost:8080/",
          "height": 206
        },
        "id": "ACTCdOE8trh6",
        "outputId": "dcd10643-1000-4363-dafe-84b21a7e75cf"
      },
      "id": "ACTCdOE8trh6",
      "execution_count": null,
      "outputs": [
        {
          "output_type": "execute_result",
          "data": {
            "text/plain": [
              "        model  year  price transmission  mileage fuelType  tax   mpg  \\\n",
              "17961   B-MAX  2017   8999       Manual    16700   Petrol  150  47.1   \n",
              "17962   B-MAX  2014   7499       Manual    40700   Petrol   30  57.7   \n",
              "17963   Focus  2015   9999       Manual     7010   Diesel   20  67.3   \n",
              "17964      KA  2018   8299       Manual     5007   Petrol  145  57.7   \n",
              "17965   Focus  2015   8299       Manual     5007   Petrol   22  57.7   \n",
              "\n",
              "       engineSize  \n",
              "17961         1.4  \n",
              "17962         1.0  \n",
              "17963         1.6  \n",
              "17964         1.2  \n",
              "17965         1.0  "
            ],
            "text/html": [
              "\n",
              "  <div id=\"df-314e8120-cac4-4272-8523-e8e824d280c0\" class=\"colab-df-container\">\n",
              "    <div>\n",
              "<style scoped>\n",
              "    .dataframe tbody tr th:only-of-type {\n",
              "        vertical-align: middle;\n",
              "    }\n",
              "\n",
              "    .dataframe tbody tr th {\n",
              "        vertical-align: top;\n",
              "    }\n",
              "\n",
              "    .dataframe thead th {\n",
              "        text-align: right;\n",
              "    }\n",
              "</style>\n",
              "<table border=\"1\" class=\"dataframe\">\n",
              "  <thead>\n",
              "    <tr style=\"text-align: right;\">\n",
              "      <th></th>\n",
              "      <th>model</th>\n",
              "      <th>year</th>\n",
              "      <th>price</th>\n",
              "      <th>transmission</th>\n",
              "      <th>mileage</th>\n",
              "      <th>fuelType</th>\n",
              "      <th>tax</th>\n",
              "      <th>mpg</th>\n",
              "      <th>engineSize</th>\n",
              "    </tr>\n",
              "  </thead>\n",
              "  <tbody>\n",
              "    <tr>\n",
              "      <th>17961</th>\n",
              "      <td>B-MAX</td>\n",
              "      <td>2017</td>\n",
              "      <td>8999</td>\n",
              "      <td>Manual</td>\n",
              "      <td>16700</td>\n",
              "      <td>Petrol</td>\n",
              "      <td>150</td>\n",
              "      <td>47.1</td>\n",
              "      <td>1.4</td>\n",
              "    </tr>\n",
              "    <tr>\n",
              "      <th>17962</th>\n",
              "      <td>B-MAX</td>\n",
              "      <td>2014</td>\n",
              "      <td>7499</td>\n",
              "      <td>Manual</td>\n",
              "      <td>40700</td>\n",
              "      <td>Petrol</td>\n",
              "      <td>30</td>\n",
              "      <td>57.7</td>\n",
              "      <td>1.0</td>\n",
              "    </tr>\n",
              "    <tr>\n",
              "      <th>17963</th>\n",
              "      <td>Focus</td>\n",
              "      <td>2015</td>\n",
              "      <td>9999</td>\n",
              "      <td>Manual</td>\n",
              "      <td>7010</td>\n",
              "      <td>Diesel</td>\n",
              "      <td>20</td>\n",
              "      <td>67.3</td>\n",
              "      <td>1.6</td>\n",
              "    </tr>\n",
              "    <tr>\n",
              "      <th>17964</th>\n",
              "      <td>KA</td>\n",
              "      <td>2018</td>\n",
              "      <td>8299</td>\n",
              "      <td>Manual</td>\n",
              "      <td>5007</td>\n",
              "      <td>Petrol</td>\n",
              "      <td>145</td>\n",
              "      <td>57.7</td>\n",
              "      <td>1.2</td>\n",
              "    </tr>\n",
              "    <tr>\n",
              "      <th>17965</th>\n",
              "      <td>Focus</td>\n",
              "      <td>2015</td>\n",
              "      <td>8299</td>\n",
              "      <td>Manual</td>\n",
              "      <td>5007</td>\n",
              "      <td>Petrol</td>\n",
              "      <td>22</td>\n",
              "      <td>57.7</td>\n",
              "      <td>1.0</td>\n",
              "    </tr>\n",
              "  </tbody>\n",
              "</table>\n",
              "</div>\n",
              "    <div class=\"colab-df-buttons\">\n",
              "\n",
              "  <div class=\"colab-df-container\">\n",
              "    <button class=\"colab-df-convert\" onclick=\"convertToInteractive('df-314e8120-cac4-4272-8523-e8e824d280c0')\"\n",
              "            title=\"Convert this dataframe to an interactive table.\"\n",
              "            style=\"display:none;\">\n",
              "\n",
              "  <svg xmlns=\"http://www.w3.org/2000/svg\" height=\"24px\" viewBox=\"0 -960 960 960\">\n",
              "    <path d=\"M120-120v-720h720v720H120Zm60-500h600v-160H180v160Zm220 220h160v-160H400v160Zm0 220h160v-160H400v160ZM180-400h160v-160H180v160Zm440 0h160v-160H620v160ZM180-180h160v-160H180v160Zm440 0h160v-160H620v160Z\"/>\n",
              "  </svg>\n",
              "    </button>\n",
              "\n",
              "  <style>\n",
              "    .colab-df-container {\n",
              "      display:flex;\n",
              "      gap: 12px;\n",
              "    }\n",
              "\n",
              "    .colab-df-convert {\n",
              "      background-color: #E8F0FE;\n",
              "      border: none;\n",
              "      border-radius: 50%;\n",
              "      cursor: pointer;\n",
              "      display: none;\n",
              "      fill: #1967D2;\n",
              "      height: 32px;\n",
              "      padding: 0 0 0 0;\n",
              "      width: 32px;\n",
              "    }\n",
              "\n",
              "    .colab-df-convert:hover {\n",
              "      background-color: #E2EBFA;\n",
              "      box-shadow: 0px 1px 2px rgba(60, 64, 67, 0.3), 0px 1px 3px 1px rgba(60, 64, 67, 0.15);\n",
              "      fill: #174EA6;\n",
              "    }\n",
              "\n",
              "    .colab-df-buttons div {\n",
              "      margin-bottom: 4px;\n",
              "    }\n",
              "\n",
              "    [theme=dark] .colab-df-convert {\n",
              "      background-color: #3B4455;\n",
              "      fill: #D2E3FC;\n",
              "    }\n",
              "\n",
              "    [theme=dark] .colab-df-convert:hover {\n",
              "      background-color: #434B5C;\n",
              "      box-shadow: 0px 1px 3px 1px rgba(0, 0, 0, 0.15);\n",
              "      filter: drop-shadow(0px 1px 2px rgba(0, 0, 0, 0.3));\n",
              "      fill: #FFFFFF;\n",
              "    }\n",
              "  </style>\n",
              "\n",
              "    <script>\n",
              "      const buttonEl =\n",
              "        document.querySelector('#df-314e8120-cac4-4272-8523-e8e824d280c0 button.colab-df-convert');\n",
              "      buttonEl.style.display =\n",
              "        google.colab.kernel.accessAllowed ? 'block' : 'none';\n",
              "\n",
              "      async function convertToInteractive(key) {\n",
              "        const element = document.querySelector('#df-314e8120-cac4-4272-8523-e8e824d280c0');\n",
              "        const dataTable =\n",
              "          await google.colab.kernel.invokeFunction('convertToInteractive',\n",
              "                                                    [key], {});\n",
              "        if (!dataTable) return;\n",
              "\n",
              "        const docLinkHtml = 'Like what you see? Visit the ' +\n",
              "          '<a target=\"_blank\" href=https://colab.research.google.com/notebooks/data_table.ipynb>data table notebook</a>'\n",
              "          + ' to learn more about interactive tables.';\n",
              "        element.innerHTML = '';\n",
              "        dataTable['output_type'] = 'display_data';\n",
              "        await google.colab.output.renderOutput(dataTable, element);\n",
              "        const docLink = document.createElement('div');\n",
              "        docLink.innerHTML = docLinkHtml;\n",
              "        element.appendChild(docLink);\n",
              "      }\n",
              "    </script>\n",
              "  </div>\n",
              "\n",
              "\n",
              "<div id=\"df-dbd59e6a-11c2-45aa-92c8-6f11ea664f62\">\n",
              "  <button class=\"colab-df-quickchart\" onclick=\"quickchart('df-dbd59e6a-11c2-45aa-92c8-6f11ea664f62')\"\n",
              "            title=\"Suggest charts\"\n",
              "            style=\"display:none;\">\n",
              "\n",
              "<svg xmlns=\"http://www.w3.org/2000/svg\" height=\"24px\"viewBox=\"0 0 24 24\"\n",
              "     width=\"24px\">\n",
              "    <g>\n",
              "        <path d=\"M19 3H5c-1.1 0-2 .9-2 2v14c0 1.1.9 2 2 2h14c1.1 0 2-.9 2-2V5c0-1.1-.9-2-2-2zM9 17H7v-7h2v7zm4 0h-2V7h2v10zm4 0h-2v-4h2v4z\"/>\n",
              "    </g>\n",
              "</svg>\n",
              "  </button>\n",
              "\n",
              "<style>\n",
              "  .colab-df-quickchart {\n",
              "      --bg-color: #E8F0FE;\n",
              "      --fill-color: #1967D2;\n",
              "      --hover-bg-color: #E2EBFA;\n",
              "      --hover-fill-color: #174EA6;\n",
              "      --disabled-fill-color: #AAA;\n",
              "      --disabled-bg-color: #DDD;\n",
              "  }\n",
              "\n",
              "  [theme=dark] .colab-df-quickchart {\n",
              "      --bg-color: #3B4455;\n",
              "      --fill-color: #D2E3FC;\n",
              "      --hover-bg-color: #434B5C;\n",
              "      --hover-fill-color: #FFFFFF;\n",
              "      --disabled-bg-color: #3B4455;\n",
              "      --disabled-fill-color: #666;\n",
              "  }\n",
              "\n",
              "  .colab-df-quickchart {\n",
              "    background-color: var(--bg-color);\n",
              "    border: none;\n",
              "    border-radius: 50%;\n",
              "    cursor: pointer;\n",
              "    display: none;\n",
              "    fill: var(--fill-color);\n",
              "    height: 32px;\n",
              "    padding: 0;\n",
              "    width: 32px;\n",
              "  }\n",
              "\n",
              "  .colab-df-quickchart:hover {\n",
              "    background-color: var(--hover-bg-color);\n",
              "    box-shadow: 0 1px 2px rgba(60, 64, 67, 0.3), 0 1px 3px 1px rgba(60, 64, 67, 0.15);\n",
              "    fill: var(--button-hover-fill-color);\n",
              "  }\n",
              "\n",
              "  .colab-df-quickchart-complete:disabled,\n",
              "  .colab-df-quickchart-complete:disabled:hover {\n",
              "    background-color: var(--disabled-bg-color);\n",
              "    fill: var(--disabled-fill-color);\n",
              "    box-shadow: none;\n",
              "  }\n",
              "\n",
              "  .colab-df-spinner {\n",
              "    border: 2px solid var(--fill-color);\n",
              "    border-color: transparent;\n",
              "    border-bottom-color: var(--fill-color);\n",
              "    animation:\n",
              "      spin 1s steps(1) infinite;\n",
              "  }\n",
              "\n",
              "  @keyframes spin {\n",
              "    0% {\n",
              "      border-color: transparent;\n",
              "      border-bottom-color: var(--fill-color);\n",
              "      border-left-color: var(--fill-color);\n",
              "    }\n",
              "    20% {\n",
              "      border-color: transparent;\n",
              "      border-left-color: var(--fill-color);\n",
              "      border-top-color: var(--fill-color);\n",
              "    }\n",
              "    30% {\n",
              "      border-color: transparent;\n",
              "      border-left-color: var(--fill-color);\n",
              "      border-top-color: var(--fill-color);\n",
              "      border-right-color: var(--fill-color);\n",
              "    }\n",
              "    40% {\n",
              "      border-color: transparent;\n",
              "      border-right-color: var(--fill-color);\n",
              "      border-top-color: var(--fill-color);\n",
              "    }\n",
              "    60% {\n",
              "      border-color: transparent;\n",
              "      border-right-color: var(--fill-color);\n",
              "    }\n",
              "    80% {\n",
              "      border-color: transparent;\n",
              "      border-right-color: var(--fill-color);\n",
              "      border-bottom-color: var(--fill-color);\n",
              "    }\n",
              "    90% {\n",
              "      border-color: transparent;\n",
              "      border-bottom-color: var(--fill-color);\n",
              "    }\n",
              "  }\n",
              "</style>\n",
              "\n",
              "  <script>\n",
              "    async function quickchart(key) {\n",
              "      const quickchartButtonEl =\n",
              "        document.querySelector('#' + key + ' button');\n",
              "      quickchartButtonEl.disabled = true;  // To prevent multiple clicks.\n",
              "      quickchartButtonEl.classList.add('colab-df-spinner');\n",
              "      try {\n",
              "        const charts = await google.colab.kernel.invokeFunction(\n",
              "            'suggestCharts', [key], {});\n",
              "      } catch (error) {\n",
              "        console.error('Error during call to suggestCharts:', error);\n",
              "      }\n",
              "      quickchartButtonEl.classList.remove('colab-df-spinner');\n",
              "      quickchartButtonEl.classList.add('colab-df-quickchart-complete');\n",
              "    }\n",
              "    (() => {\n",
              "      let quickchartButtonEl =\n",
              "        document.querySelector('#df-dbd59e6a-11c2-45aa-92c8-6f11ea664f62 button');\n",
              "      quickchartButtonEl.style.display =\n",
              "        google.colab.kernel.accessAllowed ? 'block' : 'none';\n",
              "    })();\n",
              "  </script>\n",
              "</div>\n",
              "    </div>\n",
              "  </div>\n"
            ],
            "application/vnd.google.colaboratory.intrinsic+json": {
              "type": "dataframe",
              "summary": "{\n  \"name\": \"df\",\n  \"rows\": 5,\n  \"fields\": [\n    {\n      \"column\": \"model\",\n      \"properties\": {\n        \"dtype\": \"string\",\n        \"num_unique_values\": 4,\n        \"samples\": [\n          \" Focus\",\n          \"Focus\",\n          \" B-MAX\"\n        ],\n        \"semantic_type\": \"\",\n        \"description\": \"\"\n      }\n    },\n    {\n      \"column\": \"year\",\n      \"properties\": {\n        \"dtype\": \"number\",\n        \"std\": 1,\n        \"min\": 2014,\n        \"max\": 2018,\n        \"num_unique_values\": 4,\n        \"samples\": [\n          2014,\n          2018,\n          2017\n        ],\n        \"semantic_type\": \"\",\n        \"description\": \"\"\n      }\n    },\n    {\n      \"column\": \"price\",\n      \"properties\": {\n        \"dtype\": \"number\",\n        \"std\": 936,\n        \"min\": 7499,\n        \"max\": 9999,\n        \"num_unique_values\": 4,\n        \"samples\": [\n          7499,\n          8299,\n          8999\n        ],\n        \"semantic_type\": \"\",\n        \"description\": \"\"\n      }\n    },\n    {\n      \"column\": \"transmission\",\n      \"properties\": {\n        \"dtype\": \"category\",\n        \"num_unique_values\": 1,\n        \"samples\": [\n          \"Manual\"\n        ],\n        \"semantic_type\": \"\",\n        \"description\": \"\"\n      }\n    },\n    {\n      \"column\": \"mileage\",\n      \"properties\": {\n        \"dtype\": \"number\",\n        \"std\": 15222,\n        \"min\": 5007,\n        \"max\": 40700,\n        \"num_unique_values\": 4,\n        \"samples\": [\n          40700\n        ],\n        \"semantic_type\": \"\",\n        \"description\": \"\"\n      }\n    },\n    {\n      \"column\": \"fuelType\",\n      \"properties\": {\n        \"dtype\": \"category\",\n        \"num_unique_values\": 2,\n        \"samples\": [\n          \"Diesel\"\n        ],\n        \"semantic_type\": \"\",\n        \"description\": \"\"\n      }\n    },\n    {\n      \"column\": \"tax\",\n      \"properties\": {\n        \"dtype\": \"number\",\n        \"std\": 67,\n        \"min\": 20,\n        \"max\": 150,\n        \"num_unique_values\": 5,\n        \"samples\": [\n          30\n        ],\n        \"semantic_type\": \"\",\n        \"description\": \"\"\n      }\n    },\n    {\n      \"column\": \"mpg\",\n      \"properties\": {\n        \"dtype\": \"number\",\n        \"std\": 7.147027354082254,\n        \"min\": 47.1,\n        \"max\": 67.3,\n        \"num_unique_values\": 3,\n        \"samples\": [\n          47.1\n        ],\n        \"semantic_type\": \"\",\n        \"description\": \"\"\n      }\n    },\n    {\n      \"column\": \"engineSize\",\n      \"properties\": {\n        \"dtype\": \"number\",\n        \"std\": 0.260768096208106,\n        \"min\": 1.0,\n        \"max\": 1.6,\n        \"num_unique_values\": 4,\n        \"samples\": [\n          1.0\n        ],\n        \"semantic_type\": \"\",\n        \"description\": \"\"\n      }\n    }\n  ]\n}"
            }
          },
          "metadata": {},
          "execution_count": 66
        }
      ]
    },
    {
      "cell_type": "code",
      "source": [
        "df.sample(5)"
      ],
      "metadata": {
        "colab": {
          "base_uri": "https://localhost:8080/",
          "height": 206
        },
        "id": "GJs6vmWEt05y",
        "outputId": "6a1939f0-cacd-4a40-9537-fc8d4b66546b"
      },
      "id": "GJs6vmWEt05y",
      "execution_count": null,
      "outputs": [
        {
          "output_type": "execute_result",
          "data": {
            "text/plain": [
              "         model  year  price transmission  mileage fuelType  tax   mpg  \\\n",
              "5475      Edge  2016  21995    Semi-Auto    18702   Diesel  160  48.7   \n",
              "12326     Kuga  2013  10000    Semi-Auto    56742   Diesel  200  45.6   \n",
              "8629    Fiesta  2018  11200       Manual    11997   Petrol  145  65.7   \n",
              "9747    Fiesta  2013   7500       Manual    47093   Petrol    0  65.7   \n",
              "9231     Focus  2017  10995       Manual    27889   Petrol   20  60.1   \n",
              "\n",
              "       engineSize  \n",
              "5475          2.0  \n",
              "12326         2.0  \n",
              "8629          1.0  \n",
              "9747          1.0  \n",
              "9231          1.0  "
            ],
            "text/html": [
              "\n",
              "  <div id=\"df-b678b282-a853-44e8-8370-77bdaa77f7b8\" class=\"colab-df-container\">\n",
              "    <div>\n",
              "<style scoped>\n",
              "    .dataframe tbody tr th:only-of-type {\n",
              "        vertical-align: middle;\n",
              "    }\n",
              "\n",
              "    .dataframe tbody tr th {\n",
              "        vertical-align: top;\n",
              "    }\n",
              "\n",
              "    .dataframe thead th {\n",
              "        text-align: right;\n",
              "    }\n",
              "</style>\n",
              "<table border=\"1\" class=\"dataframe\">\n",
              "  <thead>\n",
              "    <tr style=\"text-align: right;\">\n",
              "      <th></th>\n",
              "      <th>model</th>\n",
              "      <th>year</th>\n",
              "      <th>price</th>\n",
              "      <th>transmission</th>\n",
              "      <th>mileage</th>\n",
              "      <th>fuelType</th>\n",
              "      <th>tax</th>\n",
              "      <th>mpg</th>\n",
              "      <th>engineSize</th>\n",
              "    </tr>\n",
              "  </thead>\n",
              "  <tbody>\n",
              "    <tr>\n",
              "      <th>5475</th>\n",
              "      <td>Edge</td>\n",
              "      <td>2016</td>\n",
              "      <td>21995</td>\n",
              "      <td>Semi-Auto</td>\n",
              "      <td>18702</td>\n",
              "      <td>Diesel</td>\n",
              "      <td>160</td>\n",
              "      <td>48.7</td>\n",
              "      <td>2.0</td>\n",
              "    </tr>\n",
              "    <tr>\n",
              "      <th>12326</th>\n",
              "      <td>Kuga</td>\n",
              "      <td>2013</td>\n",
              "      <td>10000</td>\n",
              "      <td>Semi-Auto</td>\n",
              "      <td>56742</td>\n",
              "      <td>Diesel</td>\n",
              "      <td>200</td>\n",
              "      <td>45.6</td>\n",
              "      <td>2.0</td>\n",
              "    </tr>\n",
              "    <tr>\n",
              "      <th>8629</th>\n",
              "      <td>Fiesta</td>\n",
              "      <td>2018</td>\n",
              "      <td>11200</td>\n",
              "      <td>Manual</td>\n",
              "      <td>11997</td>\n",
              "      <td>Petrol</td>\n",
              "      <td>145</td>\n",
              "      <td>65.7</td>\n",
              "      <td>1.0</td>\n",
              "    </tr>\n",
              "    <tr>\n",
              "      <th>9747</th>\n",
              "      <td>Fiesta</td>\n",
              "      <td>2013</td>\n",
              "      <td>7500</td>\n",
              "      <td>Manual</td>\n",
              "      <td>47093</td>\n",
              "      <td>Petrol</td>\n",
              "      <td>0</td>\n",
              "      <td>65.7</td>\n",
              "      <td>1.0</td>\n",
              "    </tr>\n",
              "    <tr>\n",
              "      <th>9231</th>\n",
              "      <td>Focus</td>\n",
              "      <td>2017</td>\n",
              "      <td>10995</td>\n",
              "      <td>Manual</td>\n",
              "      <td>27889</td>\n",
              "      <td>Petrol</td>\n",
              "      <td>20</td>\n",
              "      <td>60.1</td>\n",
              "      <td>1.0</td>\n",
              "    </tr>\n",
              "  </tbody>\n",
              "</table>\n",
              "</div>\n",
              "    <div class=\"colab-df-buttons\">\n",
              "\n",
              "  <div class=\"colab-df-container\">\n",
              "    <button class=\"colab-df-convert\" onclick=\"convertToInteractive('df-b678b282-a853-44e8-8370-77bdaa77f7b8')\"\n",
              "            title=\"Convert this dataframe to an interactive table.\"\n",
              "            style=\"display:none;\">\n",
              "\n",
              "  <svg xmlns=\"http://www.w3.org/2000/svg\" height=\"24px\" viewBox=\"0 -960 960 960\">\n",
              "    <path d=\"M120-120v-720h720v720H120Zm60-500h600v-160H180v160Zm220 220h160v-160H400v160Zm0 220h160v-160H400v160ZM180-400h160v-160H180v160Zm440 0h160v-160H620v160ZM180-180h160v-160H180v160Zm440 0h160v-160H620v160Z\"/>\n",
              "  </svg>\n",
              "    </button>\n",
              "\n",
              "  <style>\n",
              "    .colab-df-container {\n",
              "      display:flex;\n",
              "      gap: 12px;\n",
              "    }\n",
              "\n",
              "    .colab-df-convert {\n",
              "      background-color: #E8F0FE;\n",
              "      border: none;\n",
              "      border-radius: 50%;\n",
              "      cursor: pointer;\n",
              "      display: none;\n",
              "      fill: #1967D2;\n",
              "      height: 32px;\n",
              "      padding: 0 0 0 0;\n",
              "      width: 32px;\n",
              "    }\n",
              "\n",
              "    .colab-df-convert:hover {\n",
              "      background-color: #E2EBFA;\n",
              "      box-shadow: 0px 1px 2px rgba(60, 64, 67, 0.3), 0px 1px 3px 1px rgba(60, 64, 67, 0.15);\n",
              "      fill: #174EA6;\n",
              "    }\n",
              "\n",
              "    .colab-df-buttons div {\n",
              "      margin-bottom: 4px;\n",
              "    }\n",
              "\n",
              "    [theme=dark] .colab-df-convert {\n",
              "      background-color: #3B4455;\n",
              "      fill: #D2E3FC;\n",
              "    }\n",
              "\n",
              "    [theme=dark] .colab-df-convert:hover {\n",
              "      background-color: #434B5C;\n",
              "      box-shadow: 0px 1px 3px 1px rgba(0, 0, 0, 0.15);\n",
              "      filter: drop-shadow(0px 1px 2px rgba(0, 0, 0, 0.3));\n",
              "      fill: #FFFFFF;\n",
              "    }\n",
              "  </style>\n",
              "\n",
              "    <script>\n",
              "      const buttonEl =\n",
              "        document.querySelector('#df-b678b282-a853-44e8-8370-77bdaa77f7b8 button.colab-df-convert');\n",
              "      buttonEl.style.display =\n",
              "        google.colab.kernel.accessAllowed ? 'block' : 'none';\n",
              "\n",
              "      async function convertToInteractive(key) {\n",
              "        const element = document.querySelector('#df-b678b282-a853-44e8-8370-77bdaa77f7b8');\n",
              "        const dataTable =\n",
              "          await google.colab.kernel.invokeFunction('convertToInteractive',\n",
              "                                                    [key], {});\n",
              "        if (!dataTable) return;\n",
              "\n",
              "        const docLinkHtml = 'Like what you see? Visit the ' +\n",
              "          '<a target=\"_blank\" href=https://colab.research.google.com/notebooks/data_table.ipynb>data table notebook</a>'\n",
              "          + ' to learn more about interactive tables.';\n",
              "        element.innerHTML = '';\n",
              "        dataTable['output_type'] = 'display_data';\n",
              "        await google.colab.output.renderOutput(dataTable, element);\n",
              "        const docLink = document.createElement('div');\n",
              "        docLink.innerHTML = docLinkHtml;\n",
              "        element.appendChild(docLink);\n",
              "      }\n",
              "    </script>\n",
              "  </div>\n",
              "\n",
              "\n",
              "<div id=\"df-bef95075-ce1a-419b-b3f3-091d76425697\">\n",
              "  <button class=\"colab-df-quickchart\" onclick=\"quickchart('df-bef95075-ce1a-419b-b3f3-091d76425697')\"\n",
              "            title=\"Suggest charts\"\n",
              "            style=\"display:none;\">\n",
              "\n",
              "<svg xmlns=\"http://www.w3.org/2000/svg\" height=\"24px\"viewBox=\"0 0 24 24\"\n",
              "     width=\"24px\">\n",
              "    <g>\n",
              "        <path d=\"M19 3H5c-1.1 0-2 .9-2 2v14c0 1.1.9 2 2 2h14c1.1 0 2-.9 2-2V5c0-1.1-.9-2-2-2zM9 17H7v-7h2v7zm4 0h-2V7h2v10zm4 0h-2v-4h2v4z\"/>\n",
              "    </g>\n",
              "</svg>\n",
              "  </button>\n",
              "\n",
              "<style>\n",
              "  .colab-df-quickchart {\n",
              "      --bg-color: #E8F0FE;\n",
              "      --fill-color: #1967D2;\n",
              "      --hover-bg-color: #E2EBFA;\n",
              "      --hover-fill-color: #174EA6;\n",
              "      --disabled-fill-color: #AAA;\n",
              "      --disabled-bg-color: #DDD;\n",
              "  }\n",
              "\n",
              "  [theme=dark] .colab-df-quickchart {\n",
              "      --bg-color: #3B4455;\n",
              "      --fill-color: #D2E3FC;\n",
              "      --hover-bg-color: #434B5C;\n",
              "      --hover-fill-color: #FFFFFF;\n",
              "      --disabled-bg-color: #3B4455;\n",
              "      --disabled-fill-color: #666;\n",
              "  }\n",
              "\n",
              "  .colab-df-quickchart {\n",
              "    background-color: var(--bg-color);\n",
              "    border: none;\n",
              "    border-radius: 50%;\n",
              "    cursor: pointer;\n",
              "    display: none;\n",
              "    fill: var(--fill-color);\n",
              "    height: 32px;\n",
              "    padding: 0;\n",
              "    width: 32px;\n",
              "  }\n",
              "\n",
              "  .colab-df-quickchart:hover {\n",
              "    background-color: var(--hover-bg-color);\n",
              "    box-shadow: 0 1px 2px rgba(60, 64, 67, 0.3), 0 1px 3px 1px rgba(60, 64, 67, 0.15);\n",
              "    fill: var(--button-hover-fill-color);\n",
              "  }\n",
              "\n",
              "  .colab-df-quickchart-complete:disabled,\n",
              "  .colab-df-quickchart-complete:disabled:hover {\n",
              "    background-color: var(--disabled-bg-color);\n",
              "    fill: var(--disabled-fill-color);\n",
              "    box-shadow: none;\n",
              "  }\n",
              "\n",
              "  .colab-df-spinner {\n",
              "    border: 2px solid var(--fill-color);\n",
              "    border-color: transparent;\n",
              "    border-bottom-color: var(--fill-color);\n",
              "    animation:\n",
              "      spin 1s steps(1) infinite;\n",
              "  }\n",
              "\n",
              "  @keyframes spin {\n",
              "    0% {\n",
              "      border-color: transparent;\n",
              "      border-bottom-color: var(--fill-color);\n",
              "      border-left-color: var(--fill-color);\n",
              "    }\n",
              "    20% {\n",
              "      border-color: transparent;\n",
              "      border-left-color: var(--fill-color);\n",
              "      border-top-color: var(--fill-color);\n",
              "    }\n",
              "    30% {\n",
              "      border-color: transparent;\n",
              "      border-left-color: var(--fill-color);\n",
              "      border-top-color: var(--fill-color);\n",
              "      border-right-color: var(--fill-color);\n",
              "    }\n",
              "    40% {\n",
              "      border-color: transparent;\n",
              "      border-right-color: var(--fill-color);\n",
              "      border-top-color: var(--fill-color);\n",
              "    }\n",
              "    60% {\n",
              "      border-color: transparent;\n",
              "      border-right-color: var(--fill-color);\n",
              "    }\n",
              "    80% {\n",
              "      border-color: transparent;\n",
              "      border-right-color: var(--fill-color);\n",
              "      border-bottom-color: var(--fill-color);\n",
              "    }\n",
              "    90% {\n",
              "      border-color: transparent;\n",
              "      border-bottom-color: var(--fill-color);\n",
              "    }\n",
              "  }\n",
              "</style>\n",
              "\n",
              "  <script>\n",
              "    async function quickchart(key) {\n",
              "      const quickchartButtonEl =\n",
              "        document.querySelector('#' + key + ' button');\n",
              "      quickchartButtonEl.disabled = true;  // To prevent multiple clicks.\n",
              "      quickchartButtonEl.classList.add('colab-df-spinner');\n",
              "      try {\n",
              "        const charts = await google.colab.kernel.invokeFunction(\n",
              "            'suggestCharts', [key], {});\n",
              "      } catch (error) {\n",
              "        console.error('Error during call to suggestCharts:', error);\n",
              "      }\n",
              "      quickchartButtonEl.classList.remove('colab-df-spinner');\n",
              "      quickchartButtonEl.classList.add('colab-df-quickchart-complete');\n",
              "    }\n",
              "    (() => {\n",
              "      let quickchartButtonEl =\n",
              "        document.querySelector('#df-bef95075-ce1a-419b-b3f3-091d76425697 button');\n",
              "      quickchartButtonEl.style.display =\n",
              "        google.colab.kernel.accessAllowed ? 'block' : 'none';\n",
              "    })();\n",
              "  </script>\n",
              "</div>\n",
              "    </div>\n",
              "  </div>\n"
            ],
            "application/vnd.google.colaboratory.intrinsic+json": {
              "type": "dataframe",
              "summary": "{\n  \"name\": \"df\",\n  \"rows\": 5,\n  \"fields\": [\n    {\n      \"column\": \"model\",\n      \"properties\": {\n        \"dtype\": \"string\",\n        \"num_unique_values\": 4,\n        \"samples\": [\n          \" Kuga\",\n          \" Focus\",\n          \" Edge\"\n        ],\n        \"semantic_type\": \"\",\n        \"description\": \"\"\n      }\n    },\n    {\n      \"column\": \"year\",\n      \"properties\": {\n        \"dtype\": \"number\",\n        \"std\": 2,\n        \"min\": 2013,\n        \"max\": 2018,\n        \"num_unique_values\": 4,\n        \"samples\": [\n          2013,\n          2017,\n          2016\n        ],\n        \"semantic_type\": \"\",\n        \"description\": \"\"\n      }\n    },\n    {\n      \"column\": \"price\",\n      \"properties\": {\n        \"dtype\": \"number\",\n        \"std\": 5595,\n        \"min\": 7500,\n        \"max\": 21995,\n        \"num_unique_values\": 5,\n        \"samples\": [\n          10000,\n          10995,\n          11200\n        ],\n        \"semantic_type\": \"\",\n        \"description\": \"\"\n      }\n    },\n    {\n      \"column\": \"transmission\",\n      \"properties\": {\n        \"dtype\": \"category\",\n        \"num_unique_values\": 2,\n        \"samples\": [\n          \"Manual\",\n          \"Semi-Auto\"\n        ],\n        \"semantic_type\": \"\",\n        \"description\": \"\"\n      }\n    },\n    {\n      \"column\": \"mileage\",\n      \"properties\": {\n        \"dtype\": \"number\",\n        \"std\": 18925,\n        \"min\": 11997,\n        \"max\": 56742,\n        \"num_unique_values\": 5,\n        \"samples\": [\n          56742,\n          27889\n        ],\n        \"semantic_type\": \"\",\n        \"description\": \"\"\n      }\n    },\n    {\n      \"column\": \"fuelType\",\n      \"properties\": {\n        \"dtype\": \"category\",\n        \"num_unique_values\": 2,\n        \"samples\": [\n          \"Petrol\",\n          \"Diesel\"\n        ],\n        \"semantic_type\": \"\",\n        \"description\": \"\"\n      }\n    },\n    {\n      \"column\": \"tax\",\n      \"properties\": {\n        \"dtype\": \"number\",\n        \"std\": 89,\n        \"min\": 0,\n        \"max\": 200,\n        \"num_unique_values\": 5,\n        \"samples\": [\n          200,\n          20\n        ],\n        \"semantic_type\": \"\",\n        \"description\": \"\"\n      }\n    },\n    {\n      \"column\": \"mpg\",\n      \"properties\": {\n        \"dtype\": \"number\",\n        \"std\": 9.483037488062568,\n        \"min\": 45.6,\n        \"max\": 65.7,\n        \"num_unique_values\": 4,\n        \"samples\": [\n          45.6,\n          60.1\n        ],\n        \"semantic_type\": \"\",\n        \"description\": \"\"\n      }\n    },\n    {\n      \"column\": \"engineSize\",\n      \"properties\": {\n        \"dtype\": \"number\",\n        \"std\": 0.5477225575051661,\n        \"min\": 1.0,\n        \"max\": 2.0,\n        \"num_unique_values\": 2,\n        \"samples\": [\n          1.0,\n          2.0\n        ],\n        \"semantic_type\": \"\",\n        \"description\": \"\"\n      }\n    }\n  ]\n}"
            }
          },
          "metadata": {},
          "execution_count": 67
        }
      ]
    },
    {
      "cell_type": "markdown",
      "source": [
        "Знакомство с атрибутами датафрейма. Изучение общей информации о датафрейме, структуры данных."
      ],
      "metadata": {
        "id": "SX-swtJiuf5_"
      },
      "id": "SX-swtJiuf5_"
    },
    {
      "cell_type": "code",
      "source": [
        "df.dtypes"
      ],
      "metadata": {
        "colab": {
          "base_uri": "https://localhost:8080/"
        },
        "id": "AG_W_IhJunvD",
        "outputId": "27d1d5cd-a0bc-4b9a-8493-262c1344c820"
      },
      "id": "AG_W_IhJunvD",
      "execution_count": null,
      "outputs": [
        {
          "output_type": "execute_result",
          "data": {
            "text/plain": [
              "model            object\n",
              "year              int64\n",
              "price             int64\n",
              "transmission     object\n",
              "mileage           int64\n",
              "fuelType         object\n",
              "tax               int64\n",
              "mpg             float64\n",
              "engineSize      float64\n",
              "dtype: object"
            ]
          },
          "metadata": {},
          "execution_count": 68
        }
      ]
    },
    {
      "cell_type": "code",
      "source": [
        "df.columns"
      ],
      "metadata": {
        "colab": {
          "base_uri": "https://localhost:8080/"
        },
        "id": "mFeGiPhEunpc",
        "outputId": "a800b25b-09a5-4e12-efce-9f46124b1020"
      },
      "id": "mFeGiPhEunpc",
      "execution_count": null,
      "outputs": [
        {
          "output_type": "execute_result",
          "data": {
            "text/plain": [
              "Index(['model', 'year', 'price', 'transmission', 'mileage', 'fuelType', 'tax',\n",
              "       'mpg', 'engineSize'],\n",
              "      dtype='object')"
            ]
          },
          "metadata": {},
          "execution_count": 69
        }
      ]
    },
    {
      "cell_type": "markdown",
      "source": [
        "# Переименуем столбцы fuelType и engineSize для соблюдения змеиного регистра"
      ],
      "metadata": {
        "id": "FwLqB7j1187k"
      },
      "id": "FwLqB7j1187k"
    },
    {
      "cell_type": "code",
      "source": [
        "df.rename(columns={'fuelType': 'fueltype'}, inplace=True)\n",
        "df.rename(columns={'engineSize': 'enginesize'}, inplace=True)\n",
        "df.columns\n"
      ],
      "metadata": {
        "colab": {
          "base_uri": "https://localhost:8080/"
        },
        "id": "bnfDCfCN2Br4",
        "outputId": "7b8ad54e-8a18-4a73-8855-df98cac79c0b"
      },
      "id": "bnfDCfCN2Br4",
      "execution_count": null,
      "outputs": [
        {
          "output_type": "execute_result",
          "data": {
            "text/plain": [
              "Index(['model', 'year', 'price', 'transmission', 'mileage', 'fueltype', 'tax',\n",
              "       'mpg', 'enginesize'],\n",
              "      dtype='object')"
            ]
          },
          "metadata": {},
          "execution_count": 70
        }
      ]
    },
    {
      "cell_type": "code",
      "source": [
        "df.shape"
      ],
      "metadata": {
        "colab": {
          "base_uri": "https://localhost:8080/"
        },
        "id": "TWj3OM--unj_",
        "outputId": "ff6b0972-9af7-42d4-da6c-4c45941efe0a"
      },
      "id": "TWj3OM--unj_",
      "execution_count": null,
      "outputs": [
        {
          "output_type": "execute_result",
          "data": {
            "text/plain": [
              "(17966, 9)"
            ]
          },
          "metadata": {},
          "execution_count": 71
        }
      ]
    },
    {
      "cell_type": "code",
      "source": [
        "df.info()"
      ],
      "metadata": {
        "colab": {
          "base_uri": "https://localhost:8080/"
        },
        "id": "wAPh7i6hunb4",
        "outputId": "f0200d98-2fea-49f4-fe91-7e922da42c79"
      },
      "id": "wAPh7i6hunb4",
      "execution_count": null,
      "outputs": [
        {
          "output_type": "stream",
          "name": "stdout",
          "text": [
            "<class 'pandas.core.frame.DataFrame'>\n",
            "RangeIndex: 17966 entries, 0 to 17965\n",
            "Data columns (total 9 columns):\n",
            " #   Column        Non-Null Count  Dtype  \n",
            "---  ------        --------------  -----  \n",
            " 0   model         17966 non-null  object \n",
            " 1   year          17966 non-null  int64  \n",
            " 2   price         17966 non-null  int64  \n",
            " 3   transmission  17966 non-null  object \n",
            " 4   mileage       17966 non-null  int64  \n",
            " 5   fueltype      17966 non-null  object \n",
            " 6   tax           17966 non-null  int64  \n",
            " 7   mpg           17966 non-null  float64\n",
            " 8   enginesize    17966 non-null  float64\n",
            "dtypes: float64(2), int64(4), object(3)\n",
            "memory usage: 1.2+ MB\n"
          ]
        }
      ]
    },
    {
      "cell_type": "markdown",
      "id": "3fa1fb39-5a1d-4d67-a3a0-aae96b65c25f",
      "metadata": {
        "id": "3fa1fb39-5a1d-4d67-a3a0-aae96b65c25f"
      },
      "source": [
        "### **Выводы**"
      ]
    },
    {
      "cell_type": "markdown",
      "id": "8edde8db-db04-4a64-b216-be1b490b240b",
      "metadata": {
        "id": "8edde8db-db04-4a64-b216-be1b490b240b"
      },
      "source": [
        "1.   Все типы данных соответсвтуют своим столбцам, их менять не нужно.\n",
        "2.   В датафрейме *17966 записей, 9 столбцов*.\n",
        "3.   Нарушение стиля в заголовках столбца fuelType и столбца engineSize, следует изменить регистр.\n",
        "\n"
      ]
    },
    {
      "cell_type": "markdown",
      "id": "384ba6cb-3435-4700-8f83-39dfad040991",
      "metadata": {
        "id": "384ba6cb-3435-4700-8f83-39dfad040991"
      },
      "source": [
        "## 2. Изучение пропущенных значений"
      ]
    },
    {
      "cell_type": "code",
      "execution_count": null,
      "id": "884692d5-50dc-4742-a0b5-aa47f7d5b690",
      "metadata": {
        "id": "884692d5-50dc-4742-a0b5-aa47f7d5b690",
        "colab": {
          "base_uri": "https://localhost:8080/"
        },
        "outputId": "52c44038-eed0-4011-c696-7fcc6858be08"
      },
      "outputs": [
        {
          "output_type": "stream",
          "name": "stdout",
          "text": [
            "Количество пропущенных значений в каждом столбце:\n",
            "model           0\n",
            "year            0\n",
            "price           0\n",
            "transmission    0\n",
            "mileage         0\n",
            "fueltype        0\n",
            "tax             0\n",
            "mpg             0\n",
            "enginesize      0\n",
            "dtype: int64\n"
          ]
        }
      ],
      "source": [
        "missing_values = df.isnull().sum()\n",
        "print(\"Количество пропущенных значений в каждом столбце:\")\n",
        "print(missing_values)"
      ]
    },
    {
      "cell_type": "markdown",
      "id": "223fd2b9-3895-42d3-acb3-ba4265b32454",
      "metadata": {
        "id": "223fd2b9-3895-42d3-acb3-ba4265b32454"
      },
      "source": [
        "## 3. Изменение типов данных"
      ]
    },
    {
      "cell_type": "markdown",
      "source": [
        "Не требуется"
      ],
      "metadata": {
        "id": "5dQNYrSDzAaR"
      },
      "id": "5dQNYrSDzAaR"
    },
    {
      "cell_type": "markdown",
      "id": "d10f9452-030f-405e-b9a7-006667ea54ab",
      "metadata": {
        "id": "d10f9452-030f-405e-b9a7-006667ea54ab"
      },
      "source": [
        "## 4. Поиск дубликатов"
      ]
    },
    {
      "cell_type": "code",
      "execution_count": null,
      "id": "c7c7d662-7db7-490e-8ab7-eb5dec6c5d15",
      "metadata": {
        "id": "c7c7d662-7db7-490e-8ab7-eb5dec6c5d15",
        "colab": {
          "base_uri": "https://localhost:8080/"
        },
        "outputId": "47813b44-b2f7-4d43-8c59-25a54427d7ca"
      },
      "outputs": [
        {
          "output_type": "stream",
          "name": "stdout",
          "text": [
            "Количество дубликатов:  154\n"
          ]
        }
      ],
      "source": [
        "duplicates = df.duplicated().sum()\n",
        "print(\"Количество дубликатов: \",duplicates )"
      ]
    },
    {
      "cell_type": "markdown",
      "source": [
        "Удаление дубликатов и проверка\n"
      ],
      "metadata": {
        "id": "m-XizcQx1YmY"
      },
      "id": "m-XizcQx1YmY"
    },
    {
      "cell_type": "code",
      "source": [
        "df.drop_duplicates(inplace=True)\n",
        "duplicates = df.duplicated().sum()\n",
        "print(\"Количество дубликатов: \",duplicates )"
      ],
      "metadata": {
        "colab": {
          "base_uri": "https://localhost:8080/"
        },
        "id": "Q8TNUe7r1cEW",
        "outputId": "e84dda59-bcd7-4693-b5a4-4c8e5088b83c"
      },
      "id": "Q8TNUe7r1cEW",
      "execution_count": null,
      "outputs": [
        {
          "output_type": "stream",
          "name": "stdout",
          "text": [
            "Количество дубликатов:  0\n"
          ]
        }
      ]
    },
    {
      "cell_type": "markdown",
      "id": "1bd24ee6-a78f-4468-8de8-cfc9fafc0fcd",
      "metadata": {
        "id": "1bd24ee6-a78f-4468-8de8-cfc9fafc0fcd"
      },
      "source": [
        "## 5. Выводы к разделу 1"
      ]
    },
    {
      "cell_type": "markdown",
      "id": "1b8de66f-aacf-4e6e-a174-f4bd4bb0e265",
      "metadata": {
        "id": "1b8de66f-aacf-4e6e-a174-f4bd4bb0e265"
      },
      "source": [
        "\n",
        "\n",
        "1.   Успешно загрузили датафрейм\n",
        "2.   Проверили датафрейм путём вывода:\n",
        "\n",
        "*   Первых строк\n",
        "*   Последних строк\n",
        "*   Случайных строк\n",
        "\n",
        "\n",
        "3.   Выполинили проверку на наличие пропусков и дубликатов:\n",
        "\n",
        "*   Пропусков не обнаружено\n",
        "*   Дубликаты удалены\n",
        "\n",
        "\n",
        "4.   Убедились, что все типы данных соответствуют столбцам.\n",
        "5.   Переименовали 2 столбца для улучшения читабельности и удобства работы с данными.\n",
        "\n",
        "\n"
      ]
    },
    {
      "cell_type": "markdown",
      "id": "3556be0b-0fa4-4c60-8c55-de4671f76b00",
      "metadata": {
        "id": "3556be0b-0fa4-4c60-8c55-de4671f76b00"
      },
      "source": [
        "# Исследовательский анализ данных"
      ]
    },
    {
      "cell_type": "markdown",
      "id": "34ff605b-ce17-4204-ae01-361e7057984e",
      "metadata": {
        "id": "34ff605b-ce17-4204-ae01-361e7057984e"
      },
      "source": [
        "## 1. Индексация (по координатам, логическая)"
      ]
    },
    {
      "cell_type": "code",
      "execution_count": null,
      "id": "52cafaa5-0bc7-4a7c-a160-98841cf5952d",
      "metadata": {
        "id": "52cafaa5-0bc7-4a7c-a160-98841cf5952d",
        "colab": {
          "base_uri": "https://localhost:8080/"
        },
        "outputId": "237fd2b2-bd24-4100-ae9f-82ff84a7e10a"
      },
      "outputs": [
        {
          "output_type": "stream",
          "name": "stdout",
          "text": [
            "Цена 3-й машины в списке: 17500\n",
            "Пробег 7-й машины: 13054\n",
            "Двигатель 9-й: 1.0\n",
            "Год выпуска 4-й: 2019\n",
            "КПП 125-й: Manual\n"
          ]
        }
      ],
      "source": [
        "print('Цена 3-й машины в списке:',df.loc[3, 'price'])\n",
        "print('Пробег 7-й машины:',df.loc[7, 'mileage'])\n",
        "print('Двигатель 9-й:',df.loc[9, 'enginesize'])\n",
        "print('Год выпуска 4-й:',df.loc[4,  'year'])\n",
        "print('КПП 125-й:',df.loc[125, 'transmission'])\n"
      ]
    },
    {
      "cell_type": "code",
      "source": [
        "print('Кол-во авто с ценой более 15к:')\n",
        "print(df.loc[df['price'] > 15000]['price'].count())\n",
        "print('Кол-во авто с пробегом менее 30к:')\n",
        "print(df.loc[df['mileage'] < 30000]['mileage'].count())\n",
        "print('Кол-во авто с дизельным мотором:')\n",
        "print(df.loc[df['fueltype'] == 'Diesel']['fueltype'].count())\n",
        "print('Кол-во авто с расходом топлива более 35:')\n",
        "print(df.loc[df['mpg'] > 35]['mpg'].count())\n",
        "print('Кол-во авто выпущенных с 2015 по 2019:')\n",
        "print(df.loc[(df['year'] >= 2015) & (df['year'] <= 2019)]['year'].count())"
      ],
      "metadata": {
        "colab": {
          "base_uri": "https://localhost:8080/"
        },
        "id": "YV-ZT5eas5hW",
        "outputId": "4d94837c-d12f-4061-804c-1ceb8c9d9654"
      },
      "id": "YV-ZT5eas5hW",
      "execution_count": null,
      "outputs": [
        {
          "output_type": "stream",
          "name": "stdout",
          "text": [
            "Кол-во авто с ценой более 15к:\n",
            "4550\n",
            "Кол-во авто с пробегом менее 30к:\n",
            "13016\n",
            "Кол-во авто с дизельным мотором:\n",
            "5706\n",
            "Кол-во авто с расходом топлива более 35:\n",
            "17590\n",
            "Кол-во авто выпущенных с 2015 по 2019:\n",
            "15657\n"
          ]
        }
      ]
    },
    {
      "cell_type": "markdown",
      "id": "6c002b90-ed09-4869-8e5c-d6459d3ec465",
      "metadata": {
        "id": "6c002b90-ed09-4869-8e5c-d6459d3ec465"
      },
      "source": [
        "## 2. Сортировка данных"
      ]
    },
    {
      "cell_type": "code",
      "execution_count": null,
      "id": "ed29b71a-2e77-4626-8db4-6db8ccaf9bc9",
      "metadata": {
        "id": "ed29b71a-2e77-4626-8db4-6db8ccaf9bc9",
        "colab": {
          "base_uri": "https://localhost:8080/"
        },
        "outputId": "1f8ded24-7034-4098-98c7-731151803937"
      },
      "outputs": [
        {
          "output_type": "stream",
          "name": "stdout",
          "text": [
            "Наибольшие и наименьшие значения цены:\n",
            "        model  price\n",
            "17103   Focus    495\n",
            "11912   Focus  54995\n"
          ]
        }
      ],
      "source": [
        "sorted_price = df.sort_values(by='price')\n",
        "sorted_tax = df.sort_values(by='tax')\n",
        "sorted_mpg = df.sort_values(by='mpg')\n",
        "\n",
        "print(\"Наибольшие и наименьшие значения цены:\")\n",
        "print(sorted_price[['model', 'price']].iloc[[0, -1]])\n",
        "\n"
      ]
    },
    {
      "cell_type": "code",
      "source": [
        "print(\"Наибольшие и наименьшие значения налога:\")\n",
        "print(sorted_tax[['model', 'tax']].iloc[[0, -1]])"
      ],
      "metadata": {
        "colab": {
          "base_uri": "https://localhost:8080/"
        },
        "id": "TIEgLe66hCji",
        "outputId": "0a3b2d51-1b76-4c41-95da-4097bfa5b598"
      },
      "id": "TIEgLe66hCji",
      "execution_count": null,
      "outputs": [
        {
          "output_type": "stream",
          "name": "stdout",
          "text": [
            "Наибольшие и наименьшие значения налога:\n",
            "          model  tax\n",
            "7605      Focus    0\n",
            "11097   Mustang  580\n"
          ]
        }
      ]
    },
    {
      "cell_type": "code",
      "source": [
        "print(\"Наибольшие и наименьшие значения расхода топлива:\")\n",
        "print(sorted_mpg[['model', 'mpg']].iloc[[0, -1]])"
      ],
      "metadata": {
        "colab": {
          "base_uri": "https://localhost:8080/"
        },
        "id": "d__-a7RfhCa4",
        "outputId": "221a5f6d-9543-4dc2-97f5-34cbdd2bd978"
      },
      "id": "d__-a7RfhCa4",
      "execution_count": null,
      "outputs": [
        {
          "output_type": "stream",
          "name": "stdout",
          "text": [
            "Наибольшие и наименьшие значения расхода топлива:\n",
            "         model    mpg\n",
            "7182   Mustang   20.8\n",
            "9220      Kuga  201.8\n"
          ]
        }
      ]
    },
    {
      "cell_type": "markdown",
      "id": "c6f21805-09bb-40b5-809c-255c6afada15",
      "metadata": {
        "id": "c6f21805-09bb-40b5-809c-255c6afada15"
      },
      "source": [
        "## 3. Фильтрация данных"
      ]
    },
    {
      "cell_type": "code",
      "execution_count": null,
      "id": "8e5bd98c-4fa4-4742-a00e-8856bc47a962",
      "metadata": {
        "id": "8e5bd98c-4fa4-4742-a00e-8856bc47a962"
      },
      "outputs": [],
      "source": []
    },
    {
      "cell_type": "markdown",
      "id": "4a2a0dbb-efd1-458d-81b9-4de6fb068635",
      "metadata": {
        "id": "4a2a0dbb-efd1-458d-81b9-4de6fb068635"
      },
      "source": [
        "## 4. Сводные таблицы"
      ]
    },
    {
      "cell_type": "code",
      "execution_count": null,
      "id": "fc3d1079-e6ec-4632-89c9-57bd3dd430bd",
      "metadata": {
        "id": "fc3d1079-e6ec-4632-89c9-57bd3dd430bd",
        "colab": {
          "base_uri": "https://localhost:8080/"
        },
        "outputId": "6b1dfeb6-bfc6-4f00-86bb-2d1d307c87fc"
      },
      "outputs": [
        {
          "output_type": "stream",
          "name": "stdout",
          "text": [
            "Сводная таблица по цене и типу коробки передач:\n",
            "transmission     Automatic        Manual     Semi-Auto\n",
            "year                                                  \n",
            "1996                   NaN   3000.000000           NaN\n",
            "1998                   NaN   2699.000000           NaN\n",
            "2000                   NaN   1995.000000           NaN\n",
            "2002                   NaN   1928.333333           NaN\n",
            "2003                   NaN   2063.000000           NaN\n",
            "2004           1500.000000   1414.666667           NaN\n",
            "2005           1985.000000   1537.000000           NaN\n",
            "2006           2495.000000   2178.250000           NaN\n",
            "2007           2847.000000   2587.333333           NaN\n",
            "2008           3317.000000   2512.714286           NaN\n",
            "2009           4067.666667   3681.536585           NaN\n",
            "2010           4901.166667   3975.344262           NaN\n",
            "2011           5741.083333   4917.317073           NaN\n",
            "2012           7987.666667   5508.327103   7995.000000\n",
            "2013           7874.657143   6550.306818   7622.325581\n",
            "2014           9218.384615   7400.681690   8147.580000\n",
            "2015          11092.864865   8607.418796   9505.558824\n",
            "2016          12892.618834  10246.707254  12583.366460\n",
            "2017          14792.388514  11548.554919  14429.716216\n",
            "2018          16969.580189  12759.952686  16448.796610\n",
            "2019          20024.765743  16468.427457  20756.696335\n",
            "2020          25139.935484  19669.620192  28994.846154\n",
            "2060           6495.000000           NaN           NaN\n"
          ]
        }
      ],
      "source": [
        "print(\"Сводная таблица по цене и типу коробки передач:\")\n",
        "print(df.pivot_table(values='price', index='year', columns='transmission'))\n",
        "\n"
      ]
    },
    {
      "cell_type": "code",
      "source": [
        "print(\"Сводная таблица по налогу и типу топлива:\")\n",
        "print(df.pivot_table(values='tax', index='fueltype', aggfunc=['mean', 'max']))\n"
      ],
      "metadata": {
        "colab": {
          "base_uri": "https://localhost:8080/"
        },
        "id": "cwJImR8U6zax",
        "outputId": "23d3b7dd-25a7-43dd-9a9e-cbce85fbb781"
      },
      "id": "cwJImR8U6zax",
      "execution_count": null,
      "outputs": [
        {
          "output_type": "stream",
          "name": "stdout",
          "text": [
            "Сводная таблица по налогу и типу топлива:\n",
            "                mean  max\n",
            "                 tax  tax\n",
            "fueltype                 \n",
            "Diesel    101.700841  305\n",
            "Electric    0.000000    0\n",
            "Hybrid    100.681818  150\n",
            "Other       0.000000    0\n",
            "Petrol    118.851668  580\n"
          ]
        }
      ]
    },
    {
      "cell_type": "code",
      "source": [
        "print(\"Сводная таблица по расходу топлива и объему двигателя:\")\n",
        "print(df.pivot_table(values='mpg', index='enginesize'))"
      ],
      "metadata": {
        "colab": {
          "base_uri": "https://localhost:8080/"
        },
        "id": "6wikfEnN62Q8",
        "outputId": "3a4542bf-a109-45dd-e13b-6c2db7427d57"
      },
      "id": "6wikfEnN62Q8",
      "execution_count": null,
      "outputs": [
        {
          "output_type": "stream",
          "name": "stdout",
          "text": [
            "Сводная таблица по расходу топлива и объему двигателя:\n",
            "                  mpg\n",
            "enginesize           \n",
            "0.0         56.900000\n",
            "1.0         59.650818\n",
            "1.1         60.359091\n",
            "1.2         54.097582\n",
            "1.3         45.658333\n",
            "1.4         50.558036\n",
            "1.5         62.768464\n",
            "1.6         52.899564\n",
            "1.7         38.200000\n",
            "1.8         44.340000\n",
            "2.0         53.089643\n",
            "2.2         43.007692\n",
            "2.3         34.222500\n",
            "2.5         95.061538\n",
            "3.2         28.300000\n",
            "5.0         22.693333\n"
          ]
        }
      ]
    },
    {
      "cell_type": "markdown",
      "id": "7629fa2a-bcca-416c-8fcf-03c488bc1134",
      "metadata": {
        "id": "7629fa2a-bcca-416c-8fcf-03c488bc1134"
      },
      "source": [
        "## 5. Группировка данных, агрегатные функции"
      ]
    },
    {
      "cell_type": "code",
      "execution_count": null,
      "id": "924a1a8b-07d6-43af-8a9f-23f7e133209a",
      "metadata": {
        "id": "924a1a8b-07d6-43af-8a9f-23f7e133209a",
        "colab": {
          "base_uri": "https://localhost:8080/"
        },
        "outputId": "3474d235-5ef9-437a-f7ef-bd5f629b7ca0"
      },
      "outputs": [
        {
          "output_type": "stream",
          "name": "stdout",
          "text": [
            "Группировка по году:\n",
            "         price                                mileage                        \\\n",
            "           sum          mean    min    max        sum           mean    min   \n",
            "year                                                                          \n",
            "1996      3000   3000.000000   3000   3000      50000   50000.000000  50000   \n",
            "1998      2699   2699.000000   2699   2699      37000   37000.000000  37000   \n",
            "2000      1995   1995.000000   1995   1995      43000   43000.000000  43000   \n",
            "2002      5785   1928.333333    895   2695     313784  104594.666667  69000   \n",
            "2003      6189   2063.000000    495   3999     323338  107779.333333  56064   \n",
            "2004      5744   1436.000000    950   2295     333236   83309.000000  59300   \n",
            "2005     25488   1593.000000    675   2495    1394611   87163.187500  31000   \n",
            "2006     28634   2202.615385   1095   3875    1103466   84882.000000  45000   \n",
            "2007     83314   2603.562500   1200   6995    2690467   84077.093750   1995   \n",
            "2008    146342   2613.250000    694   4890    4656652   83154.500000      1   \n",
            "2009    338495   3719.725275   1450  21500    6820286   74948.197802   6000   \n",
            "2010    271903   4058.253731   1795  15999    5258175   78480.223881  17733   \n",
            "2011    472113   5022.478723   2650   9199    6600941   70222.776596  18233   \n",
            "2012    653307   5680.930435   2995  10997    7142504   62108.730435  11000   \n",
            "2013   4061935   6702.863036   2975  14495   29152143   48105.846535   7000   \n",
            "2014   6021380   7536.145181   3295  14800   33167326   41511.046308   4800   \n",
            "2015  11908049   8788.228044   3990  18992   53044384   39147.146863   2263   \n",
            "2016  24677121  10664.270095   4500  28490   69068935   29848.286517    145   \n",
            "2017  58082890  11965.984755   5750  49999  109554613   22569.965595      1   \n",
            "2018  52355498  13148.040683   6690  54995   62612653   15723.920894      5   \n",
            "2019  54139409  17176.208439   6900  45250   22698489    7201.297272      1   \n",
            "2020   5247552  20823.619048  11999  48000     344169    1365.750000      2   \n",
            "2060      6495   6495.000000   6495   6495      54807   54807.000000  54807   \n",
            "\n",
            "              \n",
            "         max  \n",
            "year          \n",
            "1996   50000  \n",
            "1998   37000  \n",
            "2000   43000  \n",
            "2002  136784  \n",
            "2003  177644  \n",
            "2004  111000  \n",
            "2005  121000  \n",
            "2006  120000  \n",
            "2007  144000  \n",
            "2008  174000  \n",
            "2009  139600  \n",
            "2010  140000  \n",
            "2011  142963  \n",
            "2012  151000  \n",
            "2013  130000  \n",
            "2014  132000  \n",
            "2015  150890  \n",
            "2016  134000  \n",
            "2017  119902  \n",
            "2018   63803  \n",
            "2019   53825  \n",
            "2020    8786  \n",
            "2060   54807  \n"
          ]
        }
      ],
      "source": [
        "grouped_year = df.groupby('year').agg({\n",
        "    'price': ['sum', 'mean', 'min', 'max'],\n",
        "    'mileage': ['sum', 'mean', 'min', 'max']\n",
        "})\n",
        "\n",
        "print(\"Группировка по году:\")\n",
        "print(grouped_year)"
      ]
    },
    {
      "cell_type": "markdown",
      "source": [
        "Там где значения 'sum', 'mean', 'min', 'max' совпадают, значит в датафрейм был занесён только один автомобиль этого года, либо данные всех автомобилей совпадают"
      ],
      "metadata": {
        "id": "KJPlyvLm9dYi"
      },
      "id": "KJPlyvLm9dYi"
    },
    {
      "cell_type": "markdown",
      "id": "a20223f6-dc74-429f-a835-7db360b0fb78",
      "metadata": {
        "id": "a20223f6-dc74-429f-a835-7db360b0fb78"
      },
      "source": [
        "## 6. Поиск закономерностей, варианты решения бизнес-задачи"
      ]
    },
    {
      "cell_type": "markdown",
      "source": [
        "Функция **describe** оценивает столбцы с числовым типом данных (int или float) и возвращает статистические данные, которые дают представление о распределении значений.\n",
        "\n",
        "\n",
        "\n",
        "*   Count  —  количество значений.\n",
        "*   Mean  —  среднее значение.\n",
        "*   Std  —  стандартное отклонение значения.\n",
        "*   Min  —  минимальное значение.\n",
        "*   Max  —  максимальное значение.\n",
        "*   25%  —  первый квартиль, означающий, что 25% значений в столбце ниже этого значения.\n",
        "*   50%  —  медиана, означающая, что половина значений в столбце ниже этого значения.\n",
        "*   75%  —  третий квартиль, означающий, что 75% значений в столбце ниже этого значения.Новый пункт\n",
        "\n"
      ],
      "metadata": {
        "id": "KMuoRco1CIF3"
      },
      "id": "KMuoRco1CIF3"
    },
    {
      "cell_type": "code",
      "execution_count": null,
      "id": "7eeb6ef7-6118-4562-b48e-d9d1dd60848a",
      "metadata": {
        "id": "7eeb6ef7-6118-4562-b48e-d9d1dd60848a",
        "colab": {
          "base_uri": "https://localhost:8080/"
        },
        "outputId": "873ebbbe-57ae-4152-9140-5ce6f5b3034d"
      },
      "outputs": [
        {
          "output_type": "stream",
          "name": "stdout",
          "text": [
            "               year         price        mileage           tax           mpg  \\\n",
            "count  17812.000000  17812.000000   17812.000000  17812.000000  17812.000000   \n",
            "mean    2016.862396  12269.556310   23381.146362    113.315012     57.908696   \n",
            "std        2.052039   4736.285417   19419.011045     62.034603     10.132696   \n",
            "min     1996.000000    495.000000       1.000000      0.000000     20.800000   \n",
            "25%     2016.000000   8999.000000   10000.000000     30.000000     52.300000   \n",
            "50%     2017.000000  11288.000000   18277.000000    145.000000     58.900000   \n",
            "75%     2018.000000  15295.000000   31098.500000    145.000000     65.700000   \n",
            "max     2060.000000  54995.000000  177644.000000    580.000000    201.800000   \n",
            "\n",
            "         enginesize  \n",
            "count  17812.000000  \n",
            "mean       1.350623  \n",
            "std        0.432581  \n",
            "min        0.000000  \n",
            "25%        1.000000  \n",
            "50%        1.200000  \n",
            "75%        1.500000  \n",
            "max        5.000000  \n"
          ]
        }
      ],
      "source": [
        "print(df.describe())"
      ]
    },
    {
      "cell_type": "code",
      "source": [
        "print(\"Средняя цена автомобиля: $\")\n",
        "print(df['price'].mean())"
      ],
      "metadata": {
        "colab": {
          "base_uri": "https://localhost:8080/"
        },
        "id": "C8GUJIVt5ViI",
        "outputId": "727b4978-67d3-4535-c7f2-f9fbe2795b7e"
      },
      "id": "C8GUJIVt5ViI",
      "execution_count": null,
      "outputs": [
        {
          "output_type": "stream",
          "name": "stdout",
          "text": [
            "Средняя цена автомобиля: $\n",
            "12269.556310352571\n"
          ]
        }
      ]
    },
    {
      "cell_type": "code",
      "source": [
        "print(\"Распределение автомобилей по годам выпуска:\")\n",
        "print(df['year'].value_counts())"
      ],
      "metadata": {
        "colab": {
          "base_uri": "https://localhost:8080/"
        },
        "id": "rDB8uE74EOud",
        "outputId": "f5423a1a-d889-4004-920a-7bd68450756b"
      },
      "id": "rDB8uE74EOud",
      "execution_count": null,
      "outputs": [
        {
          "output_type": "stream",
          "name": "stdout",
          "text": [
            "Распределение автомобилей по годам выпуска:\n",
            "year\n",
            "2017    4854\n",
            "2018    3982\n",
            "2019    3152\n",
            "2016    2314\n",
            "2015    1355\n",
            "2014     799\n",
            "2013     606\n",
            "2020     252\n",
            "2012     115\n",
            "2011      94\n",
            "2009      91\n",
            "2010      67\n",
            "2008      56\n",
            "2007      32\n",
            "2005      16\n",
            "2006      13\n",
            "2004       4\n",
            "2002       3\n",
            "2003       3\n",
            "1998       1\n",
            "1996       1\n",
            "2000       1\n",
            "2060       1\n",
            "Name: count, dtype: int64\n"
          ]
        }
      ]
    },
    {
      "cell_type": "code",
      "source": [],
      "metadata": {
        "id": "hjWkCL1sE_Qj"
      },
      "id": "hjWkCL1sE_Qj",
      "execution_count": null,
      "outputs": []
    },
    {
      "cell_type": "markdown",
      "id": "d9ac6301-c9f8-4b74-ac6a-239952c93189",
      "metadata": {
        "id": "d9ac6301-c9f8-4b74-ac6a-239952c93189"
      },
      "source": [
        "## 7. Выводы к разделу 2"
      ]
    },
    {
      "cell_type": "markdown",
      "source": [
        "1. Цена на автомобили имеет тенденцию к росту с годами выпуска.\n",
        "2. Меньший пробег обычно связан с более высокой ценой.\n",
        "3. Автомобили с автоматической коробкой передач в среднем дороже, чем с механической.\n",
        "4. Тип топлива также влияет на цену и налог на автомобиль."
      ],
      "metadata": {
        "id": "Cihj2ZpsE7fD"
      },
      "id": "Cihj2ZpsE7fD"
    },
    {
      "cell_type": "markdown",
      "id": "bf8afa4f-79ef-4d5d-8b85-93ee1f13a43b",
      "metadata": {
        "id": "bf8afa4f-79ef-4d5d-8b85-93ee1f13a43b"
      },
      "source": []
    },
    {
      "cell_type": "markdown",
      "id": "e4d727dd-b6d5-4b0c-9674-58b8bdd54df7",
      "metadata": {
        "id": "e4d727dd-b6d5-4b0c-9674-58b8bdd54df7"
      },
      "source": [
        "# Графический анализ данных"
      ]
    },
    {
      "cell_type": "markdown",
      "id": "815f05d7-b861-4d6c-85ee-d32c8eccc426",
      "metadata": {
        "id": "815f05d7-b861-4d6c-85ee-d32c8eccc426"
      },
      "source": [
        "## 1. Диаграммы, библиотека Matplotlib"
      ]
    },
    {
      "cell_type": "code",
      "source": [
        "print ('Current version on matplotlib library is', mpl.__version__)"
      ],
      "metadata": {
        "colab": {
          "base_uri": "https://localhost:8080/"
        },
        "id": "fin85aNhoOSZ",
        "outputId": "6cc43a70-f5ca-4721-edd1-536a59fcea33"
      },
      "id": "fin85aNhoOSZ",
      "execution_count": null,
      "outputs": [
        {
          "output_type": "stream",
          "name": "stdout",
          "text": [
            "Current version on matplotlib library is 3.7.1\n"
          ]
        }
      ]
    },
    {
      "cell_type": "code",
      "execution_count": null,
      "id": "ee012f7b-4083-4b65-aaca-45b7ed4121f1",
      "metadata": {
        "id": "ee012f7b-4083-4b65-aaca-45b7ed4121f1",
        "colab": {
          "base_uri": "https://localhost:8080/",
          "height": 611
        },
        "outputId": "2cf29dad-594f-45a8-81d3-00cb1e378edf"
      },
      "outputs": [
        {
          "output_type": "display_data",
          "data": {
            "text/plain": [
              "<Figure size 800x600 with 1 Axes>"
            ],
            "image/png": "[encoded data removed]"
          },
          "metadata": {}
        }
      ],
      "source": [
        "plt.figure(figsize=(8, 6))\n",
        "plt.bar(df['transmission'], df['price'])\n",
        "plt.xlabel('Тип коробки передач')\n",
        "plt.ylabel('Цена (USD)')\n",
        "plt.title('Зависимость цены от типа коробки передач')\n",
        "plt.xticks(rotation=45)\n",
        "plt.grid(True)\n",
        "plt.show()"
      ]
    },
    {
      "cell_type": "code",
      "source": [
        "plt.figure(figsize=(8, 6))\n",
        "plt.scatter(df['fueltype'], df['tax'])\n",
        "plt.xlabel('Тип топлива')\n",
        "plt.ylabel('Годовой налог (USD)')\n",
        "plt.title('Зависимость налога от типа топлива')\n",
        "plt.xticks(rotation=45)\n",
        "plt.grid(True)\n",
        "plt.show()"
      ],
      "metadata": {
        "colab": {
          "base_uri": "https://localhost:8080/",
          "height": 596
        },
        "id": "CHj07gDaq9tZ",
        "outputId": "966c0985-51bc-403c-f72e-29ee9d9ad245"
      },
      "id": "CHj07gDaq9tZ",
      "execution_count": null,
      "outputs": [
        {
          "output_type": "display_data",
          "data": {
            "text/plain": [
              "<Figure size 800x600 with 1 Axes>"
            ],
            "image/png": "[encoded data removed]"
          },
          "metadata": {}
        }
      ]
    },
    {
      "cell_type": "code",
      "source": [
        "plt.figure(figsize=(8, 6))\n",
        "plt.scatter(df['enginesize'], df['mpg'])\n",
        "plt.title('Зависимость расхода топлива от объёма двигателя')\n",
        "plt.xlabel('Объем двигателя (л)')\n",
        "plt.ylabel('Расход топлива (mpg)')\n",
        "plt.grid(True)"
      ],
      "metadata": {
        "colab": {
          "base_uri": "https://localhost:8080/",
          "height": 564
        },
        "id": "rxR_woD2t0RS",
        "outputId": "1f5a1ab3-12c6-46e8-8d8b-24915e000822"
      },
      "id": "rxR_woD2t0RS",
      "execution_count": null,
      "outputs": [
        {
          "output_type": "display_data",
          "data": {
            "text/plain": [
              "<Figure size 800x600 with 1 Axes>"
            ],
            "image/png": "[encoded data removed]"
          },
          "metadata": {}
        }
      ]
    },
    {
      "cell_type": "markdown",
      "id": "2bc18a15-6fda-46a6-a855-cac5d404edea",
      "metadata": {
        "id": "2bc18a15-6fda-46a6-a855-cac5d404edea"
      },
      "source": [
        "## 2. Диаграммы, библиотека Seaborn"
      ]
    },
    {
      "cell_type": "code",
      "source": [
        "plt.subplot(2, 2, 1)\n",
        "sns.lineplot(x='year', y='price', data=df, marker='o')\n",
        "plt.title('Зависимость цены автомобиля от года выпуска')\n",
        "plt.xlabel('Год выпуска')\n",
        "plt.ylabel('Цена ($)')\n",
        "plt.grid(True)"
      ],
      "metadata": {
        "colab": {
          "base_uri": "https://localhost:8080/",
          "height": 270
        },
        "id": "ypNosuHuwve_",
        "outputId": "4dbbc4bd-eaeb-4017-95bc-21edbd00b857"
      },
      "id": "ypNosuHuwve_",
      "execution_count": null,
      "outputs": [
        {
          "output_type": "display_data",
          "data": {
            "text/plain": [
              "<Figure size 640x480 with 1 Axes>"
            ],
            "image/png": "[encoded data removed]"
          },
          "metadata": {}
        }
      ]
    },
    {
      "cell_type": "code",
      "source": [
        "year_counts = df['year'].value_counts()\n",
        "plt.figure(figsize=(8, 6))\n",
        "plt.pie(year_counts.values, labels=year_counts.index, autopct='%1.1f%%', startangle=90)\n",
        "plt.title('Распределение автомобилей по годам выпуска')\n",
        "plt.show()\n"
      ],
      "metadata": {
        "colab": {
          "base_uri": "https://localhost:8080/",
          "height": 521
        },
        "id": "kGKKUAVzxR7a",
        "outputId": "538b4318-2c8c-4768-bee0-fdadfb88d0ff"
      },
      "id": "kGKKUAVzxR7a",
      "execution_count": null,
      "outputs": [
        {
          "output_type": "display_data",
          "data": {
            "text/plain": [
              "<Figure size 800x600 with 1 Axes>"
            ],
            "image/png": "[encoded data removed]"
          },
          "metadata": {}
        }
      ]
    },
    {
      "cell_type": "code",
      "source": [],
      "metadata": {
        "id": "pN7htDGpxRzG"
      },
      "id": "pN7htDGpxRzG",
      "execution_count": null,
      "outputs": []
    },
    {
      "cell_type": "code",
      "execution_count": null,
      "id": "b6af0641-3a49-47fd-b262-197221c9ca1d",
      "metadata": {
        "id": "b6af0641-3a49-47fd-b262-197221c9ca1d"
      },
      "outputs": [],
      "source": []
    },
    {
      "cell_type": "markdown",
      "id": "d40b7ca3-042a-4bb5-a90d-14c5c94e7555",
      "metadata": {
        "id": "d40b7ca3-042a-4bb5-a90d-14c5c94e7555"
      },
      "source": [
        "## 3. \"Портрет\" типичного потребителя (вывод к разделу 3)"
      ]
    },
    {
      "cell_type": "markdown",
      "source": [
        "\n",
        "# На основе данных, типичный потребитель автомобилей марки Ford имеет следующие характеристики:\n",
        "\n",
        "\n",
        "1.   Средний год выпуска автомобиля: 2017.8\n",
        "\n",
        "1.   Средняя цена автомобиля: $26800\n",
        "\n",
        "1.   Тип коробки передач: автоматическая\n",
        "\n",
        "1.   Средний пробег: 23000 миль\n",
        "\n",
        "1.  Тип топлива: бензин\n",
        "\n",
        "1.   Средний годовой налог: $202\n",
        "\n",
        "7.   Средний расход топлива: 40 mpg\n",
        "\n",
        "8.   Средний объем двигателя: 1.5 литра\n",
        "\n"
      ],
      "metadata": {
        "id": "g3Yqt9M42H7H"
      },
      "id": "g3Yqt9M42H7H"
    },
    {
      "cell_type": "markdown",
      "id": "88786e27-9993-4b73-b003-f9bb8328c750",
      "metadata": {
        "id": "88786e27-9993-4b73-b003-f9bb8328c750"
      },
      "source": [
        "# Общий вывод по проекту"
      ]
    },
    {
      "cell_type": "markdown",
      "source": [
        "\n",
        "\n",
        "*   \t**Взаимосвязь характеристик и цены**: Анализ выявил сильную корреляцию между ценой автомобиля и годом выпуска, пробегом, типом коробки передач и типом топлива\n",
        "*   **Тенденции рынка**: Данные показывают, что цена на автомобили Ford имеет тенденцию к росту с годами выпуска.\n",
        "*   **Профиль типичного потребителя**: Анализ показал, что типичный покупатель автомобиля Ford предпочитает автомобиль с автоматической коробкой передач, бензиновым двигателем, выпущенный в 2017-2018 гг., с пробегом около 23000 мильт\n",
        "\n",
        "\n",
        "\n",
        "---\n",
        "\n",
        "**Практическое значение результатов:**\n",
        "\n",
        "*  **Оптимизация ценообразования**: Полученные данные могут быть использованы для точного прогнозирования цен на автомобили Ford с учетом их характеристик, что позволит оптимизировать ценовую политику.\n",
        "*  \t**Улучшение планирования производства**: Понимание потребительских предпочтений позволяет Ford лучше планировать производство, учитывая популярные модели, типы двигателей и другие характеристики.\n",
        "\n",
        "\n",
        "\n",
        "Проведённый анализ является первым шагом к глубокому пониманию рынка автомобилей Ford. Дальнейшие исследования и разработка моделей машинного обучения помогут Ford принять более информированные решения и укрепить свои позиции на рынке.\n",
        "\n",
        "\n"
      ],
      "metadata": {
        "id": "X-O2T4Qe3q9j"
      },
      "id": "X-O2T4Qe3q9j"
    }
  ],
  "metadata": {
    "kernelspec": {
      "display_name": "Python 3 (ipykernel)",
      "language": "python",
      "name": "python3"
    },
    "language_info": {
      "codemirror_mode": {
        "name": "ipython",
        "version": 3
      },
      "file_extension": ".py",
      "mimetype": "text/x-python",
      "name": "python",
      "nbconvert_exporter": "python",
      "pygments_lexer": "ipython3",
      "version": "3.11.7"
    },
    "colab": {
      "provenance": [],
      "toc_visible": true
    }
  },
  "nbformat": 4,
  "nbformat_minor": 5
}