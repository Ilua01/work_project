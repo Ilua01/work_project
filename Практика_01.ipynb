{
  "cells": [
    {
      "cell_type": "markdown",
      "id": "70bce946-e597-45fa-b8b9-365b450577fe",
      "metadata": {
        "id": "70bce946-e597-45fa-b8b9-365b450577fe"
      },
      "source": [
        "# Практика 01. Базовые конструкции языка Python. Коллекции данных: строки, списки, кортежи, множества, словари. Решение прикладных задач"
      ]
    },
    {
      "cell_type": "markdown",
      "id": "090ac3ff-70c0-4002-b246-1f84ffbdbafa",
      "metadata": {
        "id": "090ac3ff-70c0-4002-b246-1f84ffbdbafa"
      },
      "source": [
        "## Часть 01. Документация по практике"
      ]
    },
    {
      "cell_type": "markdown",
      "id": "61ddec85-164f-41ff-9aa5-f298652e070f",
      "metadata": {
        "id": "61ddec85-164f-41ff-9aa5-f298652e070f"
      },
      "source": [
        "1. **Дневник по практике**: 2 недели - практика по Python, 2 недели - приемная комиссия. Дневник практики заполняется на 4 недели, все дни, кроме воскресений. К дневнику практики распечатываются титульный лист и последний лист, подписываются студентом и руководителем практики. Дневник сдается в электронном виде с двумя сканами распечатанных и подписанных листов **до 05.09.2024**.\n",
        "2. **Практические задачи (практики 1-8)** выполняются студентами индивидуально, во время практических занятий. Сдаются в виде ноутбуков (.ipynb). Решения и ответы на контрольные вопросы приводятся в отчете по практике.\n",
        "3. **Индивидуальное задание на практику (бланк с заданием)** распечатывается, подписывается студентом и руководителем практики, прикладывается к отчету по практике **до 05.09.2024**.\n",
        "4. **Индивидуальное задание** выполнятся студентом индивидуально в соответствии с полученным заданием (файлы Индивидуальное задание (часть 1). Предобработка данных, Индивидуальное задание (часть 2). Иссл анализ данных) на выбранном датасете. Сдается в виде ноутбука (.ipynb).\n",
        "5. Ноутбук с индивидуальным заданием загружается на GiHub через Git.\n",
        "6. **Отчет по практике** оформляется по практическим задачам и индивидуальному заданию. Приводятся задачи, код решения с пояснениями, выводы к каждому этапу индивидуального задания, скриншоты рабочего кода. Отчет по практике защищается в очном формате и сдается в электронном виде **до 05.09.2024**.\n",
        "7. **Презентация к отчету по практике** для защиты работы - по желанию, для добора баллов, сдается **до 05.09.2024**.\n",
        "    ___\n",
        "9. **ГОТОВОЕ ИНДИВИДУАЛЬНОЕ ЗАДАНИЕ И ОТЧЕТ ПЕРЕД ЗАЩИТОЙ ДОЛЖНЫ БЫТЬ ЗАГРУЖЕНЫ В ЭЛЕКТРОННЫЙ ЮУРГУ ДО 25.08.2024**."
      ]
    },
    {
      "cell_type": "markdown",
      "id": "491194a5-9629-4dc3-bc44-f4f3d22e9db7",
      "metadata": {
        "id": "491194a5-9629-4dc3-bc44-f4f3d22e9db7"
      },
      "source": [
        "## Часть 02. Ноутбуки, маркдауны"
      ]
    },
    {
      "cell_type": "markdown",
      "id": "0cb95401-ac05-49c2-aef7-fad7b54d7205",
      "metadata": {
        "id": "0cb95401-ac05-49c2-aef7-fad7b54d7205"
      },
      "source": [
        "### 1. Установка Jupyter\n",
        "\n",
        "Инструкция по установке Jupyter Notebook: http://jupyter.readthedocs.org/en/latest/install.html\n",
        "\n",
        "После установки запуск осуществляется командой в консоли:  \n",
        "\n",
        "`jupyter notebook`\n",
        "\n",
        "Через несколько секунд должна открыться страница в браузере со списком файлов директории, в которой была запущена команда (можно не ждать и самим перейти по http://localhost:8888/ - обычно там располагается локальный \"сервер\" Jupyter Notebook`а)."
      ]
    },
    {
      "cell_type": "markdown",
      "id": "af95f82e-b9ad-47fe-ad92-007fc57ada10",
      "metadata": {
        "id": "af95f82e-b9ad-47fe-ad92-007fc57ada10"
      },
      "source": [
        "### 2. Онлайн Jupyter Notebook\n",
        "\n",
        "Можно ничего не устанавливать и работать с сайтом https://try.jupyter.org/\n",
        "\n",
        "На сайте можно создать новый файл `(New -> Python 2/3)` или загрузить файл с компьютера с помощью `Upload`.\n",
        "\n",
        "Будьте внимательны!\n",
        "<b>Сайт не сохраняет ваши файлы</b> и удаляет их после закрытия страницы.<br>\n",
        "Чтобы сохранить файл, откройте его, нажмите `File -> Download as -> ipynb`."
      ]
    },
    {
      "cell_type": "markdown",
      "id": "6559c388-593c-46ea-884b-73f14c3e7c2f",
      "metadata": {
        "id": "6559c388-593c-46ea-884b-73f14c3e7c2f"
      },
      "source": [
        "### 3. Google Colab\n",
        "**Google Colab** — это бесплатная среда для разработки и выполнения программного кода в облаке. Она предоставляет возможность писать и запускать код на языке Python, используя только браузер, без установки специальных программ на компьютер.\n",
        "\n",
        "**Google Colab** основан на Jupyter Notebook, популярном ПО для написания и запуска кода. Он поддерживает интерактивное программирование. Код можно писать в отдельных ячейках и выполнять их по порядку, просматривая результаты выполнения после блока с кодом.\n",
        "\n",
        "В Colab можно использовать различные библиотеки Python, включая популярные библиотеки для анализа данных и машинного обучения: NumPy, Pandas и TensorFlow. Также можно загружать и обрабатывать свои данные или работать с данными из интернета.\n",
        "\n",
        "Одно из главных преимуществ Google Colab для программирования Python ― возможность использовать GPU (графический процессор) или TPU (процессор для машинного обучения Tensor Processing Unit) для выполнения вычислительно интенсивных задач, таких как обучение глубоких нейронных сетей. Это делает Colab особенно полезным для работы с машинным обучением и искусственным интеллектом.\n",
        "\n",
        "**Все данные и код хранятся в облаке Google**."
      ]
    },
    {
      "cell_type": "markdown",
      "id": "42722866-e290-4696-a654-967a61a069f5",
      "metadata": {
        "id": "42722866-e290-4696-a654-967a61a069f5"
      },
      "source": [
        "**С Google Colab работают через Google Colab notebooks (блокноты). Вот пошаговое руководство, как начать работу:**\n",
        "1. Открыть браузер и перейти на сайт Google Colab. Для входа потребуется учетная запись Google.<br>\n",
        "2. На главной странице сразу будет несколько примеров текста и кода — можно попробовать что-то в них изменить и посмотреть, как это работает.<br>\n",
        "3. Создать новый блокнот, нажав на кнопку «Файл → Создать блокнот». Также можно открыть уже существующий с компьютера.<br>\n",
        "4. В открывшемся файле будут ячейки кода. В них можно писать код.<br>\n",
        "5. Когда код написан, можно навести на ячейку и нажать на появившуюся иконку в виде стрелочки. Код сразу выполнится.<br>\n",
        "6. Чтобы вставить новые ячейки кода, нужно нажать кнопку «+ Код». Ячейки можно добавлять и удалять.<br>\n",
        "7. Кроме кода можно вставлять текст, например для пояснений.<br>\n",
        "8. В меню доступно множество других инструментов: сохранение блокнотов на Google Drive, загрузка и сохранение данных и библиотек, работа с графиками, коллаборация с другими пользователями и многое другое.<br>\n",
        "9. После окончания работы можно сохранить блокнот на Google Drive или скачать на компьютер в различных форматах.<br>"
      ]
    },
    {
      "cell_type": "markdown",
      "id": "7c2c4c4d-3d93-427b-a45a-c80b10fba747",
      "metadata": {
        "id": "7c2c4c4d-3d93-427b-a45a-c80b10fba747"
      },
      "source": [
        "https://colab.research.google.com/"
      ]
    },
    {
      "cell_type": "markdown",
      "id": "6dcba696-e128-4bbd-8bd3-89e7ea727df7",
      "metadata": {
        "id": "6dcba696-e128-4bbd-8bd3-89e7ea727df7"
      },
      "source": [
        "### 4. Работа с Python в Jupyter Notebook\n",
        "\n",
        "Чтобы создать новый файл, кликните File -> New -> Notebook\n",
        "\n",
        "Ноутбук состоит из ячеек (cells), которые бывают текстовыми (Markdown) и кодовыми (Code).\n",
        "Выбрать тип ячейки можно на панели управления.\n",
        "\n",
        "Работа с ячейками:\n",
        "<ul>\n",
        "    <li> Выбор ячейки — нажмите на нее мышкой.</li>\n",
        "    <li> Редактирование — нажмите на нее два раза.</li>\n",
        "    <li> Запуск ячейки — `SHIFT+ENTER` или нажмите на кнопку <button class='fa fa-play icon-play btn btn-xs btn-default'></button> на панели.</li>\n",
        "    <li> Добавление новой ячейки — нажмите на кнопку <button class='fa fa-plus icon-plus btn btn-xs btn-default'></button> на панели.</li>\n",
        "    <li> Удаление ячейки — нажмите на кнопку <button class='fa fa-cut icon-cut btn btn-xs btn-default'></button> на панели.</li>\n",
        "    <li> Перемещение ячейки — нажмите на вертикальные стрелки.</li>\n",
        "</ul>"
      ]
    },
    {
      "cell_type": "markdown",
      "id": "f6b77c33-181a-45b6-9bbe-a5eec3237170",
      "metadata": {
        "id": "f6b77c33-181a-45b6-9bbe-a5eec3237170"
      },
      "source": [
        "### 5. Текстовые ячейки\n",
        "Текстовые ячейки содержат в себе обычный текст, который может включать в себя формулы $\\LaTeX$ и `html`-команды:  \n",
        "\n",
        "$$f(x) = \\frac{1}{x}$$  \n",
        "\n",
        "$\\LaTeX$ cheat sheet -  https://wch.github.io/latexsheet/"
      ]
    },
    {
      "cell_type": "markdown",
      "id": "3cd2a9f2-eafd-449f-b3f6-c136ac9265b7",
      "metadata": {
        "id": "3cd2a9f2-eafd-449f-b3f6-c136ac9265b7"
      },
      "source": [
        "### 6. IPython и Jupyter для воспроизводимых исследований\n",
        "То, что вы сейчас видите - это тетрадка IPython (IPython notebook), интерактивная среда для вычислений, способная совмещать код, картинки, markdown-разметку и графики.\n",
        "\n",
        "Пример с сайта http://ipython.org/\n",
        "\n",
        "Тетрадка IPython имеет расширение *.ipynb* и запускается локально командой\n",
        "<p><i><b>>> ipython notebook</b></i></p>\n",
        "\n",
        "Выполнять и редактировать тетрадку можно в браузере http://localhost:8888/\n",
        "\n",
        "Начиная с версии IPython 4.0, большая часть проекта перешла в Jupyter.<br>\n",
        "<a href=\"http://jupyter.org/\">Jupyter</a> - это веб-приложение для обмена документами, в которых можно выполнять код на 40 популярных в анализе данных языках, включая Python, R, Julia и Scala.\n",
        "\n",
        "Тетрадки IPython - отличный способ представить идею, сразу поделиться кодом, хороши для воспроизводимости исследований, включающих написание кода."
      ]
    },
    {
      "cell_type": "markdown",
      "id": "68ddc73b-0c49-49cb-944a-405fc1c890b4",
      "metadata": {
        "id": "68ddc73b-0c49-49cb-944a-405fc1c890b4"
      },
      "source": [
        "### 7. Маркдауны\n",
        "**Markdown** - это облегчённый язык разметки, который преобразует текст в структурированный HTML. Следующее руководство поможет вам разобраться, как использовать Markdown.<br>\n",
        "https://gist.github.com/Jekins/2bf2d0638163f1294637<br>\n",
        "https://paulradzkov.com/2014/markdown_cheatsheet/"
      ]
    },
    {
      "cell_type": "markdown",
      "id": "20ca03f5-3641-487e-9f8b-bad61c0a72d5",
      "metadata": {
        "id": "20ca03f5-3641-487e-9f8b-bad61c0a72d5"
      },
      "source": [
        "# Задание\n",
        "Оформите ниже **два абзаца текста с использованием синтаксиса Markdown**. В оформленном тексте должны присутствовать:\n",
        "1. три заголовках различных уровней;\n",
        "2. маркированный список;\n",
        "3. многоуровневый список;\n",
        "4. цитата;\n",
        "5. ссылка, отделенная от текста горизонтальной линией;\n",
        "6. различные начертания для слов внутри текста (курсив, жирный, зачеркнутый);\n",
        "7. встроенное изображение;\n",
        "8. чек-лист."
      ]
    },
    {
      "cell_type": "markdown",
      "source": [
        "##Да, мы давим лыбу, оставаясь в минусах\n",
        "##Любовь или деньги, че там на твоих весах?\n",
        "###Не дай Бог мама узнает, на каких ты скоростях\n",
        "\n",
        "- Не дай Бог она узнает, где ты вчера тусовал\n",
        "- Я вытираю фотку, во мне свежий воздух\n",
        "- Залетаю в поворот — нету прав и нету мозга\n",
        "\n",
        "- На ней самый свежий шмот, и, никого нет возле\n",
        "    - Она как запретный плод, мне не хватает на дозу.\n",
        "    - Мои звонки на гудок, быстрей\n",
        "\n",
        "> Бензы залетают на хэй-вей..  \n",
        "\n",
        "[Братик снова в сводке новостей](https://tekst-pesni.online/macan-benz/?ysclid=lxug4acwtb101006121)\n",
        "\n",
        "*Нас ждут только* **улицы разбитых** ~фонарей~\n",
        "\n",
        "![](https://img.razrisyika.ru/kart/98/1200/389607-mashinka-gelik-10.jpg)\n",
        "\n",
        "- [x] чек\n",
        "- [x] лист"
      ],
      "metadata": {
        "id": "TNgCh_g5gPAO"
      },
      "id": "TNgCh_g5gPAO"
    },
    {
      "cell_type": "markdown",
      "id": "671b71fe-1c6a-4acd-baeb-ac7c86a5125a",
      "metadata": {
        "id": "671b71fe-1c6a-4acd-baeb-ac7c86a5125a"
      },
      "source": []
    },
    {
      "cell_type": "markdown",
      "source": [],
      "metadata": {
        "id": "PSXdaNVelEOe"
      },
      "id": "PSXdaNVelEOe"
    },
    {
      "cell_type": "markdown",
      "id": "48e75074-cdc8-4bd9-84cf-4a2d7df4961a",
      "metadata": {
        "id": "48e75074-cdc8-4bd9-84cf-4a2d7df4961a"
      },
      "source": [
        "## Часть 03. Философия Python, стандарты, PEP 8"
      ]
    },
    {
      "cell_type": "markdown",
      "id": "8128d3db-d883-43b6-837f-de43e2cf7362",
      "metadata": {
        "id": "8128d3db-d883-43b6-837f-de43e2cf7362"
      },
      "source": [
        "**Название** - **«Питон» или «Пайтон»** (в честь комедийных серий BBC «Летающий цирк Монти-Пайтона»)  \n",
        "**Создатель** - **голландец Гвидо ван Россум (Guido van Rossum)** (в 1991 году)  \n",
        "\n",
        "**Особенности**:  \n",
        "- интерпретируемый\n",
        "- объектно-ориентированный\n",
        "- высокоуровневый язык\n",
        "- встроенные высокоуровневые структуры данных\n",
        "- динамическая типизация\n",
        "- синтаксис прост в изучении\n",
        "- поддержка модулей и пакетов (большинство библиотек\n",
        "бесплатны)\n",
        "- универсальный\n",
        "- интеграция с другими языками (C (Cython), C++, Java (JPython))  "
      ]
    },
    {
      "cell_type": "markdown",
      "id": "c63c3ec0-0030-43f2-a89e-0bda59ff1c21",
      "metadata": {
        "id": "c63c3ec0-0030-43f2-a89e-0bda59ff1c21"
      },
      "source": [
        "**Python** - это свободный интерпретируемый объектно-ориентированный расширяемый встраиваемый язык программирования очень высокого уровня (Г.Россум, Ф.Л.Дж.Дрейк, Д.С.Откидач \"Язык программирования Python\")\n",
        " - свободный - все исходные тексты открыты для любого использования, даже коммерческого\n",
        " - интерпретируемый - использует \"позднее связывание\"\n",
        " - объектно-ориентированный - классическая ОО модель с множественным наследованием\n",
        " - расширяемый - имеет строго определенные API для создания модулей, типов и классов на C или C++\n",
        " - встраиваемый - имеет строго определенные API для встраивания интерпретатора в другие программы\n",
        " - очень высокого уровня - динамическая типизация, встроенные типы данных высокого уровня (например, словари), классы, модули, исключения"
      ]
    },
    {
      "cell_type": "markdown",
      "id": "8ee2c23f-630d-4d8c-b97d-c7967f867da6",
      "metadata": {
        "id": "8ee2c23f-630d-4d8c-b97d-c7967f867da6"
      },
      "source": [
        "Код на Python чаще всего намного более читаемый, чем на C или C++, потому что:\n",
        "- типы данных высокого уровня позволяют выражать сложные операции одной или несколькими простыми командами\n",
        "- группирование инструкций выполняется отступами, а не фигурными скобками\n",
        "- не надо объявлять переменные"
      ]
    },
    {
      "cell_type": "markdown",
      "id": "c3dec714-fd3f-4f35-a53f-2b30b0d062fd",
      "metadata": {
        "id": "c3dec714-fd3f-4f35-a53f-2b30b0d062fd"
      },
      "source": [
        "**Стиль оформления кода** - **PEP8** (если Вы хороший человек).  \n",
        "\n",
        "*Самое главное из PEP8:*  \n",
        "- отступ – 4 пробела\n",
        "- длина строки < 80 символов\n",
        "- переменные: var_recommended\n",
        "- константы: CONST_RECOMMENDED"
      ]
    },
    {
      "cell_type": "markdown",
      "id": "4cf96f73-b317-464b-81e9-37212cd14359",
      "metadata": {
        "id": "4cf96f73-b317-464b-81e9-37212cd14359"
      },
      "source": [
        "https://netology-university.bitbucket.io/codestyle/python/<br>\n",
        "https://peps.python.org/pep-0008/"
      ]
    },
    {
      "cell_type": "markdown",
      "id": "daace445-ffb8-4de7-90b9-a7dfc86388b4",
      "metadata": {
        "id": "daace445-ffb8-4de7-90b9-a7dfc86388b4"
      },
      "source": [
        "<p><i><b>>> python</b></i></p>"
      ]
    },
    {
      "cell_type": "markdown",
      "id": "fe3db5d8-f3a9-4954-86c1-fe4328a50cb2",
      "metadata": {
        "id": "fe3db5d8-f3a9-4954-86c1-fe4328a50cb2"
      },
      "source": [
        "Программирование на Python в настоящее время придерживается целой философии, называемой «The Zen of Python» («Дзен Питона»), автором которой является Тим Петерс."
      ]
    },
    {
      "cell_type": "markdown",
      "id": "27aa754f-dbda-4de2-9b47-1d5cb8fef111",
      "metadata": {
        "id": "27aa754f-dbda-4de2-9b47-1d5cb8fef111"
      },
      "source": [
        "Дзен языка Python"
      ]
    },
    {
      "cell_type": "code",
      "execution_count": null,
      "id": "fda5e8dc-f633-4443-ae08-70b85e2443d8",
      "metadata": {
        "id": "fda5e8dc-f633-4443-ae08-70b85e2443d8",
        "outputId": "31178f98-0da8-4dac-f004-96c41abd2e03",
        "colab": {
          "base_uri": "https://localhost:8080/"
        }
      },
      "outputs": [
        {
          "output_type": "stream",
          "name": "stdout",
          "text": [
            "The Zen of Python, by Tim Peters\n",
            "\n",
            "Beautiful is better than ugly.\n",
            "Explicit is better than implicit.\n",
            "Simple is better than complex.\n",
            "Complex is better than complicated.\n",
            "Flat is better than nested.\n",
            "Sparse is better than dense.\n",
            "Readability counts.\n",
            "Special cases aren't special enough to break the rules.\n",
            "Although practicality beats purity.\n",
            "Errors should never pass silently.\n",
            "Unless explicitly silenced.\n",
            "In the face of ambiguity, refuse the temptation to guess.\n",
            "There should be one-- and preferably only one --obvious way to do it.\n",
            "Although that way may not be obvious at first unless you're Dutch.\n",
            "Now is better than never.\n",
            "Although never is often better than *right* now.\n",
            "If the implementation is hard to explain, it's a bad idea.\n",
            "If the implementation is easy to explain, it may be a good idea.\n",
            "Namespaces are one honking great idea -- let's do more of those!\n"
          ]
        }
      ],
      "source": [
        "import this"
      ]
    },
    {
      "cell_type": "markdown",
      "id": "39e95cbf-68bd-461e-b787-723fd5a7b1ff",
      "metadata": {
        "id": "39e95cbf-68bd-461e-b787-723fd5a7b1ff"
      },
      "source": [
        "# Задание\n",
        "1. Напишите **произвольный код из 7 строчек** с нарушением стиля оформления кода PEP8, допустите **более 10 различных ошибок**.\n",
        "2. Перепишите **код** без ошибок **в стиле PEP8**."
      ]
    },
    {
      "cell_type": "code",
      "execution_count": null,
      "id": "a5d53f08-37c9-41c1-8b67-c996aba4e8e8",
      "metadata": {
        "id": "a5d53f08-37c9-41c1-8b67-c996aba4e8e8",
        "colab": {
          "base_uri": "https://localhost:8080/"
        },
        "outputId": "8d5d74b5-c556-4a31-8c96-33aa40cd2ade"
      },
      "outputs": [
        {
          "output_type": "stream",
          "name": "stdout",
          "text": [
            "125\n"
          ]
        }
      ],
      "source": [
        "def sumOfSquares(a,b): result = a*a+b*b; return result\n",
        "def main(  ):\n",
        "    x= 5\n",
        "    y=10\n",
        "    print(sumOfSquares(x ,y))\n",
        "main(  )"
      ]
    },
    {
      "cell_type": "code",
      "execution_count": null,
      "id": "aa989d2e-692f-476b-b452-fcf9ca734b28",
      "metadata": {
        "id": "aa989d2e-692f-476b-b452-fcf9ca734b28",
        "colab": {
          "base_uri": "https://localhost:8080/"
        },
        "outputId": "5ab7e737-726b-4ae9-bf61-6d91e2e49583"
      },
      "outputs": [
        {
          "output_type": "stream",
          "name": "stdout",
          "text": [
            "125\n"
          ]
        }
      ],
      "source": [
        "def sum_of_squares(a, b):\n",
        "    result = a * a + b * b\n",
        "    return result\n",
        "\n",
        "def main():\n",
        "    x = 5\n",
        "    y = 10\n",
        "    print(sum_of_squares(x, y))\n",
        "\n",
        "main()"
      ]
    },
    {
      "cell_type": "markdown",
      "id": "5ed5b6f1-6688-4b98-8b40-e0e821a11267",
      "metadata": {
        "id": "5ed5b6f1-6688-4b98-8b40-e0e821a11267"
      },
      "source": [
        "## Часть 04. Основы языка Python. Типы и структуры данных"
      ]
    },
    {
      "cell_type": "markdown",
      "id": "941085bc-15b7-4239-a502-acf3588906d4",
      "metadata": {
        "id": "941085bc-15b7-4239-a502-acf3588906d4"
      },
      "source": [
        "**Переменная** – это именованная область памяти, в которой во время выполнения программы хранятся данные определенного типа.<br>\n",
        "В стандартах оформления кода PEP8 даны рекомендации по названиям переменных:\n",
        "\n",
        "- Названия не должны начинаться с цифры, но могут заканчиваться цифрой. Например, назвать переменную 7up – неправильно, а так – seven11n– можно.\n",
        "- Названия могут состоять из комбинации строчных, заглавных букв, цифр и символов подчеркивания: lower_case, mixedCase, CapitalizedCase, UPPER_CASE, lower123.\n",
        "- Не следует давать переменным названия, совпадающие со служебными словами, названиями встроенных функций и методов, к примеру – print, list, dict, set, pass, break, raise.\n",
        "- Следует избегать использования отдельных букв, которые могут быть ошибочно приняты друг за друга – l (L в нижнем регистре), I (i в верхнем регистре) или за нуль – 0.\n",
        "- В названиях не должно быть пробелов, дефисов и специальных символов, например, 'или $.\n",
        "- Главный принцип именования переменных – осмысленность. По названию переменной должно быть понятно, какого рода данные в ней хранятся – например, car_model, petName, CARD_NUMBER более информативны, чем a, а1, а2.\n",
        "\n",
        "Переменные выполняют две важные функции:\n",
        "\n",
        "- делают код понятнее;\n",
        "- дают возможность многократно использовать введенные данные."
      ]
    },
    {
      "cell_type": "code",
      "execution_count": null,
      "id": "9cbb34db-e73f-4fb7-9dce-a7ad87788d96",
      "metadata": {
        "colab": {
          "base_uri": "https://localhost:8080/",
          "height": 321
        },
        "id": "9cbb34db-e73f-4fb7-9dce-a7ad87788d96",
        "outputId": "15507f30-fd59-4328-b089-ae03ce7a85f3"
      },
      "outputs": [
        {
          "output_type": "error",
          "ename": "KeyboardInterrupt",
          "evalue": "Interrupted by user",
          "traceback": [
            "\u001b[0;31m---------------------------------------------------------------------------\u001b[0m",
            "\u001b[0;31mKeyboardInterrupt\u001b[0m                         Traceback (most recent call last)",
            "\u001b[0;32m<ipython-input-6-2e499513e042>\u001b[0m in \u001b[0;36m<cell line: 1>\u001b[0;34m()\u001b[0m\n\u001b[0;32m----> 1\u001b[0;31m \u001b[0mfirst_name\u001b[0m \u001b[0;34m=\u001b[0m \u001b[0minput\u001b[0m\u001b[0;34m(\u001b[0m\u001b[0;34m)\u001b[0m\u001b[0;34m\u001b[0m\u001b[0;34m\u001b[0m\u001b[0m\n\u001b[0m\u001b[1;32m      2\u001b[0m \u001b[0mlast_name\u001b[0m \u001b[0;34m=\u001b[0m \u001b[0minput\u001b[0m\u001b[0;34m(\u001b[0m\u001b[0;34m)\u001b[0m\u001b[0;34m\u001b[0m\u001b[0;34m\u001b[0m\u001b[0m\n\u001b[1;32m      3\u001b[0m \u001b[0mage\u001b[0m \u001b[0;34m=\u001b[0m \u001b[0minput\u001b[0m\u001b[0;34m(\u001b[0m\u001b[0;34m)\u001b[0m\u001b[0;34m\u001b[0m\u001b[0;34m\u001b[0m\u001b[0m\n",
            "\u001b[0;32m/usr/local/lib/python3.10/dist-packages/ipykernel/kernelbase.py\u001b[0m in \u001b[0;36mraw_input\u001b[0;34m(self, prompt)\u001b[0m\n\u001b[1;32m    849\u001b[0m                 \u001b[0;34m\"raw_input was called, but this frontend does not support input requests.\"\u001b[0m\u001b[0;34m\u001b[0m\u001b[0;34m\u001b[0m\u001b[0m\n\u001b[1;32m    850\u001b[0m             )\n\u001b[0;32m--> 851\u001b[0;31m         return self._input_request(str(prompt),\n\u001b[0m\u001b[1;32m    852\u001b[0m             \u001b[0mself\u001b[0m\u001b[0;34m.\u001b[0m\u001b[0m_parent_ident\u001b[0m\u001b[0;34m,\u001b[0m\u001b[0;34m\u001b[0m\u001b[0;34m\u001b[0m\u001b[0m\n\u001b[1;32m    853\u001b[0m             \u001b[0mself\u001b[0m\u001b[0;34m.\u001b[0m\u001b[0m_parent_header\u001b[0m\u001b[0;34m,\u001b[0m\u001b[0;34m\u001b[0m\u001b[0;34m\u001b[0m\u001b[0m\n",
            "\u001b[0;32m/usr/local/lib/python3.10/dist-packages/ipykernel/kernelbase.py\u001b[0m in \u001b[0;36m_input_request\u001b[0;34m(self, prompt, ident, parent, password)\u001b[0m\n\u001b[1;32m    893\u001b[0m             \u001b[0;32mexcept\u001b[0m \u001b[0mKeyboardInterrupt\u001b[0m\u001b[0;34m:\u001b[0m\u001b[0;34m\u001b[0m\u001b[0;34m\u001b[0m\u001b[0m\n\u001b[1;32m    894\u001b[0m                 \u001b[0;31m# re-raise KeyboardInterrupt, to truncate traceback\u001b[0m\u001b[0;34m\u001b[0m\u001b[0;34m\u001b[0m\u001b[0m\n\u001b[0;32m--> 895\u001b[0;31m                 \u001b[0;32mraise\u001b[0m \u001b[0mKeyboardInterrupt\u001b[0m\u001b[0;34m(\u001b[0m\u001b[0;34m\"Interrupted by user\"\u001b[0m\u001b[0;34m)\u001b[0m \u001b[0;32mfrom\u001b[0m \u001b[0;32mNone\u001b[0m\u001b[0;34m\u001b[0m\u001b[0;34m\u001b[0m\u001b[0m\n\u001b[0m\u001b[1;32m    896\u001b[0m             \u001b[0;32mexcept\u001b[0m \u001b[0mException\u001b[0m \u001b[0;32mas\u001b[0m \u001b[0me\u001b[0m\u001b[0;34m:\u001b[0m\u001b[0;34m\u001b[0m\u001b[0;34m\u001b[0m\u001b[0m\n\u001b[1;32m    897\u001b[0m                 \u001b[0mself\u001b[0m\u001b[0;34m.\u001b[0m\u001b[0mlog\u001b[0m\u001b[0;34m.\u001b[0m\u001b[0mwarning\u001b[0m\u001b[0;34m(\u001b[0m\u001b[0;34m\"Invalid Message:\"\u001b[0m\u001b[0;34m,\u001b[0m \u001b[0mexc_info\u001b[0m\u001b[0;34m=\u001b[0m\u001b[0;32mTrue\u001b[0m\u001b[0;34m)\u001b[0m\u001b[0;34m\u001b[0m\u001b[0;34m\u001b[0m\u001b[0m\n",
            "\u001b[0;31mKeyboardInterrupt\u001b[0m: Interrupted by user"
          ]
        }
      ],
      "source": [
        "first_name = input()\n",
        "last_name = input()\n",
        "age = input()"
      ]
    },
    {
      "cell_type": "code",
      "execution_count": null,
      "id": "545f824a-7050-4bb7-abb0-455aaef94c54",
      "metadata": {
        "id": "545f824a-7050-4bb7-abb0-455aaef94c54"
      },
      "outputs": [],
      "source": [
        "print(first_name)\n",
        "print(last_name)\n",
        "print(age)"
      ]
    },
    {
      "cell_type": "code",
      "execution_count": null,
      "id": "a3319080-8b12-48b8-aaed-1a5304d4be20",
      "metadata": {
        "id": "a3319080-8b12-48b8-aaed-1a5304d4be20"
      },
      "outputs": [],
      "source": [
        "first_name, last_name, age = input(), input(), input()"
      ]
    },
    {
      "cell_type": "code",
      "execution_count": null,
      "id": "2e8ab896-d3fe-46ed-9b0c-a19be4dc05a6",
      "metadata": {
        "id": "2e8ab896-d3fe-46ed-9b0c-a19be4dc05a6"
      },
      "outputs": [],
      "source": [
        "print(first_name, last_name, age)"
      ]
    },
    {
      "cell_type": "code",
      "execution_count": null,
      "id": "b88c483d-23e4-4c56-97d6-00f5c1b21372",
      "metadata": {
        "id": "b88c483d-23e4-4c56-97d6-00f5c1b21372"
      },
      "outputs": [],
      "source": [
        "x1 = x2 = x3 = input()"
      ]
    },
    {
      "cell_type": "code",
      "execution_count": null,
      "id": "a0342e9c-002b-4480-9b98-2de018cab26e",
      "metadata": {
        "id": "a0342e9c-002b-4480-9b98-2de018cab26e"
      },
      "outputs": [],
      "source": [
        "print(x1, x2, x3)"
      ]
    },
    {
      "cell_type": "markdown",
      "id": "HzbZpv-_eKoq",
      "metadata": {
        "id": "HzbZpv-_eKoq"
      },
      "source": [
        "**Все типы данных** в Python относятся к одной из **2-х категорий**: **изменяемые (mutable)** и **неизменяемые (unmutable)**.   \n",
        "\n",
        "*Неизменяемые объекты*:  \n",
        "* числовые данные (int, float),\n",
        "* bool,\n",
        "* None,\n",
        "* символьные строки (class 'str'),\n",
        "* кортежи (tuple).  \n",
        "\n",
        "*Изменяемые объекты*:  \n",
        "* списки (list),\n",
        "* множества (set),\n",
        "* словари (dict).  \n",
        "\n",
        "Вновь определяемые пользователем типы (классы) могут быть определены как неизменяемые или изменяемые. Изменяемость объектов определённого типа является принципиально важной характеристикой, определяющей, может ли объект такого типа **выступать в качестве ключа для словарей (dict)** или нет."
      ]
    },
    {
      "cell_type": "markdown",
      "id": "J3frjmb_eKor",
      "metadata": {
        "id": "J3frjmb_eKor"
      },
      "source": [
        "Рассмотрим следующие встроенные типы данных:\n",
        " - Числа (7382, 3.14, 3+4j, Decimal, Fraction)\n",
        " - Строки ('net', \"your's\", u'радость')<br>\n",
        " - Списки ([1, [2, 'three'], 4])\n",
        " - Словари ({'Alex': 2, 'Brian': 4})\n",
        " - Кортежи ('Leo', 21.7, 'single')\n",
        " - Множества (set(1,2,3), {'a', 'b', 'c'})"
      ]
    },
    {
      "cell_type": "markdown",
      "id": "0tpXdSszeKor",
      "metadata": {
        "id": "0tpXdSszeKor"
      },
      "source": [
        "### Числа"
      ]
    },
    {
      "cell_type": "markdown",
      "id": "mvndNO2zeKor",
      "metadata": {
        "id": "mvndNO2zeKor"
      },
      "source": [
        "Числа в Python бывают разные:\n",
        " - Целые числа (int): 122, -4, 99999999999, 0o177, 0x9ff, 0b101010\n",
        " - Вещественные числа (float): 1.0, 3.14, .5, 4E21, 4.0e21\n",
        " - Комплексные числа (complex): 3 + 4j, 3.0 + 4.0j,  \n",
        " - Числа фиксированной точности: decimal.Decimal('0.1')\n",
        " - Рациональные числа: fractions.Fraction(3, 4)"
      ]
    },
    {
      "cell_type": "markdown",
      "id": "sts3H0kMeKor",
      "metadata": {
        "id": "sts3H0kMeKor"
      },
      "source": [
        "### Операции с целыми и вещественными числами\n",
        "\n",
        "<img src=\"https://raw.githubusercontent.com/Yorko/python_intro/9b8b6017ad3f44b99fb6d30c9e4f6c3ef2682ee1/img/operations.png\" height=\"1201\" width=\"681\">"
      ]
    },
    {
      "cell_type": "markdown",
      "id": "xFx1ZnPPeKor",
      "metadata": {
        "id": "xFx1ZnPPeKor"
      },
      "source": [
        "### Целые числа / int"
      ]
    },
    {
      "cell_type": "code",
      "execution_count": null,
      "id": "YPgeeOhteKor",
      "metadata": {
        "id": "YPgeeOhteKor"
      },
      "outputs": [],
      "source": [
        "print(3 + 2)"
      ]
    },
    {
      "cell_type": "code",
      "execution_count": null,
      "id": "ogb8oKDieKos",
      "metadata": {
        "id": "ogb8oKDieKos"
      },
      "outputs": [],
      "source": [
        "print(3 - 2)"
      ]
    },
    {
      "cell_type": "code",
      "execution_count": null,
      "id": "SsP-z4SNeKos",
      "metadata": {
        "id": "SsP-z4SNeKos"
      },
      "outputs": [],
      "source": [
        "print(3 * 2)"
      ]
    },
    {
      "cell_type": "code",
      "execution_count": null,
      "id": "crmU9keWeKos",
      "metadata": {
        "id": "crmU9keWeKos"
      },
      "outputs": [],
      "source": [
        "print(3 / 2)"
      ]
    },
    {
      "cell_type": "code",
      "execution_count": null,
      "id": "69b15080-5871-408f-bb23-1b9cb08d9b1b",
      "metadata": {
        "id": "69b15080-5871-408f-bb23-1b9cb08d9b1b"
      },
      "outputs": [],
      "source": [
        "print(4 / 2)"
      ]
    },
    {
      "cell_type": "code",
      "execution_count": null,
      "id": "nffA5b4GeKos",
      "metadata": {
        "id": "nffA5b4GeKos"
      },
      "outputs": [],
      "source": [
        "print(3 ** 2)"
      ]
    },
    {
      "cell_type": "markdown",
      "id": "z397bVLAeKos",
      "metadata": {
        "id": "z397bVLAeKos"
      },
      "source": [
        "Можно использовать скобки для управления порядком операций."
      ]
    },
    {
      "cell_type": "code",
      "execution_count": null,
      "id": "uB9fEUlCeKos",
      "metadata": {
        "id": "uB9fEUlCeKos"
      },
      "outputs": [],
      "source": [
        "standard_order = 2 + 3 * 4\n",
        "\n",
        "print(standard_order)\n",
        "\n",
        "my_order = (2 + 3) * 4\n",
        "\n",
        "print(my_order)"
      ]
    },
    {
      "cell_type": "code",
      "execution_count": null,
      "id": "0QT1rSnveKos",
      "metadata": {
        "id": "0QT1rSnveKos"
      },
      "outputs": [],
      "source": [
        "x = 5\n",
        "\n",
        "print(x, '|', type(x))"
      ]
    },
    {
      "cell_type": "code",
      "execution_count": null,
      "id": "h_iIGEoseKot",
      "metadata": {
        "id": "h_iIGEoseKot"
      },
      "outputs": [],
      "source": [
        "a = 4 + 5\n",
        "b = 4 * 5\n",
        "c = 5 // 4\n",
        "\n",
        "print(a, b, c)"
      ]
    },
    {
      "cell_type": "code",
      "execution_count": null,
      "id": "6V0CLyq7eKot",
      "metadata": {
        "id": "6V0CLyq7eKot"
      },
      "outputs": [],
      "source": [
        "print(-(5 // 4))"
      ]
    },
    {
      "cell_type": "code",
      "execution_count": null,
      "id": "tKyKOD1VeKot",
      "metadata": {
        "id": "tKyKOD1VeKot"
      },
      "outputs": [],
      "source": [
        "print(-5 // 4)"
      ]
    },
    {
      "cell_type": "code",
      "execution_count": null,
      "id": "iQzhvWjTeKot",
      "metadata": {
        "id": "iQzhvWjTeKot"
      },
      "outputs": [],
      "source": [
        "x = 5 * 1000000000 * 1000000000 * 10**9 + 1\n",
        "print(x, '|', type(x))"
      ]
    },
    {
      "cell_type": "markdown",
      "id": "9pfREHUneKot",
      "metadata": {
        "id": "9pfREHUneKot"
      },
      "source": [
        "### Вещественные числа / float"
      ]
    },
    {
      "cell_type": "code",
      "execution_count": null,
      "id": "GHOLer1XeKot",
      "metadata": {
        "id": "GHOLer1XeKot"
      },
      "outputs": [],
      "source": [
        "print(.1 + .1)"
      ]
    },
    {
      "cell_type": "code",
      "execution_count": null,
      "id": "1hEtfk3zeKot",
      "metadata": {
        "id": "1hEtfk3zeKot"
      },
      "outputs": [],
      "source": [
        "y = 12.345\n",
        "\n",
        "print(y, type(y))"
      ]
    },
    {
      "cell_type": "code",
      "execution_count": null,
      "id": "RvpAWC-UeKot",
      "metadata": {
        "id": "RvpAWC-UeKot"
      },
      "outputs": [],
      "source": [
        "a = 4.2 + 5.1\n",
        "b = 4.2 * 5.1\n",
        "c = 5.0 / 4.0\n",
        "\n",
        "print(a, b, c)"
      ]
    },
    {
      "cell_type": "code",
      "execution_count": null,
      "id": "FCImDjm4eKot",
      "metadata": {
        "id": "FCImDjm4eKot"
      },
      "outputs": [],
      "source": [
        "a = 5\n",
        "b = 4\n",
        "\n",
        "print(float(a) / float(b))"
      ]
    },
    {
      "cell_type": "code",
      "execution_count": null,
      "id": "0nWQGSlKeKot",
      "metadata": {
        "id": "0nWQGSlKeKot"
      },
      "outputs": [],
      "source": [
        "print(a / b)"
      ]
    },
    {
      "cell_type": "markdown",
      "id": "ruvYMGmSeKot",
      "metadata": {
        "id": "ruvYMGmSeKot"
      },
      "source": [
        "### Целые числа в Python 2 и Python 3\n",
        "В Python 2 результат деления двух челых чисел - тоже целое, а в Python 3 - float."
      ]
    },
    {
      "cell_type": "code",
      "execution_count": null,
      "id": "k90JJhBneKot",
      "metadata": {
        "id": "k90JJhBneKot"
      },
      "outputs": [],
      "source": [
        "print(3 / 2)"
      ]
    },
    {
      "cell_type": "markdown",
      "id": "rzRYSy4-eKot",
      "metadata": {
        "id": "rzRYSy4-eKot"
      },
      "source": [
        "В Python 3 результат - 1.5, в Python 2 (без подключения future) - 1"
      ]
    },
    {
      "cell_type": "code",
      "execution_count": null,
      "id": "n8mPwrLreKou",
      "metadata": {
        "id": "n8mPwrLreKou"
      },
      "outputs": [],
      "source": [
        "print(4 / 2)"
      ]
    },
    {
      "cell_type": "markdown",
      "id": "LtJoWTfmeKou",
      "metadata": {
        "id": "LtJoWTfmeKou"
      },
      "source": [
        "### Приоритет арифметических операций в Python\n",
        "\n",
        "<img src=\"https://raw.githubusercontent.com/Yorko/python_intro/9b8b6017ad3f44b99fb6d30c9e4f6c3ef2682ee1/img/operations_priority.png\" height=\"1217\" width=\"532\">"
      ]
    },
    {
      "cell_type": "markdown",
      "id": "5nfKulbBeKou",
      "metadata": {
        "id": "5nfKulbBeKou"
      },
      "source": [
        "### Логический тип, bool"
      ]
    },
    {
      "cell_type": "code",
      "execution_count": null,
      "id": "E4mczIvDeKow",
      "metadata": {
        "id": "E4mczIvDeKow"
      },
      "outputs": [],
      "source": [
        "a = True\n",
        "b = False\n",
        "\n",
        "print(a, '|', type(a))\n",
        "\n",
        "print(b, '|', type(b))"
      ]
    },
    {
      "cell_type": "code",
      "execution_count": null,
      "id": "aJNUAdmfeKox",
      "metadata": {
        "id": "aJNUAdmfeKox"
      },
      "outputs": [],
      "source": [
        "print(a + b)\n",
        "print(a + a)\n",
        "print(b + b)"
      ]
    },
    {
      "cell_type": "code",
      "execution_count": null,
      "id": "ZwtNVE0KeKox",
      "metadata": {
        "id": "ZwtNVE0KeKox"
      },
      "outputs": [],
      "source": [
        "print(int(a), int(b))"
      ]
    },
    {
      "cell_type": "code",
      "execution_count": null,
      "id": "1ohnjcS1eKox",
      "metadata": {
        "id": "1ohnjcS1eKox"
      },
      "outputs": [],
      "source": [
        "print(True and False, '\\n')\n",
        "\n",
        "print(True or True, '\\n')\n",
        "\n",
        "print(not False, '\\n')"
      ]
    },
    {
      "cell_type": "markdown",
      "id": "3MmsNoKYeKox",
      "metadata": {
        "id": "3MmsNoKYeKox"
      },
      "source": [
        "### None (неопределенное значение переменной)"
      ]
    },
    {
      "cell_type": "code",
      "execution_count": null,
      "id": "_z_9QRHSeKox",
      "metadata": {
        "id": "_z_9QRHSeKox"
      },
      "outputs": [],
      "source": [
        "zero = None\n",
        "print(zero, '|', type(zero))"
      ]
    },
    {
      "cell_type": "code",
      "execution_count": null,
      "id": "qF1WxKW-eKox",
      "metadata": {
        "id": "qF1WxKW-eKox"
      },
      "outputs": [],
      "source": [
        "int(zero)\n",
        "\n",
        "#ошибка!"
      ]
    },
    {
      "cell_type": "code",
      "execution_count": null,
      "id": "CJVEbm5reKox",
      "metadata": {
        "id": "CJVEbm5reKox"
      },
      "outputs": [],
      "source": [
        "if zero is None:\n",
        "    zero = 'I am None!'\n",
        "zero"
      ]
    },
    {
      "cell_type": "markdown",
      "id": "86f30a7d-2281-47e5-9abd-89d0b73d596a",
      "metadata": {
        "id": "86f30a7d-2281-47e5-9abd-89d0b73d596a"
      },
      "source": [
        "### Приведение типов"
      ]
    },
    {
      "cell_type": "markdown",
      "id": "ddfb246e-ce0a-4483-94f4-52f21566d7b7",
      "metadata": {
        "id": "ddfb246e-ce0a-4483-94f4-52f21566d7b7"
      },
      "source": [
        "Иногда требуется преобразовать тип переменной, например, из числа с плавающей точкой сделать целое число. Зачем это бывает нужно? Для удобства и для более корректной выдачи результатов. Например, у нас есть база данных по респондентам, в которой указан их год рождения, и мы хотим добавить столбец с возрастом респондентов (числом полных лет). Из-за того, что кто-то ввёл год в виде 1993.0, возраст при вычислениях тоже получится числом с плавающей точкой — 25.0. Так как мы знаем, что возраст всегда будет целым, чтобы дробная часть не смущала, можно привести все значения к целочисленному типу.\n",
        "\n",
        "Функции для изменения типа переменных называются так же, как сами типы или их сокращённые названия (если таковые предусмотрены). Рассмотрим приведение типов на примерах.\n",
        "\n",
        "Превратим возраст с нулевой дробной частью в целое число:"
      ]
    },
    {
      "cell_type": "code",
      "execution_count": null,
      "id": "661a58e9-da02-48c8-8d43-510ed34a68ef",
      "metadata": {
        "id": "661a58e9-da02-48c8-8d43-510ed34a68ef"
      },
      "outputs": [],
      "source": [
        "age = 25.0\n",
        "age2 = int(age)\n",
        "\n",
        "print(age2)"
      ]
    },
    {
      "cell_type": "code",
      "execution_count": null,
      "id": "d902ebb3-6674-4472-b9bf-938d5d263eee",
      "metadata": {
        "id": "d902ebb3-6674-4472-b9bf-938d5d263eee"
      },
      "outputs": [],
      "source": [
        "float(23)"
      ]
    },
    {
      "cell_type": "code",
      "execution_count": null,
      "id": "7ce285b9-dddd-4d3d-85e4-8fb64ffaee62",
      "metadata": {
        "id": "7ce285b9-dddd-4d3d-85e4-8fb64ffaee62"
      },
      "outputs": [],
      "source": [
        "str(2)"
      ]
    },
    {
      "cell_type": "code",
      "execution_count": null,
      "id": "f9205d76-9652-4426-9f65-d762ad384544",
      "metadata": {
        "id": "f9205d76-9652-4426-9f65-d762ad384544"
      },
      "outputs": [],
      "source": [
        "str(56.7)"
      ]
    },
    {
      "cell_type": "code",
      "execution_count": null,
      "id": "0006aa14-5caf-4a15-942a-b8247ad942e2",
      "metadata": {
        "id": "0006aa14-5caf-4a15-942a-b8247ad942e2"
      },
      "outputs": [],
      "source": [
        "float('23.9')"
      ]
    },
    {
      "cell_type": "code",
      "execution_count": null,
      "id": "34f814ce-c1fa-4bf9-a8ac-56649b2aeb6a",
      "metadata": {
        "id": "34f814ce-c1fa-4bf9-a8ac-56649b2aeb6a"
      },
      "outputs": [],
      "source": [
        "int('23')"
      ]
    },
    {
      "cell_type": "code",
      "execution_count": null,
      "id": "3a4e73d5-35ce-48cd-9641-cead7f0ba3e4",
      "metadata": {
        "id": "3a4e73d5-35ce-48cd-9641-cead7f0ba3e4"
      },
      "outputs": [],
      "source": [
        "float('23,56')"
      ]
    },
    {
      "cell_type": "code",
      "execution_count": null,
      "id": "423d4eb4-b96d-4fdb-b50c-ef97b867532e",
      "metadata": {
        "id": "423d4eb4-b96d-4fdb-b50c-ef97b867532e"
      },
      "outputs": [],
      "source": [
        "num = input('Введите число: ')"
      ]
    },
    {
      "cell_type": "code",
      "execution_count": null,
      "id": "39ea77e6-e44b-48cd-ac3d-1e0ed35484f2",
      "metadata": {
        "id": "39ea77e6-e44b-48cd-ac3d-1e0ed35484f2"
      },
      "outputs": [],
      "source": [
        "num / 5"
      ]
    },
    {
      "cell_type": "markdown",
      "id": "57ef4ffb-30b0-451d-943a-29478d28e3f9",
      "metadata": {
        "id": "57ef4ffb-30b0-451d-943a-29478d28e3f9"
      },
      "source": [
        "Функция `input()` всегда возвращает обект типа *string*. Тут нам и пригодится преобразование типов переменных:"
      ]
    },
    {
      "cell_type": "code",
      "execution_count": null,
      "id": "91864a3b-629c-4b4f-ba0e-775d2fc14fdd",
      "metadata": {
        "id": "91864a3b-629c-4b4f-ba0e-775d2fc14fdd"
      },
      "outputs": [],
      "source": [
        "num = int(input('Введите число: '))\n",
        "\n",
        "print(num, type(num))"
      ]
    },
    {
      "cell_type": "code",
      "execution_count": null,
      "id": "274e2eb6-2fc2-465d-9c47-3db179e06a91",
      "metadata": {
        "id": "274e2eb6-2fc2-465d-9c47-3db179e06a91"
      },
      "outputs": [],
      "source": [
        "num = float(input('Введите число: '))\n",
        "\n",
        "print(num)"
      ]
    },
    {
      "cell_type": "markdown",
      "id": "d8753561-9f4d-4bb7-a4c7-32d94767087b",
      "metadata": {
        "id": "d8753561-9f4d-4bb7-a4c7-32d94767087b"
      },
      "source": [
        "# Задание (модуль math)\n",
        "Напишите **программу**, реализующую следующие действия:\n",
        "\n",
        "1. Инициализировать переменную `x`\n",
        "2. Вычислить:\n",
        "    - $|x|$\n",
        "    - $\\sqrt{x}$\n",
        "    - $x^3$\n",
        "    - $sin(x)$\n",
        "    - $cos(x)$\n",
        "    - $e^x$\n",
        "3. Инициализировать переменные `a`, `b`, 0 < `b` < 10\n",
        "4. Вычислить:<br>\n",
        "$$\n",
        "\\begin{align}\n",
        "\\sqrt{0.45 + a^3} + ln|b - 10| - \\frac{e^{b - a}}{cos^2(\\pi + 1/2)}\n",
        "\\end{align}\n",
        "$$"
      ]
    },
    {
      "cell_type": "code",
      "execution_count": null,
      "id": "27a8d545-dba7-472f-81b5-4c4f962798b4",
      "metadata": {
        "id": "27a8d545-dba7-472f-81b5-4c4f962798b4"
      },
      "outputs": [],
      "source": [
        "import math"
      ]
    },
    {
      "cell_type": "code",
      "source": [
        "x = 9\n",
        "\n",
        "print(\"Модуль x :\", abs(x))\n",
        "print(\"Квадратный корень из x :\", math.sqrt(x))\n",
        "print(\"x в кубе :\", x**3)\n",
        "print(\"Синус x :\", math.sin(x))\n",
        "print(\"Косинус x :\", math.cos(x))\n",
        "print(\"Экспонента от x :\", math.exp(x)\n",
        ")"
      ],
      "metadata": {
        "colab": {
          "base_uri": "https://localhost:8080/"
        },
        "id": "mgAScYUzrJHR",
        "outputId": "e22f2c7a-065f-4e60-ef64-73a03991033b"
      },
      "id": "mgAScYUzrJHR",
      "execution_count": null,
      "outputs": [
        {
          "output_type": "stream",
          "name": "stdout",
          "text": [
            "Модуль x : 9\n",
            "Квадратный корень из x : 3.0\n",
            "x в кубе : 729\n",
            "Синус x : 0.4121184852417566\n",
            "Косинус x : -0.9111302618846769\n",
            "Экспонента от x : 8103.083927575384\n"
          ]
        }
      ]
    },
    {
      "cell_type": "code",
      "execution_count": null,
      "id": "52d63d89-3d33-47ab-b871-6cd23cae3849",
      "metadata": {
        "colab": {
          "base_uri": "https://localhost:8080/"
        },
        "id": "52d63d89-3d33-47ab-b871-6cd23cae3849",
        "outputId": "441f0ac5-c9bc-40ab-c10c-218c01586adb"
      },
      "outputs": [
        {
          "output_type": "stream",
          "name": "stdout",
          "text": [
            "Результат: -21.563667035877174\n"
          ]
        }
      ],
      "source": [
        "a = 2\n",
        "b = 5\n",
        "\n",
        "result = math.sqrt(0.45 + a**3) +math.log(abs(b - 10)) - math.exp(b - a) / math.cos(math.pi + 1/2)**2\n",
        "\n",
        "print(\"Результат:\", result)"
      ]
    },
    {
      "cell_type": "markdown",
      "id": "2fc1979c-7640-49f4-9b6e-7130eccb14fa",
      "metadata": {
        "id": "2fc1979c-7640-49f4-9b6e-7130eccb14fa"
      },
      "source": [
        "### Операторы сравнения. Логические операции"
      ]
    },
    {
      "cell_type": "markdown",
      "id": "afca92f0-c787-4afc-9d0a-49e5a3a66ff6",
      "metadata": {
        "id": "afca92f0-c787-4afc-9d0a-49e5a3a66ff6"
      },
      "source": [
        "Операция           | Название    | Семантика\n",
        "--------           | --------    | --------\n",
        "оператор  ==       | равенство   | Проверяет, равны ли операнды между собой. Если они равны, то выражение становится истинным\n",
        "оператор  !=       | неравенство | Проверяет, равны ли операнды между собой. Если они не равны, то выражение становится истинным\n",
        "оператор  >        | больше      | Проверяет, больше ли левый операнд чем правый, если больше, то выражение становится истинным\n",
        "оператор  <        | меньше      | Проверяет, меньше ли левый операнд чем правый, если меньше, то выражение становится истинным\n",
        "оператор  >=       | не меньше   | Проверяет, больше левый операнд, чем правый, или равен ему. Если больше или равен, то выражение становится истинным\n",
        "оператор  <=       | не больше   | Проверяет, меньше левый операнд, чем правый, или равен ему. Если меньше или равен, то выражение становится истинным"
      ]
    },
    {
      "cell_type": "markdown",
      "id": "bcdb17ae-4fec-491d-ba84-8564f3751e3e",
      "metadata": {
        "id": "bcdb17ae-4fec-491d-ba84-8564f3751e3e"
      },
      "source": [
        "### Логические операторы"
      ]
    },
    {
      "cell_type": "markdown",
      "id": "fe2c1250-5f99-4348-9ca3-df4aafceff59",
      "metadata": {
        "id": "fe2c1250-5f99-4348-9ca3-df4aafceff59"
      },
      "source": [
        "**and** - Логический оператор \"И\". Условие будет истинным, если оба операнда истина.\n",
        "\n",
        "```\n",
        "True and True = True\n",
        "\n",
        "True and False = False\n",
        "\n",
        "False and True = False\n",
        "\n",
        "False and False = False\n",
        "```\n",
        "\n",
        "\n",
        "**or** - Логический оператор \"ИЛИ\". Если хотя бы один из операндов истинный, то и все выражение будет истинным.\n",
        "\n",
        "```\n",
        "True or True = True\n",
        "\n",
        "True or False = True\n",
        "\n",
        "False or True = True\n",
        "\n",
        "False or False = False\n",
        "```\n",
        "\n",
        "**not** - Логический оператор \"НЕ\". Изменяет логическое значение операнда на противоположное (инверсия).\n",
        "\n",
        "```\n",
        "not True = False\n",
        "\n",
        "not False = True\n",
        "```"
      ]
    },
    {
      "cell_type": "markdown",
      "id": "c9MjHceleKox",
      "metadata": {
        "id": "c9MjHceleKox"
      },
      "source": [
        "### Строки"
      ]
    },
    {
      "cell_type": "markdown",
      "id": "-mm5O3jUeKox",
      "metadata": {
        "id": "-mm5O3jUeKox"
      },
      "source": [
        "#### Строки выделяются одинарными или двойными кавычками"
      ]
    },
    {
      "cell_type": "code",
      "execution_count": null,
      "id": "GfPdvyhUeKox",
      "metadata": {
        "id": "GfPdvyhUeKox"
      },
      "outputs": [],
      "source": [
        "my_string = \"This is a double-quoted string.\"\n",
        "\n",
        "print(my_string)\n",
        "print(my_string, '|', type(my_string))\n",
        "\n",
        "my_string = 'This is a single-quoted string.'\n",
        "\n",
        "print(my_string)\n",
        "print(my_string, '|', type(my_string))"
      ]
    },
    {
      "cell_type": "code",
      "execution_count": null,
      "id": "b9CvnxmkeKox",
      "metadata": {
        "id": "b9CvnxmkeKox"
      },
      "outputs": [],
      "source": [
        "quote = \"Linus Torvalds once said, 'Any program is only as good as it is useful.'\"\n",
        "\n",
        "print(quote)"
      ]
    },
    {
      "cell_type": "code",
      "execution_count": null,
      "id": "ouL0MIU5eKox",
      "metadata": {
        "id": "ouL0MIU5eKox"
      },
      "outputs": [],
      "source": [
        "first_name = 'eric'\n",
        "\n",
        "print(first_name)\n",
        "print(first_name.title())"
      ]
    },
    {
      "cell_type": "markdown",
      "id": "21LkO-FqeKoy",
      "metadata": {
        "id": "21LkO-FqeKoy"
      },
      "source": [
        "#### Разные регистры"
      ]
    },
    {
      "cell_type": "code",
      "execution_count": null,
      "id": "dHhs-mnieKoy",
      "metadata": {
        "id": "dHhs-mnieKoy"
      },
      "outputs": [],
      "source": [
        "first_name = 'eric'\n",
        "\n",
        "print(first_name)\n",
        "print(first_name.title())\n",
        "print(first_name.upper())\n",
        "\n",
        "first_name = 'Eric'\n",
        "print(first_name.lower())"
      ]
    },
    {
      "cell_type": "markdown",
      "id": "a02Ivsq3eKoy",
      "metadata": {
        "id": "a02Ivsq3eKoy"
      },
      "source": [
        "*upper()*, *lower()* и *title()* - это методы.\n",
        "\n",
        "Синтаксис: variable_name.action()\n",
        "\n",
        "*action* - это название метода, который можно применить к переменной *variable_name*. В скобках можно указывать другие переменные (аргументы) метода."
      ]
    },
    {
      "cell_type": "markdown",
      "id": "-VJwR3yreKoy",
      "metadata": {
        "id": "-VJwR3yreKoy"
      },
      "source": [
        "#### Конкатенация (\"склеивание\") строк"
      ]
    },
    {
      "cell_type": "code",
      "execution_count": null,
      "id": "R-juxwY6eKoy",
      "metadata": {
        "id": "R-juxwY6eKoy"
      },
      "outputs": [],
      "source": [
        "first_name = 'ada'\n",
        "last_name = 'lovelace'\n",
        "\n",
        "full_name = first_name + ' ' + last_name\n",
        "\n",
        "print(full_name.title())"
      ]
    },
    {
      "cell_type": "code",
      "execution_count": null,
      "id": "FK3bZohqeKoy",
      "metadata": {
        "id": "FK3bZohqeKoy"
      },
      "outputs": [],
      "source": [
        "first_name = 'ada'\n",
        "last_name = 'lovelace'\n",
        "full_name = first_name + ' ' + last_name\n",
        "\n",
        "message = full_name.title() + ' ' + \"was considered the world's first computer programmer.\"\n",
        "\n",
        "print(message)"
      ]
    },
    {
      "cell_type": "markdown",
      "id": "ssO8csmdeKoy",
      "metadata": {
        "id": "ssO8csmdeKoy"
      },
      "source": [
        "#### Пробельные символы (whitespaces)\n",
        " - \" \" - пробел (очевидно)\n",
        " - \"\\t\" - табуляция\n",
        " - \"\\n\" - перенос строки"
      ]
    },
    {
      "cell_type": "code",
      "execution_count": null,
      "id": "_jkTdtoWeKoy",
      "metadata": {
        "id": "_jkTdtoWeKoy"
      },
      "outputs": [],
      "source": [
        "print(\"Hello everyone!\")"
      ]
    },
    {
      "cell_type": "code",
      "execution_count": null,
      "id": "WUyI0509eKoy",
      "metadata": {
        "id": "WUyI0509eKoy"
      },
      "outputs": [],
      "source": [
        "print(\"\\tHello everyone!\")"
      ]
    },
    {
      "cell_type": "code",
      "execution_count": null,
      "id": "hHu4bWqteKoy",
      "metadata": {
        "id": "hHu4bWqteKoy"
      },
      "outputs": [],
      "source": [
        "print(\"Hello \\teveryone!\")"
      ]
    },
    {
      "cell_type": "code",
      "execution_count": null,
      "id": "argHmmEjeKoy",
      "metadata": {
        "id": "argHmmEjeKoy"
      },
      "outputs": [],
      "source": [
        "print(\"Hello!\")\n",
        "print(\"\\nHello everyone!\")"
      ]
    },
    {
      "cell_type": "code",
      "execution_count": null,
      "id": "tnX6Pw6deKoz",
      "metadata": {
        "id": "tnX6Pw6deKoz"
      },
      "outputs": [],
      "source": [
        "print(\"Hello \\neveryone!\")"
      ]
    },
    {
      "cell_type": "code",
      "execution_count": null,
      "id": "PeKQcEDMeKoz",
      "metadata": {
        "id": "PeKQcEDMeKoz"
      },
      "outputs": [],
      "source": [
        "print(\"\\n\\n\\nHello everyone!\")"
      ]
    },
    {
      "cell_type": "markdown",
      "id": "HHLOItZBeKoz",
      "metadata": {
        "id": "HHLOItZBeKoz"
      },
      "source": [
        "#### Удаление лишних пробельных символов\n",
        "\n",
        "Часто при заполнении веб-форм появляются лишние пробелы слева и/или справа. От них можно избавиться."
      ]
    },
    {
      "cell_type": "code",
      "execution_count": null,
      "id": "zC3XxjWkeKoz",
      "metadata": {
        "id": "zC3XxjWkeKoz"
      },
      "outputs": [],
      "source": [
        "name = ' eric '\n",
        "\n",
        "print(name.lstrip())\n",
        "print(name.rstrip())\n",
        "print(name.strip())"
      ]
    },
    {
      "cell_type": "markdown",
      "id": "C3A9yxhSeKoz",
      "metadata": {
        "id": "C3A9yxhSeKoz"
      },
      "source": [
        "Так нагляднее:"
      ]
    },
    {
      "cell_type": "code",
      "execution_count": null,
      "id": "bWLpEjTfeKoz",
      "metadata": {
        "id": "bWLpEjTfeKoz"
      },
      "outputs": [],
      "source": [
        "name = ' eric '\n",
        "\n",
        "print('-' + name.lstrip() + '-')\n",
        "print('-' + name.rstrip() + '-')\n",
        "print('-' + name.strip() + '-')"
      ]
    },
    {
      "cell_type": "markdown",
      "id": "DDYJhi8HeKoz",
      "metadata": {
        "id": "DDYJhi8HeKoz"
      },
      "source": [
        "Избавляться можно не только от пробелов. Здесь ',' - аргумент методов *lstrip()*, *rstrip()* и *strip()*"
      ]
    },
    {
      "cell_type": "code",
      "execution_count": null,
      "id": "FQklIX8eeKoz",
      "metadata": {
        "id": "FQklIX8eeKoz"
      },
      "outputs": [],
      "source": [
        "name = ',,eric,,'\n",
        "\n",
        "print('-' + name.lstrip(',') + '-')\n",
        "print('-' + name.rstrip(',') + '-')\n",
        "print('-' + name.strip(',') + '-')"
      ]
    },
    {
      "cell_type": "markdown",
      "id": "h23UtcBQeKoz",
      "metadata": {
        "id": "h23UtcBQeKoz"
      },
      "source": [
        "### Методы для работы со строками\n",
        "Обзор на <a href=\"http://pythonworld.ru/tipy-dannyx-v-python/stroki-funkcii-i-metody-strok.html\">Pythonworld</a>\n",
        "\n",
        "Все методы строк:"
      ]
    },
    {
      "cell_type": "code",
      "execution_count": null,
      "id": "6dooDGD8eKoz",
      "metadata": {
        "id": "6dooDGD8eKoz"
      },
      "outputs": [],
      "source": [
        "dir(str)"
      ]
    },
    {
      "cell_type": "markdown",
      "id": "jOO4Dx0ZeKoz",
      "metadata": {
        "id": "jOO4Dx0ZeKoz"
      },
      "source": [
        "**find** - поиск подстроки в строке. Возвращает номер первого вхождения или -1"
      ]
    },
    {
      "cell_type": "code",
      "execution_count": null,
      "id": "pGyP85xReKoz",
      "metadata": {
        "id": "pGyP85xReKoz"
      },
      "outputs": [],
      "source": [
        "\"we bought a new house and we are happy\".find(\"we\")"
      ]
    },
    {
      "cell_type": "code",
      "execution_count": null,
      "id": "4-SS2SKceKoz",
      "metadata": {
        "id": "4-SS2SKceKoz"
      },
      "outputs": [],
      "source": [
        "\"we bought a new house and we are happy\".find(\"new\")"
      ]
    },
    {
      "cell_type": "code",
      "execution_count": null,
      "id": "cvtmmq6beKoz",
      "metadata": {
        "id": "cvtmmq6beKoz"
      },
      "outputs": [],
      "source": [
        "\"we bought a new house and we are happy\".find(\"up\")"
      ]
    },
    {
      "cell_type": "markdown",
      "id": "qzhPrzkVeKoz",
      "metadata": {
        "id": "qzhPrzkVeKoz"
      },
      "source": [
        "**rfind** - поиск подстроки в строке. Возвращает номер последнего вхождения или -1"
      ]
    },
    {
      "cell_type": "code",
      "execution_count": null,
      "id": "8RN0JXCdeKo0",
      "metadata": {
        "id": "8RN0JXCdeKo0"
      },
      "outputs": [],
      "source": [
        "\"we bought a new house and we are happy\".rfind(\"we\")"
      ]
    },
    {
      "cell_type": "markdown",
      "id": "NwUqzXy5eKo0",
      "metadata": {
        "id": "NwUqzXy5eKo0"
      },
      "source": [
        "**index** - поиск подстроки в строке. Возвращает номер первого вхождения или вызывает ValueError"
      ]
    },
    {
      "cell_type": "code",
      "execution_count": null,
      "id": "IkS3qbR7eKo0",
      "metadata": {
        "id": "IkS3qbR7eKo0"
      },
      "outputs": [],
      "source": [
        "\"we bought a new house and we are happy\".index(\"we\")"
      ]
    },
    {
      "cell_type": "code",
      "execution_count": null,
      "id": "eSbwJ2bseKo0",
      "metadata": {
        "id": "eSbwJ2bseKo0"
      },
      "outputs": [],
      "source": [
        "\"we bought a new house and we are happy\".index(\"land\")"
      ]
    },
    {
      "cell_type": "markdown",
      "id": "okQO7Zm-eKo0",
      "metadata": {
        "id": "okQO7Zm-eKo0"
      },
      "source": [
        "**rindex** - поиск подстроки в строке. Возвращает номер последнего вхождения или вызывает ValueError"
      ]
    },
    {
      "cell_type": "code",
      "execution_count": null,
      "id": "I4OJZhG_eKo0",
      "metadata": {
        "id": "I4OJZhG_eKo0"
      },
      "outputs": [],
      "source": [
        "\"we bought a new house and we are happy\".rindex(\"we\")"
      ]
    },
    {
      "cell_type": "code",
      "execution_count": null,
      "id": "UQzjrDdseKo0",
      "metadata": {
        "id": "UQzjrDdseKo0"
      },
      "outputs": [],
      "source": [
        "\"we bought a new house and we are happy\".rindex(\"land\")"
      ]
    },
    {
      "cell_type": "markdown",
      "id": "_IE1AWz7eKo0",
      "metadata": {
        "id": "_IE1AWz7eKo0"
      },
      "source": [
        "**replace** - замена по шаблону"
      ]
    },
    {
      "cell_type": "code",
      "execution_count": null,
      "id": "HwzYP1m8eKo0",
      "metadata": {
        "id": "HwzYP1m8eKo0"
      },
      "outputs": [],
      "source": [
        "help(str.replace)"
      ]
    },
    {
      "cell_type": "code",
      "execution_count": null,
      "id": "DQXWsqEXeKo0",
      "metadata": {
        "id": "DQXWsqEXeKo0"
      },
      "outputs": [],
      "source": [
        "\"we bought a new house\".replace(\"house\", \"building\")"
      ]
    },
    {
      "cell_type": "code",
      "execution_count": null,
      "id": "6c0yWAvqeKo0",
      "metadata": {
        "id": "6c0yWAvqeKo0"
      },
      "outputs": [],
      "source": [
        "\"bla bla bla\".replace(\"bla\", \"wow\", 3)"
      ]
    },
    {
      "cell_type": "markdown",
      "id": "zC9tTaQheKo0",
      "metadata": {
        "id": "zC9tTaQheKo0"
      },
      "source": [
        "**split** - разбиение строки по разделителю"
      ]
    },
    {
      "cell_type": "code",
      "execution_count": null,
      "id": "tKcmDB1feKo0",
      "metadata": {
        "id": "tKcmDB1feKo0"
      },
      "outputs": [],
      "source": [
        "\"hello#$great#$to#$see#$you\".split(\"#$\")"
      ]
    },
    {
      "cell_type": "markdown",
      "id": "pAS-oRPweKo0",
      "metadata": {
        "id": "pAS-oRPweKo0"
      },
      "source": [
        "- **isdigit** - состоит ли строка из цифр;\n",
        "- **isalpha** - состоит ли строка из букв;\n",
        "- **isalnum** - состоит ли строка из цифр или букв;\n",
        "- **islower** - состоит ли строка из символов в нижнем регистре;\n",
        "- **isupper** - состоит ли строка из символов в верхнем регистре;\n",
        "- **istitle** - начинаются ли слова в строке с заглавной буквы."
      ]
    },
    {
      "cell_type": "code",
      "execution_count": null,
      "id": "YsRlLa-1eKo0",
      "metadata": {
        "id": "YsRlLa-1eKo0"
      },
      "outputs": [],
      "source": [
        "splitted_line = \"Райгородский Андрей Михайлович\".split(' ')\n",
        "print(splitted_line)"
      ]
    },
    {
      "cell_type": "code",
      "execution_count": null,
      "id": "zkRkyvFXeKo1",
      "metadata": {
        "id": "zkRkyvFXeKo1"
      },
      "outputs": [],
      "source": [
        "\"hello#$great#$to#$see#$you\".isdigit()"
      ]
    },
    {
      "cell_type": "code",
      "execution_count": null,
      "id": "cYFfD-L9eKo1",
      "metadata": {
        "id": "cYFfD-L9eKo1"
      },
      "outputs": [],
      "source": [
        "\"454654546546\".isdigit()"
      ]
    },
    {
      "cell_type": "markdown",
      "id": "ix2tUFHxeKo1",
      "metadata": {
        "collapsed": true,
        "id": "ix2tUFHxeKo1",
        "jupyter": {
          "outputs_hidden": true
        }
      },
      "source": [
        "**join** - сборка строки из списка по разделителю, применяется к разделителю"
      ]
    },
    {
      "cell_type": "code",
      "execution_count": null,
      "id": "eyLJqabCeKo1",
      "metadata": {
        "id": "eyLJqabCeKo1"
      },
      "outputs": [],
      "source": [
        "\",\".join([\"Ann\", \"Leo\", \"Tiffany\"])"
      ]
    },
    {
      "cell_type": "markdown",
      "id": "XFiQilCieKo1",
      "metadata": {
        "id": "XFiQilCieKo1"
      },
      "source": [
        "**len()** - длина строки"
      ]
    },
    {
      "cell_type": "code",
      "execution_count": null,
      "id": "qr0xeED_eKo1",
      "metadata": {
        "id": "qr0xeED_eKo1"
      },
      "outputs": [],
      "source": [
        "a = 'Андрей'\n",
        "b = \"Михайлович\""
      ]
    },
    {
      "cell_type": "code",
      "execution_count": null,
      "id": "jqRzU2ACeKo1",
      "metadata": {
        "id": "jqRzU2ACeKo1"
      },
      "outputs": [],
      "source": [
        "print(len(a))"
      ]
    },
    {
      "cell_type": "markdown",
      "id": "65400cf6-845a-4eb8-bdcd-870ddc6a3313",
      "metadata": {
        "id": "65400cf6-845a-4eb8-bdcd-870ddc6a3313"
      },
      "source": [
        "**Срезы**"
      ]
    },
    {
      "cell_type": "code",
      "execution_count": null,
      "id": "P7Swf1ngeKo1",
      "metadata": {
        "id": "P7Swf1ngeKo1"
      },
      "outputs": [],
      "source": [
        "print(a)\n",
        "print(a[0])\n",
        "print(a[1])\n",
        "print(a[0:3])\n",
        "print(a[-1])\n",
        "print('P' + a[1:])"
      ]
    },
    {
      "cell_type": "markdown",
      "id": "0888fff0-8fdb-4300-ae49-468952723c0a",
      "metadata": {
        "id": "0888fff0-8fdb-4300-ae49-468952723c0a"
      },
      "source": [
        "В примере выше: 'P' + s[1:] использовалась очень популярная операция над последовательностями в Питоне — взятие среза.\n",
        "\n",
        "В срезе s[i:j] полученная подпоследовательность включает в себя элементы с индексами из $[i, j)$."
      ]
    },
    {
      "cell_type": "markdown",
      "id": "30166de3-fe1a-433c-a15e-093251e8392d",
      "metadata": {
        "id": "30166de3-fe1a-433c-a15e-093251e8392d"
      },
      "source": [
        "Срез — извлечение из последовательности одного элемента или некоторого фрагмента (подпоследовательности).\n",
        "\n",
        "Синтаксис среза:\n",
        "\n",
        "\n",
        "``` python\n",
        "[<начало> : <конец> : <шаг>]\n",
        "```\n",
        "где\n",
        "* начало -  начало диапазона индексов\n",
        "* конец -  конец диапазона индексов\n",
        "* шаг - шаг диапазона (не обязательный параметр)\n"
      ]
    },
    {
      "cell_type": "code",
      "execution_count": null,
      "id": "zbKGQFugeKo1",
      "metadata": {
        "id": "zbKGQFugeKo1"
      },
      "outputs": [],
      "source": [
        "print(a[0:4:2])"
      ]
    },
    {
      "cell_type": "code",
      "execution_count": null,
      "id": "ee6f5f49-8734-4ff9-9254-65ae53ff8370",
      "metadata": {
        "id": "ee6f5f49-8734-4ff9-9254-65ae53ff8370"
      },
      "outputs": [],
      "source": [
        "s = 'python'"
      ]
    },
    {
      "cell_type": "code",
      "execution_count": null,
      "id": "0df08fed-dcae-4ad6-bb32-6f232401f876",
      "metadata": {
        "id": "0df08fed-dcae-4ad6-bb32-6f232401f876"
      },
      "outputs": [],
      "source": [
        "s[1:] # от s[1] до s[len(s) - 1]"
      ]
    },
    {
      "cell_type": "code",
      "execution_count": null,
      "id": "b202c936-a2b2-4ef2-a90d-2745ac6e0cb7",
      "metadata": {
        "id": "b202c936-a2b2-4ef2-a90d-2745ac6e0cb7"
      },
      "outputs": [],
      "source": [
        "s[:3] # от s[0] до s[2]"
      ]
    },
    {
      "cell_type": "markdown",
      "id": "51b8ff1a-8251-4835-826c-d4eb717f0474",
      "metadata": {
        "id": "51b8ff1a-8251-4835-826c-d4eb717f0474"
      },
      "source": [
        "Индекс -1 обозначает индекс последнего элемента последовательности. В общем случае обращение по отрицательному индексу `s[-i]` трактуется, как `s[len(s) - i]`."
      ]
    },
    {
      "cell_type": "code",
      "execution_count": null,
      "id": "7db39d99-cb5b-4d86-8fd5-ebb9d7286da2",
      "metadata": {
        "id": "7db39d99-cb5b-4d86-8fd5-ebb9d7286da2"
      },
      "outputs": [],
      "source": [
        "s[-1], s[-5:-1], s[len(s) - 5:len(s) - 1]"
      ]
    },
    {
      "cell_type": "code",
      "execution_count": null,
      "id": "a987902c-39f4-426c-a59a-bdd4fde0f6c6",
      "metadata": {
        "id": "a987902c-39f4-426c-a59a-bdd4fde0f6c6"
      },
      "outputs": [],
      "source": [
        "s[1:-1] # от s[1] до s[len(s) - 2]"
      ]
    },
    {
      "cell_type": "code",
      "execution_count": null,
      "id": "186b2837-1342-453c-a19a-7cde13712d9f",
      "metadata": {
        "id": "186b2837-1342-453c-a19a-7cde13712d9f"
      },
      "outputs": [],
      "source": [
        "s[::2] # от s[0] до s[len(s) - 1] с шагом 2"
      ]
    },
    {
      "cell_type": "markdown",
      "id": "33b4cfbd-4e0b-4fe3-9daa-1292ad25face",
      "metadata": {
        "id": "33b4cfbd-4e0b-4fe3-9daa-1292ad25face"
      },
      "source": [
        "Для неизменяемой последовательности, примером которой является строка, определен ряд общих операций:\n",
        "\n",
        "| Операция         | Описание                                |\n",
        "|------------------|-----------------------------------------|\n",
        "|      x in s      | Проверка на наличие x в s             |\n",
        "|    x not in s    | Проверка на отсутствие x в s            |\n",
        "|      s1 + s2     | Соединение последовательностей          |\n",
        "| s * n            | Последовательность из n повторений s    |\n",
        "| s[i]             | Получение элемента по индексу           |\n",
        "| s[i:j], s[i:j:k] | Получение подпоследовательности (среза) |\n",
        "| len(s)           | Длина s                                 |\n",
        "| max(s), min(s)   | Максимальный/минимальный элемент в s    |\n",
        "| s.index(x)       | Индекс первого вхождения x в s          |\n",
        "| s.count(x)       | Количество вхождений x в s              |"
      ]
    },
    {
      "cell_type": "markdown",
      "id": "ac07c0bf-af34-422c-be1f-ae0a083dea54",
      "metadata": {
        "id": "ac07c0bf-af34-422c-be1f-ae0a083dea54"
      },
      "source": [
        "Для экранирования специальных символов в Питоне используются знакомые программистам на C++ средства:"
      ]
    },
    {
      "cell_type": "code",
      "execution_count": null,
      "id": "82b20a02-0217-48db-9a3f-4d76e7985c11",
      "metadata": {
        "id": "82b20a02-0217-48db-9a3f-4d76e7985c11"
      },
      "outputs": [],
      "source": [
        "print('first\\nsecond')"
      ]
    },
    {
      "cell_type": "markdown",
      "id": "0e627814-be35-40fb-acc7-df1768023b3b",
      "metadata": {
        "id": "0e627814-be35-40fb-acc7-df1768023b3b"
      },
      "source": [
        "При необходимости, интерпретацию специальных символов можно отключить при использовании строкового литерала с префиксом r:"
      ]
    },
    {
      "cell_type": "code",
      "execution_count": null,
      "id": "70872b05-4a34-44a4-b094-ac937c750bfe",
      "metadata": {
        "id": "70872b05-4a34-44a4-b094-ac937c750bfe"
      },
      "outputs": [],
      "source": [
        "print(r'first\\nsecond')"
      ]
    },
    {
      "cell_type": "markdown",
      "id": "f7026343-3a66-4a21-8c09-44fb062c3ff3",
      "metadata": {
        "id": "f7026343-3a66-4a21-8c09-44fb062c3ff3"
      },
      "source": [
        "Следует избегать построения длинных строк с помощью тяжеловесной операции `+` (конкатенации). Большей производительности можно достичь с помощью метода `join()`, как показано ниже:"
      ]
    },
    {
      "cell_type": "code",
      "execution_count": null,
      "id": "9b5af45e-da6e-4ce3-9a18-77d702533763",
      "metadata": {
        "id": "9b5af45e-da6e-4ce3-9a18-77d702533763"
      },
      "outputs": [],
      "source": [
        "alpha = range(ord('А'), ord('Я') + 1)\n",
        "\n",
        "''.join([chr(c) for c in alpha])"
      ]
    },
    {
      "cell_type": "markdown",
      "id": "7bb7ae0e-ef00-4d45-ba31-b929224f79c9",
      "metadata": {
        "id": "7bb7ae0e-ef00-4d45-ba31-b929224f79c9"
      },
      "source": [
        "Описание других методов для работы со строками в Питоне можно найти в [официальной документации](https://docs.python.org/3/library/stdtypes.html#string-methods)."
      ]
    },
    {
      "cell_type": "code",
      "execution_count": null,
      "id": "4fO3W_ATeKo1",
      "metadata": {
        "id": "4fO3W_ATeKo1"
      },
      "outputs": [],
      "source": [
        "x = 'Винни Пух и Пятачок'\n",
        "\n",
        "print(x, type(x))\n",
        "print()\n",
        "\n",
        "y = x.encode('utf-8')\n",
        "\n",
        "print(y, type(y))\n",
        "print()\n",
        "\n",
        "w = y.decode('utf-8')\n",
        "\n",
        "print(w, type(w))\n",
        "print()\n",
        "\n",
        "q = y.decode('cp1251')\n",
        "\n",
        "print(q, type(q))"
      ]
    },
    {
      "cell_type": "markdown",
      "id": "984819df-bb00-464a-a13b-264a4bda015e",
      "metadata": {
        "id": "984819df-bb00-464a-a13b-264a4bda015e"
      },
      "source": [
        "# Задание\n",
        "Дана произвольная строка.\n",
        "1. Сначала выведите третий символ этой строки (считая, что нумерация символов начинается с 1).\n",
        "2. Во второй строке выведите предпоследний символ этой строки.\n",
        "3. В третьей строке выведите первые пять символов этой строки.\n",
        "4. В четвертой строке выведите всю строку, кроме последних двух символов.\n",
        "5. В пятой строке выведите все символы с четными индексами (считая, что индексация начинается с 0).\n",
        "6. В шестой строке выведите все символы с нечетными индексами (считая, что индексация начинается с 0).\n",
        "7. В седьмой строке выведите все символы в обратном порядке.\n",
        "8. В восьмой строке выведите все символы строки через один в обратном порядке, начиная с последнего.\n",
        "9. В девятой строке выведите длину данной строки.\n",
        "\n",
        "**Пример:**\n",
        "\n",
        "*Входные данные:*\n",
        "\n",
        "    Abrakadabra\n",
        "\n",
        "*Выходные данные:*\n",
        "\n",
        "    r\n",
        "    r\n",
        "    Abrak\n",
        "    Abrakadab\n",
        "    Arkdba\n",
        "    baaar\n",
        "    arbadakarbA\n",
        "    abdkrA\n",
        "    11"
      ]
    },
    {
      "cell_type": "code",
      "execution_count": null,
      "id": "847b51d1-18ea-4c2c-834d-66dce26c6d97",
      "metadata": {
        "colab": {
          "base_uri": "https://localhost:8080/"
        },
        "id": "847b51d1-18ea-4c2c-834d-66dce26c6d97",
        "outputId": "982b4c8c-17e0-4aa4-c666-a8464801f52f"
      },
      "outputs": [
        {
          "output_type": "stream",
          "name": "stdout",
          "text": [
            "и\n",
            "о\n",
            "длинн\n",
            "длиннаястрокабезпробел\n",
            "динятоаепоео\n",
            "лнасркбзрблв\n",
            "волеборпзебакортсяаннилд\n",
            "влбрзбкрсанл\n"
          ]
        },
        {
          "output_type": "execute_result",
          "data": {
            "text/plain": [
              "24"
            ]
          },
          "metadata": {},
          "execution_count": 28
        }
      ],
      "source": [
        "s = \"длиннаястрокабезпробелов\"\n",
        "print(s[2])\n",
        "print(s[-2])\n",
        "print(s[0:5])\n",
        "print(s[0:-2])\n",
        "print(s[0:40:2])\n",
        "print(s[1:40:2])\n",
        "print(s[::-1])\n",
        "print(s[::-2])\n",
        "len(s)\n"
      ]
    },
    {
      "cell_type": "code",
      "execution_count": null,
      "id": "40f0ec85-048f-435e-a871-0123f8671f49",
      "metadata": {
        "colab": {
          "base_uri": "https://localhost:8080/"
        },
        "id": "40f0ec85-048f-435e-a871-0123f8671f49",
        "outputId": "15c4b29b-cdca-43b7-e432-91e0e17a04d8"
      },
      "outputs": [
        {
          "output_type": "stream",
          "name": "stdout",
          "text": [
            "динятоаепоео!\n"
          ]
        }
      ],
      "source": []
    },
    {
      "cell_type": "code",
      "execution_count": null,
      "id": "6790183d-f5af-4974-a224-7a0df28d7548",
      "metadata": {
        "id": "6790183d-f5af-4974-a224-7a0df28d7548"
      },
      "outputs": [],
      "source": []
    },
    {
      "cell_type": "code",
      "execution_count": null,
      "id": "b4d431e6-fce4-41e9-9021-1c7a7d3b6d05",
      "metadata": {
        "id": "b4d431e6-fce4-41e9-9021-1c7a7d3b6d05"
      },
      "outputs": [],
      "source": []
    },
    {
      "cell_type": "code",
      "execution_count": null,
      "id": "59fcdb10-9bbf-46fb-bd51-d59e929715ce",
      "metadata": {
        "id": "59fcdb10-9bbf-46fb-bd51-d59e929715ce"
      },
      "outputs": [],
      "source": []
    },
    {
      "cell_type": "markdown",
      "id": "da8eb74c-7fcb-4e01-b71d-dc0360d3eeb2",
      "metadata": {
        "id": "da8eb74c-7fcb-4e01-b71d-dc0360d3eeb2"
      },
      "source": [
        "### Операции над строками\n",
        "\n",
        "Что мы можем с ними делать?\n",
        "\n",
        "- проверять условия\n",
        "- искать подстроки\n",
        "- превращать\n",
        "- разбивать\n",
        "- складывать"
      ]
    },
    {
      "cell_type": "markdown",
      "id": "608357e9-2610-45fd-a3f0-9f2a68c5a33e",
      "metadata": {
        "id": "608357e9-2610-45fd-a3f0-9f2a68c5a33e"
      },
      "source": [
        "### Условия\n",
        "\n",
        "- пустота\n",
        "- равенство\n",
        "- сравнения\n",
        "- вхождение подстроки"
      ]
    },
    {
      "cell_type": "code",
      "execution_count": null,
      "id": "57550194-a985-48c8-ac30-bf19e77b2e56",
      "metadata": {
        "id": "57550194-a985-48c8-ac30-bf19e77b2e56"
      },
      "outputs": [],
      "source": [
        "'two' in 'one, two, tree'"
      ]
    },
    {
      "cell_type": "code",
      "execution_count": null,
      "id": "ed95fb81-a9c2-4be7-84b1-e9ffd34b643a",
      "metadata": {
        "id": "ed95fb81-a9c2-4be7-84b1-e9ffd34b643a"
      },
      "outputs": [],
      "source": [
        "'four' not in 'one, two, tree'"
      ]
    },
    {
      "cell_type": "code",
      "execution_count": null,
      "id": "a786ff05-9070-4f3e-bffd-52ac61a0a30d",
      "metadata": {
        "id": "a786ff05-9070-4f3e-bffd-52ac61a0a30d"
      },
      "outputs": [],
      "source": [
        "# Условия вхождения\n",
        "# входит ли символ в строку?\n",
        "\n",
        "print('a' in 'abracadabra')"
      ]
    },
    {
      "cell_type": "code",
      "execution_count": null,
      "id": "28be7179-2487-4628-8bda-b61097f4842f",
      "metadata": {
        "id": "28be7179-2487-4628-8bda-b61097f4842f"
      },
      "outputs": [],
      "source": [
        "# более обще: входит ли подстрока в строку?\n",
        "\n",
        "print('cad' in 'abracadabra')"
      ]
    },
    {
      "cell_type": "code",
      "execution_count": null,
      "id": "f4dbee37-4f12-442b-8ce7-ecb9f8b9279b",
      "metadata": {
        "id": "f4dbee37-4f12-442b-8ce7-ecb9f8b9279b"
      },
      "outputs": [],
      "source": [
        "# \"не входит ли?\"\n",
        "\n",
        "print('bad' not in 'abracadabra')"
      ]
    },
    {
      "cell_type": "code",
      "execution_count": null,
      "id": "60f7a76f-5eaa-4b43-ae11-45e4b166c261",
      "metadata": {
        "id": "60f7a76f-5eaa-4b43-ae11-45e4b166c261"
      },
      "outputs": [],
      "source": [
        "digits = '0123456789'"
      ]
    },
    {
      "cell_type": "code",
      "execution_count": null,
      "id": "13a4f6fe-195e-428d-a02c-ce428bc219b6",
      "metadata": {
        "id": "13a4f6fe-195e-428d-a02c-ce428bc219b6"
      },
      "outputs": [],
      "source": [
        "# полуинтервалы\n",
        "\n",
        "print(digits[:3], digits[3:7], digits[7:])"
      ]
    },
    {
      "cell_type": "code",
      "execution_count": null,
      "id": "822fc5d8-75aa-4a82-a184-1a72a7ccc3c9",
      "metadata": {
        "id": "822fc5d8-75aa-4a82-a184-1a72a7ccc3c9"
      },
      "outputs": [],
      "source": [
        "# индексы можно отсчитывать и от конца: -N = len(s)-N\n",
        "\n",
        "print(digits[2:-4], digits[-8:6])"
      ]
    },
    {
      "cell_type": "code",
      "execution_count": null,
      "id": "d63a1743-90fe-4264-b400-3fdb29078b05",
      "metadata": {
        "id": "d63a1743-90fe-4264-b400-3fdb29078b05"
      },
      "outputs": [],
      "source": [
        "# полуинтервалы с произвольным шагом\n",
        "# разворот строки: \"от начала до конца с шагом -1\"\n",
        "\n",
        "print(digits[::-1])"
      ]
    },
    {
      "cell_type": "code",
      "execution_count": null,
      "id": "a06f3dc9-ef8a-4d68-97f2-cb7f88e91ca5",
      "metadata": {
        "id": "a06f3dc9-ef8a-4d68-97f2-cb7f88e91ca5"
      },
      "outputs": [],
      "source": [
        "print(digits[:7:-1], digits[7:3:-1], digits[3::-1])"
      ]
    },
    {
      "cell_type": "code",
      "execution_count": null,
      "id": "f610e3c8-d842-43ec-801d-13b89d69c4a0",
      "metadata": {
        "id": "f610e3c8-d842-43ec-801d-13b89d69c4a0"
      },
      "outputs": [],
      "source": [
        "# каждый второй символ (начиная с начала, начиная с первого)\n",
        "\n",
        "print(digits[::2], digits[1::2])"
      ]
    },
    {
      "cell_type": "code",
      "execution_count": null,
      "id": "f1c0bbf5-f83b-4c37-afa1-96f6c90917ce",
      "metadata": {
        "id": "f1c0bbf5-f83b-4c37-afa1-96f6c90917ce"
      },
      "outputs": [],
      "source": [
        "# разбиения по символу-разделителю\n",
        "\n",
        "print('   много слов  со  \\n\\t\\t всякими пробелами   '.split())\n",
        "print(':::слова:разделённые::двоеточиями:'.split(':'))"
      ]
    },
    {
      "cell_type": "code",
      "execution_count": null,
      "id": "cb9ce567-b757-432d-96b8-b4af2b507331",
      "metadata": {
        "id": "cb9ce567-b757-432d-96b8-b4af2b507331"
      },
      "outputs": [],
      "source": [
        "text = '''\n",
        "здесь будет\n",
        "несколько\n",
        "строк текста\n",
        "'''"
      ]
    },
    {
      "cell_type": "code",
      "execution_count": null,
      "id": "42b1f6a9-89bf-4730-b149-4dbf8d99c9f3",
      "metadata": {
        "id": "42b1f6a9-89bf-4730-b149-4dbf8d99c9f3"
      },
      "outputs": [],
      "source": [
        "text"
      ]
    },
    {
      "cell_type": "code",
      "execution_count": null,
      "id": "d8d79d50-5c9d-4a35-9cbb-bd824a6338a8",
      "metadata": {
        "id": "d8d79d50-5c9d-4a35-9cbb-bd824a6338a8"
      },
      "outputs": [],
      "source": [
        "print(text.splitlines())\n",
        "print(text.splitlines(True)) # не откусывать перевод строки на новую строку"
      ]
    },
    {
      "cell_type": "markdown",
      "id": "211e1a27-ac9b-4221-afbd-44374803ec0b",
      "metadata": {
        "id": "211e1a27-ac9b-4221-afbd-44374803ec0b"
      },
      "source": [
        "### Склеивание\n",
        "\n",
        "- с разделителем и без\n",
        "- фиксированное и произвольное количество строк\n",
        "- умножение"
      ]
    },
    {
      "cell_type": "code",
      "execution_count": null,
      "id": "1d82e68a-3ffc-4239-8d4a-cfd8d670d4a2",
      "metadata": {
        "id": "1d82e68a-3ffc-4239-8d4a-cfd8d670d4a2"
      },
      "outputs": [],
      "source": [
        "x, y, k = '<iks>', '<igrek>', '<kei>'"
      ]
    },
    {
      "cell_type": "code",
      "execution_count": null,
      "id": "616f40f7-7db6-4417-b315-3d9fd208cbb9",
      "metadata": {
        "id": "616f40f7-7db6-4417-b315-3d9fd208cbb9"
      },
      "outputs": [],
      "source": [
        "# сразу посмотрим на умножение\n",
        "\n",
        "print(x * 5)"
      ]
    },
    {
      "cell_type": "code",
      "execution_count": null,
      "id": "a267294b-ccc5-40f4-aeae-7a5dec0f72e9",
      "metadata": {
        "id": "a267294b-ccc5-40f4-aeae-7a5dec0f72e9"
      },
      "outputs": [],
      "source": [
        "# можно просто сложить\n",
        "\n",
        "print(x + y + k)"
      ]
    },
    {
      "cell_type": "code",
      "execution_count": null,
      "id": "86e2d1bf-e077-44f6-9955-66fa918ba449",
      "metadata": {
        "id": "86e2d1bf-e077-44f6-9955-66fa918ba449"
      },
      "outputs": [],
      "source": [
        "# или склеить функцией join\n",
        "\n",
        "print(''.join([x, y, k]))"
      ]
    },
    {
      "cell_type": "code",
      "execution_count": null,
      "id": "8370b5bf-0bdc-46b4-96fc-7152ddf5572e",
      "metadata": {
        "id": "8370b5bf-0bdc-46b4-96fc-7152ddf5572e"
      },
      "outputs": [],
      "source": [
        "print(x + ' : ' + y + ' : ' + k)\n",
        "\n",
        "print(f'{x} : {y} : {k}')\n",
        "\n",
        "print(' : '.join([x, y, k]))"
      ]
    },
    {
      "cell_type": "code",
      "execution_count": null,
      "id": "18224808-8568-4145-bfd9-0af5643a10fb",
      "metadata": {
        "id": "18224808-8568-4145-bfd9-0af5643a10fb"
      },
      "outputs": [],
      "source": [
        "print(':'.join('hello'))   # функции join всё равно,\n",
        "print(':'.join(['hello'])) # с элементами чего иметь дело"
      ]
    },
    {
      "cell_type": "markdown",
      "id": "c84357ae-92fe-4b1a-93c6-de666c9159ba",
      "metadata": {
        "id": "c84357ae-92fe-4b1a-93c6-de666c9159ba"
      },
      "source": [
        "# Задание (исходные данные придумываете индивидуально)\n",
        "1. Напишите программу, которая берет строку \"1; 2; 3; 100\" и возвращает:\n",
        "\n",
        "* список из целых чисел\n",
        "* список из чисел с плавающей точкой\n",
        "\n",
        "**Подсказка:** используйте метод `.split()` и конвертацию числа из одного типа в другой.\n",
        "\n",
        "2. Напишите программу, которая запрашивает у пользователя номер мобильного телефона, введенный через дефис, а возвращает номер, записанный без дефисов и пробелов.\n",
        "\n",
        "*Входные данные:*\n",
        "\n",
        "    8-900-123-45-67\n",
        "\n",
        "*Выходные данные:*\n",
        "\n",
        "    89001234567\n",
        "    \n",
        "**Подсказка:** используйте методы `.split()` и `.join()`.\n",
        "\n",
        "3. Напишите программу, которая принимает на вход список слов такого вида:\n",
        "\n",
        "    words = [\"Speak \",\"to\", \"me \", \"of\", \"Florence\" ,\"And \", \"of\", \"the\", \"Renaissance\"]\n",
        "\n",
        "а возвращает список\n",
        "\n",
        "    words_clean = [\"speak\", \"to\", \"me\", \"of\", \"florence\", \"and\", \"of\", \"the\", \"renaissance\"]\n",
        "\n",
        "Другими словами, программа убирает пробелы в словах и приводит все слова к нижнему регистру.\n",
        "\n",
        "**Подсказка:** запросите `help()`  по  методам `.strip()` и `.lower()`."
      ]
    },
    {
      "cell_type": "code",
      "execution_count": null,
      "id": "00f671e3-8197-4ce1-834d-2b02fb3de96b",
      "metadata": {
        "id": "00f671e3-8197-4ce1-834d-2b02fb3de96b",
        "colab": {
          "base_uri": "https://localhost:8080/"
        },
        "outputId": "f26c6566-ba91-4143-b7b4-91bdf8646268"
      },
      "outputs": [
        {
          "output_type": "stream",
          "name": "stdout",
          "text": [
            "[1, 2, 3, 100]\n",
            "[1.0, 2.0, 3.0, 100.0]\n"
          ]
        }
      ],
      "source": [
        "string = \"1; 2; 3; 100\"\n",
        "string_list = string.split(\"; \")\n",
        "int_list = [int(num) for num in string_list]\n",
        "float_list = [float(num) for num in string_list]\n",
        "\n",
        "print(int_list)\n",
        "print(float_list)"
      ]
    },
    {
      "cell_type": "code",
      "execution_count": null,
      "id": "2d87b85c-1c8d-4c56-b7ca-56f0ecc7d8f9",
      "metadata": {
        "id": "2d87b85c-1c8d-4c56-b7ca-56f0ecc7d8f9",
        "colab": {
          "base_uri": "https://localhost:8080/"
        },
        "outputId": "5c95fd7c-bf4a-4c00-e2b8-95d4986c79d2"
      },
      "outputs": [
        {
          "output_type": "stream",
          "name": "stdout",
          "text": [
            "Введите номер телефона через дефисы\n",
            "10-23-56\n",
            "102356\n"
          ]
        }
      ],
      "source": [
        "print(\"Введите номер телефона через дефисы\")\n",
        "numb = input()\n",
        "numb = numb.split(\"-\")\n",
        "\n",
        "print(\"\".join(numb))\n",
        "\n",
        "\n",
        "\n"
      ]
    },
    {
      "cell_type": "code",
      "execution_count": null,
      "id": "80264b21-d2fb-4d55-970c-7171cbe1dc49",
      "metadata": {
        "id": "80264b21-d2fb-4d55-970c-7171cbe1dc49",
        "colab": {
          "base_uri": "https://localhost:8080/"
        },
        "outputId": "187031b8-238d-485c-bd71-aa90b19b4ed7"
      },
      "outputs": [
        {
          "output_type": "stream",
          "name": "stdout",
          "text": [
            "['speak', 'to', 'me', 'of', 'florence', 'and', 'of', 'the', 'renaissance']\n"
          ]
        }
      ],
      "source": [
        "words = [\"Speak \", \"to\", \"me \", \"of\", \"Florence\", \"And \", \"of\", \"the\", \"Renaissance\"]\n",
        "words_clean = [word.strip().lower() for word in words]\n",
        "\n",
        "print(words_clean)"
      ]
    },
    {
      "cell_type": "code",
      "source": [],
      "metadata": {
        "id": "6314KgRFz2-9"
      },
      "id": "6314KgRFz2-9",
      "execution_count": null,
      "outputs": []
    }
  ],
  "metadata": {
    "colab": {
      "provenance": []
    },
    "kernelspec": {
      "display_name": "Python 3 (ipykernel)",
      "language": "python",
      "name": "python3"
    },
    "language_info": {
      "codemirror_mode": {
        "name": "ipython",
        "version": 3
      },
      "file_extension": ".py",
      "mimetype": "text/x-python",
      "name": "python",
      "nbconvert_exporter": "python",
      "pygments_lexer": "ipython3",
      "version": "3.11.7"
    }
  },
  "nbformat": 4,
  "nbformat_minor": 5
}